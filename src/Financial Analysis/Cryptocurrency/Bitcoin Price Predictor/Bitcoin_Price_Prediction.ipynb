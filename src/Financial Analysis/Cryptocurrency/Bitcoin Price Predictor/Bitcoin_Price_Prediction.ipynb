{
  "nbformat": 4,
  "nbformat_minor": 0,
  "metadata": {
    "kernelspec": {
      "display_name": "Python 3",
      "language": "python",
      "name": "python3"
    },
    "language_info": {
      "codemirror_mode": {
        "name": "ipython",
        "version": 3
      },
      "file_extension": ".py",
      "mimetype": "text/x-python",
      "name": "python",
      "nbconvert_exporter": "python",
      "pygments_lexer": "ipython3",
      "version": "3.7.4"
    },
    "colab": {
      "name": "Bitcoin Price Prediction Using RNN - LSTM.ipynb",
      "provenance": [],
      "include_colab_link": true
    }
  },
  "cells": [
    {
      "cell_type": "markdown",
      "metadata": {
        "id": "view-in-github",
        "colab_type": "text"
      },
      "source": [
        "<a href=\"https://colab.research.google.com/github/psyduck1203/Hands-on-ML-Basic-to-Advance-/blob/master/Bitcoin%20Price%20Predictor/Bitcoin_Price_Prediction.ipynb\" target=\"_parent\"><img src=\"https://colab.research.google.com/assets/colab-badge.svg\" alt=\"Open In Colab\"/></a>"
      ]
    },
    {
      "cell_type": "code",
      "metadata": {
        "id": "j1YyRji0O_U2"
      },
      "source": [
        "import numpy as np\n",
        "import matplotlib.pyplot as plt\n",
        "import pandas as pd\n",
        "from sklearn.preprocessing import MinMaxScaler"
      ],
      "execution_count": 1,
      "outputs": []
    },
    {
      "cell_type": "code",
      "metadata": {
        "colab": {
          "base_uri": "https://localhost:8080/",
          "height": 206
        },
        "id": "2qoaiq3sO_U9",
        "outputId": "8f02e326-76a6-4bae-ffa0-316086cf446c"
      },
      "source": [
        "data = pd.read_csv('/content/sample_data/BTC-USD.csv', date_parser = True)\n",
        "data.tail()"
      ],
      "execution_count": 2,
      "outputs": [
        {
          "output_type": "execute_result",
          "data": {
            "text/html": [
              "<div>\n",
              "<style scoped>\n",
              "    .dataframe tbody tr th:only-of-type {\n",
              "        vertical-align: middle;\n",
              "    }\n",
              "\n",
              "    .dataframe tbody tr th {\n",
              "        vertical-align: top;\n",
              "    }\n",
              "\n",
              "    .dataframe thead th {\n",
              "        text-align: right;\n",
              "    }\n",
              "</style>\n",
              "<table border=\"1\" class=\"dataframe\">\n",
              "  <thead>\n",
              "    <tr style=\"text-align: right;\">\n",
              "      <th></th>\n",
              "      <th>Date</th>\n",
              "      <th>Open</th>\n",
              "      <th>High</th>\n",
              "      <th>Low</th>\n",
              "      <th>Close</th>\n",
              "      <th>Adj Close</th>\n",
              "      <th>Volume</th>\n",
              "    </tr>\n",
              "  </thead>\n",
              "  <tbody>\n",
              "    <tr>\n",
              "      <th>2075</th>\n",
              "      <td>2020-05-23</td>\n",
              "      <td>9185.062500</td>\n",
              "      <td>9302.501953</td>\n",
              "      <td>9118.108398</td>\n",
              "      <td>9209.287109</td>\n",
              "      <td>9209.287109</td>\n",
              "      <td>2.772787e+10</td>\n",
              "    </tr>\n",
              "    <tr>\n",
              "      <th>2076</th>\n",
              "      <td>2020-05-24</td>\n",
              "      <td>9212.283203</td>\n",
              "      <td>9288.404297</td>\n",
              "      <td>8787.250977</td>\n",
              "      <td>8790.368164</td>\n",
              "      <td>8790.368164</td>\n",
              "      <td>3.251880e+10</td>\n",
              "    </tr>\n",
              "    <tr>\n",
              "      <th>2077</th>\n",
              "      <td>2020-05-25</td>\n",
              "      <td>8786.107422</td>\n",
              "      <td>8951.005859</td>\n",
              "      <td>8719.667969</td>\n",
              "      <td>8906.934570</td>\n",
              "      <td>8906.934570</td>\n",
              "      <td>3.128816e+10</td>\n",
              "    </tr>\n",
              "    <tr>\n",
              "      <th>2078</th>\n",
              "      <td>2020-05-26</td>\n",
              "      <td>NaN</td>\n",
              "      <td>NaN</td>\n",
              "      <td>NaN</td>\n",
              "      <td>NaN</td>\n",
              "      <td>NaN</td>\n",
              "      <td>NaN</td>\n",
              "    </tr>\n",
              "    <tr>\n",
              "      <th>2079</th>\n",
              "      <td>2020-05-27</td>\n",
              "      <td>8834.157227</td>\n",
              "      <td>8859.578125</td>\n",
              "      <td>8834.157227</td>\n",
              "      <td>8856.885742</td>\n",
              "      <td>8856.885742</td>\n",
              "      <td>2.914432e+10</td>\n",
              "    </tr>\n",
              "  </tbody>\n",
              "</table>\n",
              "</div>"
            ],
            "text/plain": [
              "            Date         Open  ...    Adj Close        Volume\n",
              "2075  2020-05-23  9185.062500  ...  9209.287109  2.772787e+10\n",
              "2076  2020-05-24  9212.283203  ...  8790.368164  3.251880e+10\n",
              "2077  2020-05-25  8786.107422  ...  8906.934570  3.128816e+10\n",
              "2078  2020-05-26          NaN  ...          NaN           NaN\n",
              "2079  2020-05-27  8834.157227  ...  8856.885742  2.914432e+10\n",
              "\n",
              "[5 rows x 7 columns]"
            ]
          },
          "metadata": {
            "tags": []
          },
          "execution_count": 2
        }
      ]
    },
    {
      "cell_type": "code",
      "metadata": {
        "colab": {
          "base_uri": "https://localhost:8080/",
          "height": 424
        },
        "id": "Tb_U8Da-O_VA",
        "outputId": "7b55a59a-c611-4f2d-c0af-d661bab332e3"
      },
      "source": [
        "data_training = data[data['Date']< '2020-01-01'].copy()\n",
        "data_training"
      ],
      "execution_count": 3,
      "outputs": [
        {
          "output_type": "execute_result",
          "data": {
            "text/html": [
              "<div>\n",
              "<style scoped>\n",
              "    .dataframe tbody tr th:only-of-type {\n",
              "        vertical-align: middle;\n",
              "    }\n",
              "\n",
              "    .dataframe tbody tr th {\n",
              "        vertical-align: top;\n",
              "    }\n",
              "\n",
              "    .dataframe thead th {\n",
              "        text-align: right;\n",
              "    }\n",
              "</style>\n",
              "<table border=\"1\" class=\"dataframe\">\n",
              "  <thead>\n",
              "    <tr style=\"text-align: right;\">\n",
              "      <th></th>\n",
              "      <th>Date</th>\n",
              "      <th>Open</th>\n",
              "      <th>High</th>\n",
              "      <th>Low</th>\n",
              "      <th>Close</th>\n",
              "      <th>Adj Close</th>\n",
              "      <th>Volume</th>\n",
              "    </tr>\n",
              "  </thead>\n",
              "  <tbody>\n",
              "    <tr>\n",
              "      <th>0</th>\n",
              "      <td>2014-09-17</td>\n",
              "      <td>465.864014</td>\n",
              "      <td>468.174011</td>\n",
              "      <td>452.421997</td>\n",
              "      <td>457.334015</td>\n",
              "      <td>457.334015</td>\n",
              "      <td>2.105680e+07</td>\n",
              "    </tr>\n",
              "    <tr>\n",
              "      <th>1</th>\n",
              "      <td>2014-09-18</td>\n",
              "      <td>456.859985</td>\n",
              "      <td>456.859985</td>\n",
              "      <td>413.104004</td>\n",
              "      <td>424.440002</td>\n",
              "      <td>424.440002</td>\n",
              "      <td>3.448320e+07</td>\n",
              "    </tr>\n",
              "    <tr>\n",
              "      <th>2</th>\n",
              "      <td>2014-09-19</td>\n",
              "      <td>424.102997</td>\n",
              "      <td>427.834991</td>\n",
              "      <td>384.532013</td>\n",
              "      <td>394.795990</td>\n",
              "      <td>394.795990</td>\n",
              "      <td>3.791970e+07</td>\n",
              "    </tr>\n",
              "    <tr>\n",
              "      <th>3</th>\n",
              "      <td>2014-09-20</td>\n",
              "      <td>394.673004</td>\n",
              "      <td>423.295990</td>\n",
              "      <td>389.882996</td>\n",
              "      <td>408.903992</td>\n",
              "      <td>408.903992</td>\n",
              "      <td>3.686360e+07</td>\n",
              "    </tr>\n",
              "    <tr>\n",
              "      <th>4</th>\n",
              "      <td>2014-09-21</td>\n",
              "      <td>408.084991</td>\n",
              "      <td>412.425995</td>\n",
              "      <td>393.181000</td>\n",
              "      <td>398.821014</td>\n",
              "      <td>398.821014</td>\n",
              "      <td>2.658010e+07</td>\n",
              "    </tr>\n",
              "    <tr>\n",
              "      <th>...</th>\n",
              "      <td>...</td>\n",
              "      <td>...</td>\n",
              "      <td>...</td>\n",
              "      <td>...</td>\n",
              "      <td>...</td>\n",
              "      <td>...</td>\n",
              "      <td>...</td>\n",
              "    </tr>\n",
              "    <tr>\n",
              "      <th>1927</th>\n",
              "      <td>2019-12-27</td>\n",
              "      <td>7238.141113</td>\n",
              "      <td>7363.529297</td>\n",
              "      <td>7189.934082</td>\n",
              "      <td>7290.088379</td>\n",
              "      <td>7290.088379</td>\n",
              "      <td>2.277736e+10</td>\n",
              "    </tr>\n",
              "    <tr>\n",
              "      <th>1928</th>\n",
              "      <td>2019-12-28</td>\n",
              "      <td>7289.031250</td>\n",
              "      <td>7399.041016</td>\n",
              "      <td>7286.905273</td>\n",
              "      <td>7317.990234</td>\n",
              "      <td>7317.990234</td>\n",
              "      <td>2.136567e+10</td>\n",
              "    </tr>\n",
              "    <tr>\n",
              "      <th>1929</th>\n",
              "      <td>2019-12-29</td>\n",
              "      <td>7317.647461</td>\n",
              "      <td>7513.948242</td>\n",
              "      <td>7279.865234</td>\n",
              "      <td>7422.652832</td>\n",
              "      <td>7422.652832</td>\n",
              "      <td>2.244526e+10</td>\n",
              "    </tr>\n",
              "    <tr>\n",
              "      <th>1930</th>\n",
              "      <td>2019-12-30</td>\n",
              "      <td>7420.272949</td>\n",
              "      <td>7454.824219</td>\n",
              "      <td>7276.308105</td>\n",
              "      <td>7292.995117</td>\n",
              "      <td>7292.995117</td>\n",
              "      <td>2.287413e+10</td>\n",
              "    </tr>\n",
              "    <tr>\n",
              "      <th>1931</th>\n",
              "      <td>2019-12-31</td>\n",
              "      <td>7294.438965</td>\n",
              "      <td>7335.290039</td>\n",
              "      <td>7169.777832</td>\n",
              "      <td>7193.599121</td>\n",
              "      <td>7193.599121</td>\n",
              "      <td>2.116795e+10</td>\n",
              "    </tr>\n",
              "  </tbody>\n",
              "</table>\n",
              "<p>1932 rows × 7 columns</p>\n",
              "</div>"
            ],
            "text/plain": [
              "            Date         Open  ...    Adj Close        Volume\n",
              "0     2014-09-17   465.864014  ...   457.334015  2.105680e+07\n",
              "1     2014-09-18   456.859985  ...   424.440002  3.448320e+07\n",
              "2     2014-09-19   424.102997  ...   394.795990  3.791970e+07\n",
              "3     2014-09-20   394.673004  ...   408.903992  3.686360e+07\n",
              "4     2014-09-21   408.084991  ...   398.821014  2.658010e+07\n",
              "...          ...          ...  ...          ...           ...\n",
              "1927  2019-12-27  7238.141113  ...  7290.088379  2.277736e+10\n",
              "1928  2019-12-28  7289.031250  ...  7317.990234  2.136567e+10\n",
              "1929  2019-12-29  7317.647461  ...  7422.652832  2.244526e+10\n",
              "1930  2019-12-30  7420.272949  ...  7292.995117  2.287413e+10\n",
              "1931  2019-12-31  7294.438965  ...  7193.599121  2.116795e+10\n",
              "\n",
              "[1932 rows x 7 columns]"
            ]
          },
          "metadata": {
            "tags": []
          },
          "execution_count": 3
        }
      ]
    },
    {
      "cell_type": "code",
      "metadata": {
        "colab": {
          "base_uri": "https://localhost:8080/",
          "height": 424
        },
        "id": "3zA-ZxIoO_VC",
        "outputId": "18cdee63-b7d2-4539-a24d-369862012608"
      },
      "source": [
        "data_test = data[data['Date']> '2020-01-01'].copy()\n",
        "data_test"
      ],
      "execution_count": 4,
      "outputs": [
        {
          "output_type": "execute_result",
          "data": {
            "text/html": [
              "<div>\n",
              "<style scoped>\n",
              "    .dataframe tbody tr th:only-of-type {\n",
              "        vertical-align: middle;\n",
              "    }\n",
              "\n",
              "    .dataframe tbody tr th {\n",
              "        vertical-align: top;\n",
              "    }\n",
              "\n",
              "    .dataframe thead th {\n",
              "        text-align: right;\n",
              "    }\n",
              "</style>\n",
              "<table border=\"1\" class=\"dataframe\">\n",
              "  <thead>\n",
              "    <tr style=\"text-align: right;\">\n",
              "      <th></th>\n",
              "      <th>Date</th>\n",
              "      <th>Open</th>\n",
              "      <th>High</th>\n",
              "      <th>Low</th>\n",
              "      <th>Close</th>\n",
              "      <th>Adj Close</th>\n",
              "      <th>Volume</th>\n",
              "    </tr>\n",
              "  </thead>\n",
              "  <tbody>\n",
              "    <tr>\n",
              "      <th>1933</th>\n",
              "      <td>2020-01-02</td>\n",
              "      <td>7202.551270</td>\n",
              "      <td>7212.155273</td>\n",
              "      <td>6935.270020</td>\n",
              "      <td>6985.470215</td>\n",
              "      <td>6985.470215</td>\n",
              "      <td>2.080208e+10</td>\n",
              "    </tr>\n",
              "    <tr>\n",
              "      <th>1934</th>\n",
              "      <td>2020-01-03</td>\n",
              "      <td>6984.428711</td>\n",
              "      <td>7413.715332</td>\n",
              "      <td>6914.996094</td>\n",
              "      <td>7344.884277</td>\n",
              "      <td>7344.884277</td>\n",
              "      <td>2.811148e+10</td>\n",
              "    </tr>\n",
              "    <tr>\n",
              "      <th>1935</th>\n",
              "      <td>2020-01-04</td>\n",
              "      <td>7345.375488</td>\n",
              "      <td>7427.385742</td>\n",
              "      <td>7309.514160</td>\n",
              "      <td>7410.656738</td>\n",
              "      <td>7410.656738</td>\n",
              "      <td>1.844427e+10</td>\n",
              "    </tr>\n",
              "    <tr>\n",
              "      <th>1936</th>\n",
              "      <td>2020-01-05</td>\n",
              "      <td>7410.451660</td>\n",
              "      <td>7544.497070</td>\n",
              "      <td>7400.535645</td>\n",
              "      <td>7411.317383</td>\n",
              "      <td>7411.317383</td>\n",
              "      <td>1.972507e+10</td>\n",
              "    </tr>\n",
              "    <tr>\n",
              "      <th>1937</th>\n",
              "      <td>2020-01-06</td>\n",
              "      <td>7410.452148</td>\n",
              "      <td>7781.867188</td>\n",
              "      <td>7409.292969</td>\n",
              "      <td>7769.219238</td>\n",
              "      <td>7769.219238</td>\n",
              "      <td>2.327626e+10</td>\n",
              "    </tr>\n",
              "    <tr>\n",
              "      <th>...</th>\n",
              "      <td>...</td>\n",
              "      <td>...</td>\n",
              "      <td>...</td>\n",
              "      <td>...</td>\n",
              "      <td>...</td>\n",
              "      <td>...</td>\n",
              "      <td>...</td>\n",
              "    </tr>\n",
              "    <tr>\n",
              "      <th>2075</th>\n",
              "      <td>2020-05-23</td>\n",
              "      <td>9185.062500</td>\n",
              "      <td>9302.501953</td>\n",
              "      <td>9118.108398</td>\n",
              "      <td>9209.287109</td>\n",
              "      <td>9209.287109</td>\n",
              "      <td>2.772787e+10</td>\n",
              "    </tr>\n",
              "    <tr>\n",
              "      <th>2076</th>\n",
              "      <td>2020-05-24</td>\n",
              "      <td>9212.283203</td>\n",
              "      <td>9288.404297</td>\n",
              "      <td>8787.250977</td>\n",
              "      <td>8790.368164</td>\n",
              "      <td>8790.368164</td>\n",
              "      <td>3.251880e+10</td>\n",
              "    </tr>\n",
              "    <tr>\n",
              "      <th>2077</th>\n",
              "      <td>2020-05-25</td>\n",
              "      <td>8786.107422</td>\n",
              "      <td>8951.005859</td>\n",
              "      <td>8719.667969</td>\n",
              "      <td>8906.934570</td>\n",
              "      <td>8906.934570</td>\n",
              "      <td>3.128816e+10</td>\n",
              "    </tr>\n",
              "    <tr>\n",
              "      <th>2078</th>\n",
              "      <td>2020-05-26</td>\n",
              "      <td>NaN</td>\n",
              "      <td>NaN</td>\n",
              "      <td>NaN</td>\n",
              "      <td>NaN</td>\n",
              "      <td>NaN</td>\n",
              "      <td>NaN</td>\n",
              "    </tr>\n",
              "    <tr>\n",
              "      <th>2079</th>\n",
              "      <td>2020-05-27</td>\n",
              "      <td>8834.157227</td>\n",
              "      <td>8859.578125</td>\n",
              "      <td>8834.157227</td>\n",
              "      <td>8856.885742</td>\n",
              "      <td>8856.885742</td>\n",
              "      <td>2.914432e+10</td>\n",
              "    </tr>\n",
              "  </tbody>\n",
              "</table>\n",
              "<p>147 rows × 7 columns</p>\n",
              "</div>"
            ],
            "text/plain": [
              "            Date         Open  ...    Adj Close        Volume\n",
              "1933  2020-01-02  7202.551270  ...  6985.470215  2.080208e+10\n",
              "1934  2020-01-03  6984.428711  ...  7344.884277  2.811148e+10\n",
              "1935  2020-01-04  7345.375488  ...  7410.656738  1.844427e+10\n",
              "1936  2020-01-05  7410.451660  ...  7411.317383  1.972507e+10\n",
              "1937  2020-01-06  7410.452148  ...  7769.219238  2.327626e+10\n",
              "...          ...          ...  ...          ...           ...\n",
              "2075  2020-05-23  9185.062500  ...  9209.287109  2.772787e+10\n",
              "2076  2020-05-24  9212.283203  ...  8790.368164  3.251880e+10\n",
              "2077  2020-05-25  8786.107422  ...  8906.934570  3.128816e+10\n",
              "2078  2020-05-26          NaN  ...          NaN           NaN\n",
              "2079  2020-05-27  8834.157227  ...  8856.885742  2.914432e+10\n",
              "\n",
              "[147 rows x 7 columns]"
            ]
          },
          "metadata": {
            "tags": []
          },
          "execution_count": 4
        }
      ]
    },
    {
      "cell_type": "code",
      "metadata": {
        "colab": {
          "base_uri": "https://localhost:8080/",
          "height": 206
        },
        "id": "nN2D2CCzO_VE",
        "outputId": "63e864e0-2fee-4108-b575-33d6c19e14ba"
      },
      "source": [
        "training_data = data_training.drop(['Date', 'Adj Close'], axis = 1)\n",
        "training_data.head()"
      ],
      "execution_count": 5,
      "outputs": [
        {
          "output_type": "execute_result",
          "data": {
            "text/html": [
              "<div>\n",
              "<style scoped>\n",
              "    .dataframe tbody tr th:only-of-type {\n",
              "        vertical-align: middle;\n",
              "    }\n",
              "\n",
              "    .dataframe tbody tr th {\n",
              "        vertical-align: top;\n",
              "    }\n",
              "\n",
              "    .dataframe thead th {\n",
              "        text-align: right;\n",
              "    }\n",
              "</style>\n",
              "<table border=\"1\" class=\"dataframe\">\n",
              "  <thead>\n",
              "    <tr style=\"text-align: right;\">\n",
              "      <th></th>\n",
              "      <th>Open</th>\n",
              "      <th>High</th>\n",
              "      <th>Low</th>\n",
              "      <th>Close</th>\n",
              "      <th>Volume</th>\n",
              "    </tr>\n",
              "  </thead>\n",
              "  <tbody>\n",
              "    <tr>\n",
              "      <th>0</th>\n",
              "      <td>465.864014</td>\n",
              "      <td>468.174011</td>\n",
              "      <td>452.421997</td>\n",
              "      <td>457.334015</td>\n",
              "      <td>21056800.0</td>\n",
              "    </tr>\n",
              "    <tr>\n",
              "      <th>1</th>\n",
              "      <td>456.859985</td>\n",
              "      <td>456.859985</td>\n",
              "      <td>413.104004</td>\n",
              "      <td>424.440002</td>\n",
              "      <td>34483200.0</td>\n",
              "    </tr>\n",
              "    <tr>\n",
              "      <th>2</th>\n",
              "      <td>424.102997</td>\n",
              "      <td>427.834991</td>\n",
              "      <td>384.532013</td>\n",
              "      <td>394.795990</td>\n",
              "      <td>37919700.0</td>\n",
              "    </tr>\n",
              "    <tr>\n",
              "      <th>3</th>\n",
              "      <td>394.673004</td>\n",
              "      <td>423.295990</td>\n",
              "      <td>389.882996</td>\n",
              "      <td>408.903992</td>\n",
              "      <td>36863600.0</td>\n",
              "    </tr>\n",
              "    <tr>\n",
              "      <th>4</th>\n",
              "      <td>408.084991</td>\n",
              "      <td>412.425995</td>\n",
              "      <td>393.181000</td>\n",
              "      <td>398.821014</td>\n",
              "      <td>26580100.0</td>\n",
              "    </tr>\n",
              "  </tbody>\n",
              "</table>\n",
              "</div>"
            ],
            "text/plain": [
              "         Open        High         Low       Close      Volume\n",
              "0  465.864014  468.174011  452.421997  457.334015  21056800.0\n",
              "1  456.859985  456.859985  413.104004  424.440002  34483200.0\n",
              "2  424.102997  427.834991  384.532013  394.795990  37919700.0\n",
              "3  394.673004  423.295990  389.882996  408.903992  36863600.0\n",
              "4  408.084991  412.425995  393.181000  398.821014  26580100.0"
            ]
          },
          "metadata": {
            "tags": []
          },
          "execution_count": 5
        }
      ]
    },
    {
      "cell_type": "code",
      "metadata": {
        "colab": {
          "base_uri": "https://localhost:8080/"
        },
        "id": "WeMzT-B-O_VF",
        "outputId": "56d4894f-a9cf-41b0-f316-cb4c3de96c54"
      },
      "source": [
        "scaler = MinMaxScaler()\n",
        "training_data = scaler.fit_transform(training_data)\n",
        "training_data"
      ],
      "execution_count": 6,
      "outputs": [
        {
          "output_type": "execute_result",
          "data": {
            "text/plain": [
              "array([[1.49732345e-02, 1.29013200e-02, 1.49400698e-02, 1.44534769e-02,\n",
              "        3.35749244e-04],\n",
              "       [1.45066780e-02, 1.23321258e-02, 1.28489753e-02, 1.27508263e-02,\n",
              "        6.33453324e-04],\n",
              "       [1.28093283e-02, 1.08719155e-02, 1.13293978e-02, 1.12164013e-02,\n",
              "        7.09650970e-04],\n",
              "       ...,\n",
              "       [3.70008086e-01, 3.67365217e-01, 3.78051927e-01, 3.74990337e-01,\n",
              "        4.97548412e-01],\n",
              "       [3.75325771e-01, 3.64390763e-01, 3.77862744e-01, 3.68279031e-01,\n",
              "        5.07057851e-01],\n",
              "       [3.68805505e-01, 3.58377151e-01, 3.72197021e-01, 3.63134123e-01,\n",
              "        4.69226533e-01]])"
            ]
          },
          "metadata": {
            "tags": []
          },
          "execution_count": 6
        }
      ]
    },
    {
      "cell_type": "code",
      "metadata": {
        "id": "k5THccptO_VH"
      },
      "source": [
        "X_train = []\n",
        "Y_train = []"
      ],
      "execution_count": 7,
      "outputs": []
    },
    {
      "cell_type": "code",
      "metadata": {
        "colab": {
          "base_uri": "https://localhost:8080/"
        },
        "id": "vXfq0kdXO_VH",
        "outputId": "a2a96c8e-683b-4823-a660-a7d69890f69b"
      },
      "source": [
        "training_data.shape[0]"
      ],
      "execution_count": 8,
      "outputs": [
        {
          "output_type": "execute_result",
          "data": {
            "text/plain": [
              "1932"
            ]
          },
          "metadata": {
            "tags": []
          },
          "execution_count": 8
        }
      ]
    },
    {
      "cell_type": "code",
      "metadata": {
        "id": "3aAUWNkSO_VI"
      },
      "source": [
        "for i in range(60, training_data.shape[0]):\n",
        "    X_train.append(training_data[i-60:i])\n",
        "    Y_train.append(training_data[i,0])"
      ],
      "execution_count": 9,
      "outputs": []
    },
    {
      "cell_type": "code",
      "metadata": {
        "id": "FYI1PWZUO_VL"
      },
      "source": [
        "X_train, Y_train = np.array(X_train), np.array(Y_train)"
      ],
      "execution_count": 10,
      "outputs": []
    },
    {
      "cell_type": "code",
      "metadata": {
        "colab": {
          "base_uri": "https://localhost:8080/"
        },
        "id": "RK_Dw1bqO_VM",
        "outputId": "826e46ce-70eb-49b0-ddf6-f3147b65fc12"
      },
      "source": [
        "X_train.shape"
      ],
      "execution_count": 11,
      "outputs": [
        {
          "output_type": "execute_result",
          "data": {
            "text/plain": [
              "(1872, 60, 5)"
            ]
          },
          "metadata": {
            "tags": []
          },
          "execution_count": 11
        }
      ]
    },
    {
      "cell_type": "code",
      "metadata": {
        "id": "B8MRYA1SO_VP"
      },
      "source": [
        "from tensorflow.keras import Sequential\n",
        "from tensorflow.keras.layers import Dense, LSTM, Dropout"
      ],
      "execution_count": 12,
      "outputs": []
    },
    {
      "cell_type": "code",
      "metadata": {
        "id": "1R7D6GL8O_VQ"
      },
      "source": [
        "regressor = Sequential()\n",
        "regressor.add(LSTM(units = 50, activation = 'relu', return_sequences = True, input_shape = (X_train.shape[1], 5)))\n",
        "regressor.add(Dropout(0.2))"
      ],
      "execution_count": 13,
      "outputs": []
    },
    {
      "cell_type": "code",
      "metadata": {
        "id": "exIMrC0VO_VR"
      },
      "source": [
        "regressor.add(LSTM(units = 60, activation = 'relu', return_sequences = True))\n",
        "regressor.add(Dropout(0.3))\n",
        "\n",
        "regressor.add(LSTM(units = 80, activation = 'relu', return_sequences = True))\n",
        "regressor.add(Dropout(0.4))\n",
        "\n",
        "regressor.add(LSTM(units = 120, activation = 'relu'))\n",
        "regressor.add(Dropout(0.5))\n",
        "\n",
        "regressor.add(Dense(units =1))"
      ],
      "execution_count": 14,
      "outputs": []
    },
    {
      "cell_type": "code",
      "metadata": {
        "colab": {
          "base_uri": "https://localhost:8080/"
        },
        "id": "1MFd4GuOO_VR",
        "outputId": "f0d616d4-570d-478a-ef75-9ee6f63edf30"
      },
      "source": [
        "regressor.summary()"
      ],
      "execution_count": 15,
      "outputs": [
        {
          "output_type": "stream",
          "text": [
            "Model: \"sequential\"\n",
            "_________________________________________________________________\n",
            "Layer (type)                 Output Shape              Param #   \n",
            "=================================================================\n",
            "lstm (LSTM)                  (None, 60, 50)            11200     \n",
            "_________________________________________________________________\n",
            "dropout (Dropout)            (None, 60, 50)            0         \n",
            "_________________________________________________________________\n",
            "lstm_1 (LSTM)                (None, 60, 60)            26640     \n",
            "_________________________________________________________________\n",
            "dropout_1 (Dropout)          (None, 60, 60)            0         \n",
            "_________________________________________________________________\n",
            "lstm_2 (LSTM)                (None, 60, 80)            45120     \n",
            "_________________________________________________________________\n",
            "dropout_2 (Dropout)          (None, 60, 80)            0         \n",
            "_________________________________________________________________\n",
            "lstm_3 (LSTM)                (None, 120)               96480     \n",
            "_________________________________________________________________\n",
            "dropout_3 (Dropout)          (None, 120)               0         \n",
            "_________________________________________________________________\n",
            "dense (Dense)                (None, 1)                 121       \n",
            "=================================================================\n",
            "Total params: 179,561\n",
            "Trainable params: 179,561\n",
            "Non-trainable params: 0\n",
            "_________________________________________________________________\n"
          ],
          "name": "stdout"
        }
      ]
    },
    {
      "cell_type": "code",
      "metadata": {
        "id": "EwQ7xPmrO_VT"
      },
      "source": [
        "regressor.compile(optimizer = 'adam', loss = 'mean_squared_error')"
      ],
      "execution_count": 16,
      "outputs": []
    },
    {
      "cell_type": "code",
      "metadata": {
        "colab": {
          "base_uri": "https://localhost:8080/"
        },
        "id": "wAS76L2HO_VU",
        "outputId": "64da34f8-acef-4c4e-8866-bb0a111fe60d"
      },
      "source": [
        "regressor.fit(X_train, Y_train, epochs = 20, batch_size =50)"
      ],
      "execution_count": 17,
      "outputs": [
        {
          "output_type": "stream",
          "text": [
            "Epoch 1/20\n",
            "38/38 [==============================] - 11s 185ms/step - loss: 0.0191\n",
            "Epoch 2/20\n",
            "38/38 [==============================] - 7s 183ms/step - loss: 0.0051\n",
            "Epoch 3/20\n",
            "38/38 [==============================] - 7s 183ms/step - loss: 0.0046\n",
            "Epoch 4/20\n",
            "38/38 [==============================] - 7s 184ms/step - loss: 0.0046\n",
            "Epoch 5/20\n",
            "38/38 [==============================] - 7s 184ms/step - loss: 0.0037\n",
            "Epoch 6/20\n",
            "38/38 [==============================] - 7s 182ms/step - loss: 0.0052\n",
            "Epoch 7/20\n",
            "38/38 [==============================] - 7s 184ms/step - loss: 0.0036\n",
            "Epoch 8/20\n",
            "38/38 [==============================] - 7s 185ms/step - loss: 0.0033\n",
            "Epoch 9/20\n",
            "38/38 [==============================] - 7s 182ms/step - loss: 0.0031\n",
            "Epoch 10/20\n",
            "38/38 [==============================] - 7s 183ms/step - loss: 0.0028\n",
            "Epoch 11/20\n",
            "38/38 [==============================] - 7s 183ms/step - loss: 0.0027\n",
            "Epoch 12/20\n",
            "38/38 [==============================] - 7s 183ms/step - loss: 0.0028\n",
            "Epoch 13/20\n",
            "38/38 [==============================] - 7s 183ms/step - loss: 0.0026\n",
            "Epoch 14/20\n",
            "38/38 [==============================] - 7s 183ms/step - loss: 0.0025\n",
            "Epoch 15/20\n",
            "38/38 [==============================] - 7s 183ms/step - loss: 0.0026\n",
            "Epoch 16/20\n",
            "38/38 [==============================] - 7s 184ms/step - loss: 0.0026\n",
            "Epoch 17/20\n",
            "38/38 [==============================] - 7s 183ms/step - loss: 0.0025\n",
            "Epoch 18/20\n",
            "38/38 [==============================] - 7s 183ms/step - loss: 0.0022\n",
            "Epoch 19/20\n",
            "38/38 [==============================] - 7s 183ms/step - loss: 0.0022\n",
            "Epoch 20/20\n",
            "38/38 [==============================] - 7s 184ms/step - loss: 0.0024\n"
          ],
          "name": "stdout"
        },
        {
          "output_type": "execute_result",
          "data": {
            "text/plain": [
              "<tensorflow.python.keras.callbacks.History at 0x7faddaf8ced0>"
            ]
          },
          "metadata": {
            "tags": []
          },
          "execution_count": 17
        }
      ]
    },
    {
      "cell_type": "code",
      "metadata": {
        "colab": {
          "base_uri": "https://localhost:8080/",
          "height": 206
        },
        "id": "P9m3OMuBO_VV",
        "outputId": "e58e6577-f796-43bd-b1e6-23b74e535926"
      },
      "source": [
        "past_60_days = data_training.tail(60)\n",
        "df= past_60_days.append(data_test, ignore_index = True)\n",
        "df = df.drop(['Date', 'Adj Close'], axis = 1)\n",
        "df.head()"
      ],
      "execution_count": 18,
      "outputs": [
        {
          "output_type": "execute_result",
          "data": {
            "text/html": [
              "<div>\n",
              "<style scoped>\n",
              "    .dataframe tbody tr th:only-of-type {\n",
              "        vertical-align: middle;\n",
              "    }\n",
              "\n",
              "    .dataframe tbody tr th {\n",
              "        vertical-align: top;\n",
              "    }\n",
              "\n",
              "    .dataframe thead th {\n",
              "        text-align: right;\n",
              "    }\n",
              "</style>\n",
              "<table border=\"1\" class=\"dataframe\">\n",
              "  <thead>\n",
              "    <tr style=\"text-align: right;\">\n",
              "      <th></th>\n",
              "      <th>Open</th>\n",
              "      <th>High</th>\n",
              "      <th>Low</th>\n",
              "      <th>Close</th>\n",
              "      <th>Volume</th>\n",
              "    </tr>\n",
              "  </thead>\n",
              "  <tbody>\n",
              "    <tr>\n",
              "      <th>0</th>\n",
              "      <td>9259.783203</td>\n",
              "      <td>9377.486328</td>\n",
              "      <td>9249.587891</td>\n",
              "      <td>9324.717773</td>\n",
              "      <td>2.124268e+10</td>\n",
              "    </tr>\n",
              "    <tr>\n",
              "      <th>1</th>\n",
              "      <td>9324.787109</td>\n",
              "      <td>9379.806641</td>\n",
              "      <td>9141.251953</td>\n",
              "      <td>9235.354492</td>\n",
              "      <td>2.113222e+10</td>\n",
              "    </tr>\n",
              "    <tr>\n",
              "      <th>2</th>\n",
              "      <td>9235.607422</td>\n",
              "      <td>9505.051758</td>\n",
              "      <td>9191.485352</td>\n",
              "      <td>9412.612305</td>\n",
              "      <td>2.617026e+10</td>\n",
              "    </tr>\n",
              "    <tr>\n",
              "      <th>3</th>\n",
              "      <td>9413.004883</td>\n",
              "      <td>9457.417969</td>\n",
              "      <td>9256.931641</td>\n",
              "      <td>9342.527344</td>\n",
              "      <td>2.619861e+10</td>\n",
              "    </tr>\n",
              "    <tr>\n",
              "      <th>4</th>\n",
              "      <td>9340.864258</td>\n",
              "      <td>9423.237305</td>\n",
              "      <td>9305.909180</td>\n",
              "      <td>9360.879883</td>\n",
              "      <td>2.313390e+10</td>\n",
              "    </tr>\n",
              "  </tbody>\n",
              "</table>\n",
              "</div>"
            ],
            "text/plain": [
              "          Open         High          Low        Close        Volume\n",
              "0  9259.783203  9377.486328  9249.587891  9324.717773  2.124268e+10\n",
              "1  9324.787109  9379.806641  9141.251953  9235.354492  2.113222e+10\n",
              "2  9235.607422  9505.051758  9191.485352  9412.612305  2.617026e+10\n",
              "3  9413.004883  9457.417969  9256.931641  9342.527344  2.619861e+10\n",
              "4  9340.864258  9423.237305  9305.909180  9360.879883  2.313390e+10"
            ]
          },
          "metadata": {
            "tags": []
          },
          "execution_count": 18
        }
      ]
    },
    {
      "cell_type": "code",
      "metadata": {
        "colab": {
          "base_uri": "https://localhost:8080/"
        },
        "id": "XnUyBq48O_VX",
        "outputId": "e7002d14-2ab6-4aae-fe42-97b25320dea8"
      },
      "source": [
        "inputs = scaler.transform(df)\n",
        "inputs"
      ],
      "execution_count": 19,
      "outputs": [
        {
          "output_type": "execute_result",
          "data": {
            "text/plain": [
              "array([[0.4706426 , 0.46111744, 0.48280998, 0.47344448, 0.47088353],\n",
              "       [0.47401087, 0.46123417, 0.47704822, 0.46881889, 0.4684344 ],\n",
              "       [0.4693899 , 0.46753509, 0.47971984, 0.47799406, 0.58014293],\n",
              "       ...,\n",
              "       [0.44609842, 0.43966175, 0.45462663, 0.45181931, 0.69362236],\n",
              "       [       nan,        nan,        nan,        nan,        nan],\n",
              "       [0.44858819, 0.43506214, 0.46071565, 0.44922869, 0.64608693]])"
            ]
          },
          "metadata": {
            "tags": []
          },
          "execution_count": 19
        }
      ]
    },
    {
      "cell_type": "code",
      "metadata": {
        "id": "gogtVVwtO_VY"
      },
      "source": [
        "X_test = []\n",
        "Y_test = []\n",
        "for i in range (60, inputs.shape[0]):\n",
        "    X_test.append(inputs[i-60:i])\n",
        "    Y_test.append(inputs[i, 0])"
      ],
      "execution_count": 20,
      "outputs": []
    },
    {
      "cell_type": "code",
      "metadata": {
        "colab": {
          "base_uri": "https://localhost:8080/"
        },
        "id": "6ZKlbWeIO_VZ",
        "outputId": "3aa38a11-b8fd-42c9-fc78-f700edf07fd4"
      },
      "source": [
        "X_test, Y_test = np.array(X_test), np.array(Y_test)\n",
        "X_test.shape, Y_test.shape"
      ],
      "execution_count": 21,
      "outputs": [
        {
          "output_type": "execute_result",
          "data": {
            "text/plain": [
              "((147, 60, 5), (147,))"
            ]
          },
          "metadata": {
            "tags": []
          },
          "execution_count": 21
        }
      ]
    },
    {
      "cell_type": "code",
      "metadata": {
        "colab": {
          "base_uri": "https://localhost:8080/"
        },
        "id": "hllRzjkYO_Va",
        "outputId": "ff3e956f-a944-40d2-d8a6-bd77fe818d13"
      },
      "source": [
        "Y_pred = regressor.predict(X_test)\n",
        "Y_pred, Y_test"
      ],
      "execution_count": 22,
      "outputs": [
        {
          "output_type": "execute_result",
          "data": {
            "text/plain": [
              "(array([[0.34013247],\n",
              "        [0.33989665],\n",
              "        [0.33954954],\n",
              "        [0.33907995],\n",
              "        [0.33859783],\n",
              "        [0.338462  ],\n",
              "        [0.33942494],\n",
              "        [0.34210616],\n",
              "        [0.346132  ],\n",
              "        [0.3510932 ],\n",
              "        [0.35645616],\n",
              "        [0.36162573],\n",
              "        [0.36619073],\n",
              "        [0.37126786],\n",
              "        [0.37740648],\n",
              "        [0.3841092 ],\n",
              "        [0.39104384],\n",
              "        [0.39767748],\n",
              "        [0.40361473],\n",
              "        [0.4081161 ],\n",
              "        [0.41078222],\n",
              "        [0.41159534],\n",
              "        [0.41082487],\n",
              "        [0.40875536],\n",
              "        [0.40560764],\n",
              "        [0.40185475],\n",
              "        [0.39843935],\n",
              "        [0.3965401 ],\n",
              "        [0.39676225],\n",
              "        [0.3992415 ],\n",
              "        [0.4034778 ],\n",
              "        [0.40861621],\n",
              "        [0.41405722],\n",
              "        [0.41929102],\n",
              "        [0.42376894],\n",
              "        [0.42758217],\n",
              "        [0.43117058],\n",
              "        [0.43467793],\n",
              "        [0.43814507],\n",
              "        [0.44168335],\n",
              "        [0.44542167],\n",
              "        [0.4491947 ],\n",
              "        [0.45334393],\n",
              "        [0.4582405 ],\n",
              "        [0.46345794],\n",
              "        [0.46842483],\n",
              "        [0.47250915],\n",
              "        [0.4754759 ],\n",
              "        [0.47747928],\n",
              "        [0.47869343],\n",
              "        [0.47899434],\n",
              "        [0.47823238],\n",
              "        [0.47626653],\n",
              "        [0.47352582],\n",
              "        [0.47063306],\n",
              "        [0.4677323 ],\n",
              "        [0.46519694],\n",
              "        [0.4627729 ],\n",
              "        [0.46021315],\n",
              "        [0.45693713],\n",
              "        [0.45271003],\n",
              "        [0.44800985],\n",
              "        [0.4433306 ],\n",
              "        [0.438684  ],\n",
              "        [0.4343999 ],\n",
              "        [0.43087754],\n",
              "        [0.4280805 ],\n",
              "        [0.42583793],\n",
              "        [0.42416942],\n",
              "        [0.42274883],\n",
              "        [0.42108598],\n",
              "        [0.41912314],\n",
              "        [0.4176138 ],\n",
              "        [0.41505003],\n",
              "        [0.41047868],\n",
              "        [0.4040462 ],\n",
              "        [0.39594176],\n",
              "        [0.38655713],\n",
              "        [0.37711978],\n",
              "        [0.36895669],\n",
              "        [0.36229712],\n",
              "        [0.35695332],\n",
              "        [0.35300553],\n",
              "        [0.3507054 ],\n",
              "        [0.34997028],\n",
              "        [0.3500545 ],\n",
              "        [0.3502633 ],\n",
              "        [0.35008383],\n",
              "        [0.34891263],\n",
              "        [0.34696963],\n",
              "        [0.34448242],\n",
              "        [0.34209293],\n",
              "        [0.34079078],\n",
              "        [0.34074363],\n",
              "        [0.34148288],\n",
              "        [0.34234586],\n",
              "        [0.34388196],\n",
              "        [0.3464577 ],\n",
              "        [0.34977496],\n",
              "        [0.3532915 ],\n",
              "        [0.356951  ],\n",
              "        [0.3599555 ],\n",
              "        [0.3620383 ],\n",
              "        [0.36328012],\n",
              "        [0.36362004],\n",
              "        [0.36299056],\n",
              "        [0.3622503 ],\n",
              "        [0.36140627],\n",
              "        [0.36042935],\n",
              "        [0.35927522],\n",
              "        [0.35820475],\n",
              "        [0.35710812],\n",
              "        [0.35597217],\n",
              "        [0.35547262],\n",
              "        [0.35568127],\n",
              "        [0.3564419 ],\n",
              "        [0.35758442],\n",
              "        [0.35915837],\n",
              "        [0.36103308],\n",
              "        [0.36501655],\n",
              "        [0.37299985],\n",
              "        [0.38383865],\n",
              "        [0.39567786],\n",
              "        [0.40740636],\n",
              "        [0.41804877],\n",
              "        [0.42691877],\n",
              "        [0.43428153],\n",
              "        [0.44152734],\n",
              "        [0.44892967],\n",
              "        [0.4558929 ],\n",
              "        [0.4627068 ],\n",
              "        [0.46875283],\n",
              "        [0.47262996],\n",
              "        [0.47414052],\n",
              "        [0.4744994 ],\n",
              "        [0.47406802],\n",
              "        [0.47242644],\n",
              "        [0.46975172],\n",
              "        [0.46654856],\n",
              "        [0.46314824],\n",
              "        [0.45968834],\n",
              "        [0.45621318],\n",
              "        [0.45238367],\n",
              "        [0.4480836 ],\n",
              "        [0.44347298],\n",
              "        [0.43864438],\n",
              "        [       nan]], dtype=float32),\n",
              " array([0.36404421, 0.35274189, 0.37144485, 0.37481687, 0.37481689,\n",
              "        0.39337909, 0.41375607, 0.40962943, 0.39905949, 0.4137693 ,\n",
              "        0.40708865, 0.41519845, 0.4126678 , 0.4481315 , 0.44746502,\n",
              "        0.44294293, 0.45340995, 0.45414747, 0.44187664, 0.43951171,\n",
              "        0.44392749, 0.44063401, 0.4263802 , 0.42817054, 0.42424758,\n",
              "        0.43631554, 0.45264889, 0.47570441, 0.47355641, 0.48352055,\n",
              "        0.47512856, 0.47738065, 0.47504183, 0.47235558, 0.46668552,\n",
              "        0.48919485, 0.49480043, 0.49827562, 0.50194548, 0.51498586,\n",
              "        0.5015308 , 0.51948498, 0.52578447, 0.51995978, 0.52526089,\n",
              "        0.50325567, 0.50571077, 0.49299865, 0.51644912, 0.48979094,\n",
              "        0.48888192, 0.49281608, 0.49155234, 0.50493469, 0.49093024,\n",
              "        0.47471054, 0.44811855, 0.44623423, 0.44014499, 0.4364425 ,\n",
              "        0.4345515 , 0.45020644, 0.44622457, 0.4447604 , 0.46123923,\n",
              "        0.46348247, 0.45242513, 0.41112436, 0.40133108, 0.40070633,\n",
              "        0.40088905, 0.25083985, 0.27961073, 0.26033447, 0.26987712,\n",
              "        0.25004949, 0.26168413, 0.26263251, 0.31166313, 0.31243352,\n",
              "        0.31134728, 0.29299475, 0.32435757, 0.34000998, 0.33671725,\n",
              "        0.33900849, 0.32594374, 0.3144597 , 0.297874  , 0.3240448 ,\n",
              "        0.32439264, 0.3331733 , 0.34305055, 0.33999267, 0.34642593,\n",
              "        0.34256623, 0.36772799, 0.36283855, 0.37106094, 0.36929136,\n",
              "        0.34667997, 0.34619432, 0.35176711, 0.34542816, 0.34554629,\n",
              "        0.33491835, 0.35958808, 0.35833095, 0.3670688 , 0.36323185,\n",
              "        0.34731958, 0.34730177, 0.35983438, 0.37604647, 0.38207278,\n",
              "        0.3830913 , 0.38875379, 0.39484487, 0.39534968, 0.44669754,\n",
              "        0.44022631, 0.4503966 , 0.45633251, 0.45177945, 0.45266483,\n",
              "        0.45756715, 0.47075205, 0.50569013, 0.50075431, 0.48781382,\n",
              "        0.44451427, 0.43699315, 0.44709745, 0.47124086, 0.49522989,\n",
              "        0.47444888, 0.47660908, 0.49219367, 0.49485539, 0.49476552,\n",
              "        0.48426809, 0.46134423, 0.46677084, 0.46818132, 0.44609842,\n",
              "               nan, 0.44858819]))"
            ]
          },
          "metadata": {
            "tags": []
          },
          "execution_count": 22
        }
      ]
    },
    {
      "cell_type": "code",
      "metadata": {
        "scrolled": true,
        "colab": {
          "base_uri": "https://localhost:8080/"
        },
        "id": "BmGRMrO9O_Vb",
        "outputId": "48f7cc8e-fd48-45f2-cc77-d924625093e1"
      },
      "source": [
        "scaler.scale_"
      ],
      "execution_count": 23,
      "outputs": [
        {
          "output_type": "execute_result",
          "data": {
            "text/plain": [
              "array([5.18164146e-05, 5.03087220e-05, 5.31841635e-05, 5.17617168e-05,\n",
              "       2.21730382e-11])"
            ]
          },
          "metadata": {
            "tags": []
          },
          "execution_count": 23
        }
      ]
    },
    {
      "cell_type": "code",
      "metadata": {
        "colab": {
          "base_uri": "https://localhost:8080/"
        },
        "id": "wgBY09-6O_Vb",
        "outputId": "e38cfd27-df6d-456d-aea3-45cd70b8aa15"
      },
      "source": [
        "scale = 1/5.18164146e-05\n",
        "scale"
      ],
      "execution_count": 24,
      "outputs": [
        {
          "output_type": "execute_result",
          "data": {
            "text/plain": [
              "19298.903787912797"
            ]
          },
          "metadata": {
            "tags": []
          },
          "execution_count": 24
        }
      ]
    },
    {
      "cell_type": "code",
      "metadata": {
        "id": "eKEpHOW5O_Vc"
      },
      "source": [
        "Y_test = Y_test*scale\n",
        "Y_pred = Y_pred*scale"
      ],
      "execution_count": 25,
      "outputs": []
    },
    {
      "cell_type": "code",
      "metadata": {
        "colab": {
          "base_uri": "https://localhost:8080/"
        },
        "id": "qymy9LOeO_Vc",
        "outputId": "30835b8f-4903-43f1-a48f-8b716ecc949e"
      },
      "source": [
        "Y_pred\n"
      ],
      "execution_count": 26,
      "outputs": [
        {
          "output_type": "execute_result",
          "data": {
            "text/plain": [
              "array([[6564.184 ],\n",
              "       [6559.633 ],\n",
              "       [6552.934 ],\n",
              "       [6543.8716],\n",
              "       [6534.5674],\n",
              "       [6531.946 ],\n",
              "       [6550.5293],\n",
              "       [6602.274 ],\n",
              "       [6679.9688],\n",
              "       [6775.7144],\n",
              "       [6879.2134],\n",
              "       [6978.9805],\n",
              "       [7067.08  ],\n",
              "       [7165.063 ],\n",
              "       [7283.5317],\n",
              "       [7412.8867],\n",
              "       [7546.718 ],\n",
              "       [7674.7397],\n",
              "       [7789.3223],\n",
              "       [7876.1934],\n",
              "       [7927.6465],\n",
              "       [7943.3394],\n",
              "       [7928.4697],\n",
              "       [7888.531 ],\n",
              "       [7827.783 ],\n",
              "       [7755.3564],\n",
              "       [7689.443 ],\n",
              "       [7652.7896],\n",
              "       [7657.0767],\n",
              "       [7704.924 ],\n",
              "       [7786.679 ],\n",
              "       [7885.845 ],\n",
              "       [7990.8506],\n",
              "       [8091.8574],\n",
              "       [8178.2764],\n",
              "       [8251.867 ],\n",
              "       [8321.12  ],\n",
              "       [8388.808 ],\n",
              "       [8455.72  ],\n",
              "       [8524.005 ],\n",
              "       [8596.15  ],\n",
              "       [8668.966 ],\n",
              "       [8749.041 ],\n",
              "       [8843.54  ],\n",
              "       [8944.23  ],\n",
              "       [9040.086 ],\n",
              "       [9118.909 ],\n",
              "       [9176.164 ],\n",
              "       [9214.827 ],\n",
              "       [9238.259 ],\n",
              "       [9244.066 ],\n",
              "       [9229.361 ],\n",
              "       [9191.422 ],\n",
              "       [9138.529 ],\n",
              "       [9082.702 ],\n",
              "       [9026.721 ],\n",
              "       [8977.791 ],\n",
              "       [8931.01  ],\n",
              "       [8881.609 ],\n",
              "       [8818.386 ],\n",
              "       [8736.808 ],\n",
              "       [8646.1   ],\n",
              "       [8555.795 ],\n",
              "       [8466.12  ],\n",
              "       [8383.442 ],\n",
              "       [8315.464 ],\n",
              "       [8261.484 ],\n",
              "       [8218.205 ],\n",
              "       [8186.005 ],\n",
              "       [8158.5894],\n",
              "       [8126.498 ],\n",
              "       [8088.617 ],\n",
              "       [8059.489 ],\n",
              "       [8010.0107],\n",
              "       [7921.7886],\n",
              "       [7797.649 ],\n",
              "       [7641.242 ],\n",
              "       [7460.129 ],\n",
              "       [7277.9985],\n",
              "       [7120.46  ],\n",
              "       [6991.9375],\n",
              "       [6888.808 ],\n",
              "       [6812.62  ],\n",
              "       [6768.2295],\n",
              "       [6754.043 ],\n",
              "       [6755.6685],\n",
              "       [6759.6978],\n",
              "       [6756.2344],\n",
              "       [6733.6313],\n",
              "       [6696.134 ],\n",
              "       [6648.1333],\n",
              "       [6602.0186],\n",
              "       [6576.8887],\n",
              "       [6575.9785],\n",
              "       [6590.2456],\n",
              "       [6606.9   ],\n",
              "       [6636.545 ],\n",
              "       [6686.254 ],\n",
              "       [6750.2734],\n",
              "       [6818.139 ],\n",
              "       [6888.763 ],\n",
              "       [6946.7466],\n",
              "       [6986.943 ],\n",
              "       [7010.908 ],\n",
              "       [7017.4683],\n",
              "       [7005.32  ],\n",
              "       [6991.0337],\n",
              "       [6974.745 ],\n",
              "       [6955.8916],\n",
              "       [6933.618 ],\n",
              "       [6912.9595],\n",
              "       [6891.7954],\n",
              "       [6869.873 ],\n",
              "       [6860.232 ],\n",
              "       [6864.259 ],\n",
              "       [6878.938 ],\n",
              "       [6900.9873],\n",
              "       [6931.363 ],\n",
              "       [6967.543 ],\n",
              "       [7044.4194],\n",
              "       [7198.4883],\n",
              "       [7407.6655],\n",
              "       [7636.1494],\n",
              "       [7862.4966],\n",
              "       [8067.8833],\n",
              "       [8239.064 ],\n",
              "       [8381.157 ],\n",
              "       [8520.994 ],\n",
              "       [8663.851 ],\n",
              "       [8798.233 ],\n",
              "       [8929.734 ],\n",
              "       [9046.416 ],\n",
              "       [9121.24  ],\n",
              "       [9150.393 ],\n",
              "       [9157.318 ],\n",
              "       [9148.993 ],\n",
              "       [9117.3125],\n",
              "       [9065.693 ],\n",
              "       [9003.876 ],\n",
              "       [8938.254 ],\n",
              "       [8871.481 ],\n",
              "       [8804.414 ],\n",
              "       [8730.509 ],\n",
              "       [8647.522 ],\n",
              "       [8558.543 ],\n",
              "       [8465.355 ],\n",
              "       [      nan]], dtype=float32)"
            ]
          },
          "metadata": {
            "tags": []
          },
          "execution_count": 26
        }
      ]
    },
    {
      "cell_type": "code",
      "metadata": {
        "colab": {
          "base_uri": "https://localhost:8080/"
        },
        "id": "Kaj5Fa2jO_Vd",
        "outputId": "ef4430c1-4b87-48c3-dc45-75200f36dbf9"
      },
      "source": [
        "Y_test"
      ],
      "execution_count": 27,
      "outputs": [
        {
          "output_type": "execute_result",
          "data": {
            "text/plain": [
              "array([ 7025.65427061,  6807.5317115 ,  7168.47848868,  7233.55466072,\n",
              "        7233.55514872,  7591.7851299 ,  7985.0385481 ,  7905.39889906,\n",
              "        7701.41061796,  7985.2939191 ,  7856.36472004,  8012.87497412,\n",
              "        7964.03610609,  8648.44675144,  8635.58444644,  8548.31296239,\n",
              "        8750.31491549,  8764.5483145 ,  8527.73483738,  8482.09421236,\n",
              "        8567.3139394 ,  8503.75339237,  8228.67038423,  8263.22214224,\n",
              "        8187.51315721,  8420.41159533,  8735.62741549,  9180.57370472,\n",
              "        9139.11960369,  9331.41647879,  9169.46042371,  9212.92331473,\n",
              "        9167.78659571,  9115.94479868,  9006.51901763,  9440.92429085,\n",
              "        9549.1059319 ,  9616.17331494,  9686.99753298,  9938.6625721 ,\n",
              "        9678.99460397, 10025.49069715, 10147.06394021, 10034.65378315,\n",
              "       10136.95944721,  9712.28268999,  9759.66354901,  9514.33347089,\n",
              "        9966.90183012,  9452.42819686,  9434.88522885,  9510.81003289,\n",
              "        9486.42136087,  9744.68601001,  9474.41550187,  9161.39304071,\n",
              "        8648.19675144,  8611.83151742,  8494.31589236,  8422.86179033,\n",
              "        8386.36764931,  8688.49069646,  8611.64499342,  8583.38815741,\n",
              "        8901.41159557,  8944.70358759,  8731.30905648,  7934.24948508,\n",
              "        7745.24997398,  7733.19284497,  7736.71921197,  4840.93405449,\n",
              "        5396.18063677,  5024.16989458,  5208.33249168,  4825.68112448,\n",
              "        5050.21676959,  5068.5195036 ,  6014.75680909,  6029.6244841 ,\n",
              "        6008.66110509,  5654.4775119 ,  6259.74557822,  6561.81979737,\n",
              "        6498.27389834,  6542.49216036,  6290.35690623,  6068.72751212,\n",
              "        5748.64157395,  6253.70944521,  6260.42233622,  6429.8793673 ,\n",
              "        6620.4994844 ,  6561.48581337,  6685.64059843,  6611.1528054 ,\n",
              "        7096.74704365,  7002.3862036 ,  7161.06930968,  7126.91843066,\n",
              "        6690.54343044,  6681.17087143,  6788.71969949,  6666.38473842,\n",
              "        6668.66452343,  6463.55710232,  6939.65573456,  6915.39450455,\n",
              "        7084.02536364,  7009.9765356 ,  6702.88718044,  6702.54343044,\n",
              "        6944.40915257,  7257.28464173,  7373.58591079,  7393.2421608 ,\n",
              "        7502.52194585,  7620.07321591,  7629.81540292,  8620.77292343,\n",
              "        8495.88522836,  8692.16061846,  8806.71725952,  8718.84811848,\n",
              "        8735.93503249,  8830.54440754,  9084.99850967,  9759.26511101,\n",
              "        9664.00925196,  9414.27194684,  8578.63815741,  8433.48874333,\n",
              "        8628.49069643,  9094.43210367,  9557.39401791,  9156.3432357 ,\n",
              "        9198.03268972,  9498.79831488,  9550.16647891,  9548.4321039 ,\n",
              "        9345.8432358 ,  8903.43796257,  9008.16550163,  9035.38620464,\n",
              "        8609.21042342,            nan,  8657.26022845])"
            ]
          },
          "metadata": {
            "tags": []
          },
          "execution_count": 27
        }
      ]
    },
    {
      "cell_type": "code",
      "metadata": {
        "colab": {
          "base_uri": "https://localhost:8080/",
          "height": 350
        },
        "id": "ykp-633vO_Vd",
        "outputId": "0d661269-6c6b-493c-e312-1e63ea72dbde"
      },
      "source": [
        "plt.figure(figsize=(14,5))\n",
        "plt.plot(Y_test, color = 'red', label = 'Real Bitcoin Price')\n",
        "plt.plot(Y_pred, color = 'green', label = 'Predicted Bitcoin Price')\n",
        "plt.title('Bitcoin Price Prediction using RNN-LSTM')\n",
        "plt.xlabel('Time')\n",
        "plt.ylabel('Price')\n",
        "plt.legend()\n",
        "plt.show()"
      ],
      "execution_count": 28,
      "outputs": [
        {
          "output_type": "display_data",
          "data": {
            "image/png": "[encoded data removed]",
            "text/plain": [
              "<Figure size 1008x360 with 1 Axes>"
            ]
          },
          "metadata": {
            "tags": [],
            "needs_background": "light"
          }
        }
      ]
    },
    {
      "cell_type": "code",
      "metadata": {
        "id": "6HRkz2uTO_Ve"
      },
      "source": [
        ""
      ],
      "execution_count": null,
      "outputs": []
    }
  ]
}