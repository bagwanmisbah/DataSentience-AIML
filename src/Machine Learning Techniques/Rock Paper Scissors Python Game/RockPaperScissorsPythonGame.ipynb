{
  "nbformat": 4,
  "nbformat_minor": 0,
  "metadata": {
    "colab": {
      "name": "RockPaperScissorsPythonGame.ipynb",
      "provenance": []
    },
    "kernelspec": {
      "name": "python3",
      "display_name": "Python 3"
    },
    "language_info": {
      "name": "python"
    }
  },
  "cells": [
    {
      "cell_type": "markdown",
      "source": [
        "Importing randint from random module:"
      ],
      "metadata": {
        "id": "fYcDM06Lf4sw"
      }
    },
    {
      "cell_type": "code",
      "source": [
        "from random import randint"
      ],
      "metadata": {
        "id": "3wLjNpKPf_Wa"
      },
      "execution_count": 2,
      "outputs": []
    },
    {
      "cell_type": "markdown",
      "source": [
        "Create a list of play options and the initial player and computer scores:"
      ],
      "metadata": {
        "id": "RjDM0rhKgTHu"
      }
    },
    {
      "cell_type": "code",
      "source": [
        "moves = [\"r\", \"p\", \"s\"]\n",
        "player_score = 0\n",
        "computer_score = 0"
      ],
      "metadata": {
        "id": "cUz9DovrhDP4"
      },
      "execution_count": 3,
      "outputs": []
    },
    {
      "cell_type": "markdown",
      "source": [
        "Ask the user to start or end the game:"
      ],
      "metadata": {
        "id": "B1DqldpYhT7Z"
      }
    },
    {
      "cell_type": "code",
      "source": [
        "x = int(input(\"(1)Start. (2)End the game. \\n\"))\n",
        "\n",
        "if x != 1 and x != 2:\n",
        "    x = int(input(\"Invalid input! Please enter '1' or '2': \\n\"))"
      ],
      "metadata": {
        "id": "aq0Pil1bhaeT"
      },
      "execution_count": null,
      "outputs": []
    },
    {
      "cell_type": "markdown",
      "source": [
        "When the user types '1' start the game and randomly make an option for the computer:"
      ],
      "metadata": {
        "id": "jE-b2BL3kWQa"
      }
    },
    {
      "cell_type": "code",
      "source": [
        "if x == 1:\n",
        "            while True:\n",
        "                computer_moves = moves[randint(0, 2)]"
      ],
      "metadata": {
        "id": "3iIWjgxikopZ"
      },
      "execution_count": null,
      "outputs": []
    },
    {
      "cell_type": "markdown",
      "source": [
        "If the user types '2' end the game:"
      ],
      "metadata": {
        "id": "PP6SjURImrFD"
      }
    },
    {
      "cell_type": "code",
      "source": [
        "elif x == 2:\n",
        "        exit()"
      ],
      "metadata": {
        "id": "WDccdPMumwS-"
      },
      "execution_count": null,
      "outputs": []
    },
    {
      "cell_type": "markdown",
      "source": [
        "Take user input:"
      ],
      "metadata": {
        "id": "YpIBrdr8k5BP"
      }
    },
    {
      "cell_type": "code",
      "source": [
        "player_moves = input(\"(r)Rock. (p)Paper. (s)Scissors. (e)End the game. \\n\")"
      ],
      "metadata": {
        "id": "KOyKhJ9Fk-R8"
      },
      "execution_count": null,
      "outputs": []
    },
    {
      "cell_type": "markdown",
      "source": [
        "Determine a winner, calculate the score of both the player and the computer and take user input again:"
      ],
      "metadata": {
        "id": "2E3y0MNvlLz7"
      }
    },
    {
      "cell_type": "code",
      "source": [
        "if player_moves == computer_moves:\n",
        "                    print(\"Computer chose the same move. It's a tie! Please play again!\")\n",
        "                    continue\n",
        "\n",
        "                elif player_moves == \"r\":\n",
        "                    if computer_moves == \"p\":\n",
        "                        computer_score+=1\n",
        "                        print(\"Computer chose paper. You lose! your score:\",player_score, \"computer score:\",computer_score)\n",
        "                        continue\n",
        "                    elif computer_moves == \"s\":\n",
        "                        player_score+=1\n",
        "                        print(\"Computer chose scissors. You win! your score:\",player_score, \"computer score:\",computer_score)\n",
        "                        continue\n",
        "\n",
        "                elif player_moves == \"p\":\n",
        "                    if computer_moves == \"s\":\n",
        "                        computer_score+=1\n",
        "                        print(\"Computer chose scissors. You lose! your score:\",player_score, \"computer score:\",computer_score)\n",
        "                        continue\n",
        "                    elif computer_moves == \"r\":\n",
        "                        player_score+=1\n",
        "                        print(\"Computer chose rock. You win! your score:\",player_score, \"computer score:\",computer_score)\n",
        "                        continue\n",
        "\n",
        "                elif player_moves == \"s\":\n",
        "                    if computer_moves == \"r\":\n",
        "                        computer_score+=1\n",
        "                        print(\"Computer chose rock. You lose! your score:\",player_score, \"computer score:\",computer_score)\n",
        "                        continue\n",
        "                    elif computer_moves == \"p\":\n",
        "                        player_score+=1\n",
        "                        print(\"Computer chose paper. You win! your score:\",player_score, \"computer score:\",computer_score)\n",
        "                        continue"
      ],
      "metadata": {
        "id": "CYwX3hF5lPnM"
      },
      "execution_count": null,
      "outputs": []
    },
    {
      "cell_type": "markdown",
      "source": [
        "If user input is 'e' end the game:"
      ],
      "metadata": {
        "id": "O6z5g8tDlrRT"
      }
    },
    {
      "cell_type": "code",
      "source": [
        "elif player_moves == \"e\":\n",
        "                    exit()"
      ],
      "metadata": {
        "id": "QfcOyC7Hl5VX"
      },
      "execution_count": null,
      "outputs": []
    },
    {
      "cell_type": "markdown",
      "source": [
        "If the user input is wrong raise an error:"
      ],
      "metadata": {
        "id": "BOo2AqBSmVuY"
      }
    },
    {
      "cell_type": "code",
      "source": [
        "else:\n",
        "                    print(\"Invalid input! Please enter 'r','p','s' or 'e': \")\n",
        "                    continue"
      ],
      "metadata": {
        "id": "XDgtelVbmiZI"
      },
      "execution_count": null,
      "outputs": []
    }
  ]
}