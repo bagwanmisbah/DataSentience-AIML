{
  "cells": [
    {
      "cell_type": "code",
      "execution_count": 1,
      "metadata": {
        "colab": {
          "base_uri": "https://localhost:8080/"
        },
        "id": "5NfcpnluzLzo",
        "outputId": "537c9ed1-ed87-4373-f2b3-7abb275edabf"
      },
      "outputs": [
        {
          "output_type": "stream",
          "name": "stdout",
          "text": [
            "Requirement already satisfied: nltk in /usr/local/lib/python3.12/dist-packages (3.9.1)\n",
            "Requirement already satisfied: click in /usr/local/lib/python3.12/dist-packages (from nltk) (8.2.1)\n",
            "Requirement already satisfied: joblib in /usr/local/lib/python3.12/dist-packages (from nltk) (1.5.1)\n",
            "Requirement already satisfied: regex>=2021.8.3 in /usr/local/lib/python3.12/dist-packages (from nltk) (2024.11.6)\n",
            "Requirement already satisfied: tqdm in /usr/local/lib/python3.12/dist-packages (from nltk) (4.67.1)\n"
          ]
        }
      ],
      "source": [
        "!pip install nltk"
      ]
    },
    {
      "cell_type": "code",
      "execution_count": 2,
      "metadata": {
        "id": "ae7dunqczT8Q"
      },
      "outputs": [],
      "source": [
        "import torch\n",
        "import torch.nn as nn\n",
        "import torch.optim as optim\n",
        "import numpy as np\n",
        "from collections import Counter\n",
        "from torch.utils.data import Dataset, DataLoader\n",
        "from nltk.tokenize import word_tokenize\n",
        "import nltk"
      ]
    },
    {
      "cell_type": "code",
      "execution_count": 3,
      "metadata": {
        "id": "fLwm0Y_MzVuh"
      },
      "outputs": [],
      "source": [
        "document = \"\"\"A black hole is a massive, compact astronomical object so dense that its gravity prevents anything from escaping, even light. Albert Einstein's theory of general relativity predicts that a sufficiently compact mass will form a black hole. The boundary of no escape is called the event horizon. In general relativity, a black hole’s event horizon seals an object’s fate but produces no locally detectable change when crossed. In many ways, a black hole acts like an ideal black body, as it reflects no light. Quantum field theory in curved spacetime predicts that event horizons emit Hawking radiation, with the same spectrum as a black body of a temperature inversely proportional to its mass. This temperature is of the order of billionths of a kelvin for stellar black holes, making it essentially impossible to observe directly.\n",
        "\n",
        "Objects whose gravitational fields are too strong for light to escape were first considered in the eighteenth century by John Michell and Pierre-Simon Laplace. In 1916, Karl Schwarzschild found the first modern solution of general relativity that would characterise a black hole. Due to his influential research, the Schwarzschild metric is named after him. David Finkelstein, in 1958, first published the interpretation of \"black hole\" as a region of space from which nothing can escape. Black holes were long considered a mathematical curiosity; it was not until the 1960s that theoretical work showed they were a generic prediction of general relativity. The first black hole known was Cygnus X-1, identified by several researchers independently in 1971.\n",
        "\n",
        "Black holes typically form when massive stars collapse at the end of their life cycle. After a black hole has formed, it can grow by absorbing mass from its surroundings. Supermassive black holes of millions of solar masses may form by absorbing other stars and merging with other black holes, or via direct collapse of gas clouds. There is consensus that supermassive black holes exist in the centres of most galaxies.\n",
        "\n",
        "The presence of a black hole can be inferred through its interaction with other matter and with electromagnetic radiation such as visible light. Matter falling toward a black hole can form an accretion disk of infalling plasma, heated by friction and emitting light. In extreme cases, this creates a quasar, some of the brightest objects in the universe. Stars passing too close to a supermassive black hole can be shredded into streamers that shine very brightly before being \"swallowed.\" If other stars are orbiting a black hole, their orbits can be used to determine the black hole's mass and location. Such observations can be used to exclude possible alternatives such as neutron stars. In this way, astronomers have identified numerous stellar black hole candidates in binary systems and established that the radio source known as Sagittarius A*, at the core of the Milky Way galaxy, contains a supermassive black hole of about four point three million solar masses.\n",
        "The idea of a body so big that even light could not escape was briefly proposed by English astronomical pioneer and clergyman John Michell and independently by French scientist Pierre-Simon Laplace. Both scholars proposed very large stars rather than the modern model of stars with extraordinary density.\n",
        "\n",
        "Michell's idea, in a short part of a letter published in seventeen eighty four, calculated that a star with the same density but five hundred times the radius of the sun would not let any emitted light escape; the surface escape velocity would exceed the speed of light. Michell correctly noted that such supermassive but non-radiating bodies might be detectable through their gravitational effects on nearby visible bodies.\n",
        "\n",
        "In seventeen ninety six, Laplace mentioned that a star could be invisible if it were sufficiently large while speculating on the origin of the Solar System in his book Exposition du Système du Monde. Franz Xaver von Zach asked Laplace for a mathematical analysis, which Laplace provided and published in a journal edited by von Zach.\n",
        "\n",
        "Scholars of the time were initially excited by the proposal that giant but invisible 'dark stars' might be hiding in plain view, but enthusiasm dampened when the wavelike nature of light became apparent in the early nineteenth century, since light was understood as a wave rather than a particle, it was unclear what, if any, influence gravity would have on escaping light waves.\n",
        "\n",
        "In nineteen seventy one, Hawking showed under general conditions that the total area of the event horizons of any collection of classical black holes can never decrease, even if they collide and merge. This result, now known as the second law of black hole mechanics, is remarkably similar to the second law of thermodynamics, which states that the total entropy of an isolated system can never decrease. As with classical objects at absolute zero temperature, it was assumed that black holes had zero entropy. If this were the case, the second law of thermodynamics would be violated by entropy-laden matter entering a black hole, resulting in a decrease in the total entropy of the universe. Therefore, Bekenstein proposed that a black hole should have an entropy, and that it should be proportional to its horizon area.\n",
        "\n",
        "The link with the laws of thermodynamics was further strengthened by Hawking's discovery in nineteen seventy four that quantum field theory predicts that a black hole radiates blackbody radiation at a constant temperature. This seemingly causes a violation of the second law of black hole mechanics, since the radiation will carry away energy from the black hole causing it to shrink. The radiation also carries away entropy, and it can be proven under general assumptions that the sum of the entropy of the matter surrounding a black hole and one quarter of the area of the horizon as measured in Planck units is in fact always increasing. This allows the formulation of the first law of black hole mechanics as an analogue of the first law of thermodynamics, with the mass acting as energy, the surface gravity as temperature and the area as entropy.\n",
        "\n",
        "One puzzling feature is that the entropy of a black hole scales with its area rather than with its volume, since entropy is normally an extensive quantity that scales linearly with the volume of the system. This odd property led Gerard 't Hooft and Leonard Susskind to propose the holographic principle, which suggests that anything that happens in a volume of spacetime can be described by data on the boundary of that volume.\n",
        "\n",
        "Although general relativity can be used to perform a semiclassical calculation of black hole entropy, this situation is theoretically unsatisfying. In statistical mechanics, entropy is understood as counting the number of microscopic configurations of a system that have the same macroscopic qualities, such as mass, charge, pressure, etc. Without a satisfactory theory of quantum gravity, one cannot perform such a computation for black holes. Some progress has been made in various approaches to quantum gravity. In nineteen ninety five, Andrew Strominger and Cumrun Vafa showed that counting the microstates of a specific supersymmetric black hole in string theory reproduced the Bekenstein–Hawking entropy. Since then, similar results have been reported for different black holes both in string theory and in other approaches to quantum gravity like loop quantum gravity.\n",
        "\n",
        "Because a black hole has only a few internal parameters, most of the information about the matter that went into forming the black hole is lost. Regardless of the type of matter which goes into a black hole, it appears that only information concerning the total mass, charge, and angular momentum are conserved. As long as black holes were thought to persist forever this information loss is not that problematic, as the information can be thought of as existing inside the black hole, inaccessible from the outside, but represented on the event horizon in accordance with the holographic principle. However, black holes slowly evaporate by emitting Hawking radiation. This radiation does not appear to carry any additional information about the matter that formed the black hole, meaning that this information appears to be gone forever.\n",
        "\n",
        "The question whether information is truly lost in black holes (the black hole information paradox) has divided the theoretical physics community. In quantum mechanics, loss of information corresponds to the violation of a property called unitarity, and it has been argued that loss of unitarity would also imply violation of conservation of energy, though this has also been disputed. Over recent years evidence has been building that indeed information and unitarity are preserved in a full quantum gravitational treatment of the problem.\n",
        "\n",
        "One attempt to resolve the black hole information paradox is known as black hole complementarity. In twenty twelve, the \"firewall paradox\" was introduced with the goal of demonstrating that black hole complementarity fails to solve the information paradox. According to quantum field theory in curved spacetime, a single emission of Hawking radiation involves two mutually entangled particles. The outgoing particle escapes and is emitted as a quantum of Hawking radiation; the infalling particle is swallowed by the black hole. Assume a black hole formed a finite time in the past and will fully evaporate away in some finite time in the future. Then, it will emit only a finite amount of information encoded within its Hawking radiation. According to research by physicists like Don Page and Leonard Susskind, there will eventually be a time by which an outgoing particle must be entangled with all the Hawking radiation the black hole has previously emitted.\n",
        "\n",
        "This seemingly creates a paradox: a principle called \"monogamy of entanglement\" requires that, like any quantum system, the outgoing particle cannot be fully entangled with two other systems at the same time; yet here the outgoing particle appears to be entangled both with the infalling particle and, independently, with past Hawking radiation. In order to resolve this contradiction, physicists may eventually be forced to give up one of three time-tested principles: Einstein's equivalence principle, unitarity, or local quantum field theory. One possible solution, which violates the equivalence principle, is that a \"firewall\" destroys incoming particles at the event horizon. In general, which—if any—of these assumptions should be abandoned remains a topic of debate.\n",
        "\"\"\"\n"
      ]
    },
    {
      "cell_type": "code",
      "execution_count": 5,
      "metadata": {
        "id": "c1C-ug6L5WFE"
      },
      "outputs": [],
      "source": [
        "#Convert unsupervised task to supervised"
      ]
    },
    {
      "cell_type": "code",
      "execution_count": 6,
      "metadata": {
        "colab": {
          "base_uri": "https://localhost:8080/"
        },
        "id": "MMU_RwfbzXt4",
        "outputId": "48202a9c-30e2-4785-eb77-4c710e7af252"
      },
      "outputs": [
        {
          "output_type": "stream",
          "name": "stderr",
          "text": [
            "[nltk_data] Downloading package punkt to /root/nltk_data...\n",
            "[nltk_data]   Unzipping tokenizers/punkt.zip.\n",
            "[nltk_data] Downloading package punkt_tab to /root/nltk_data...\n",
            "[nltk_data]   Unzipping tokenizers/punkt_tab.zip.\n"
          ]
        },
        {
          "output_type": "execute_result",
          "data": {
            "text/plain": [
              "True"
            ]
          },
          "metadata": {},
          "execution_count": 6
        }
      ],
      "source": [
        "# Tokenization\n",
        "nltk.download('punkt')\n",
        "nltk.download('punkt_tab')"
      ]
    },
    {
      "cell_type": "code",
      "execution_count": 7,
      "metadata": {
        "id": "t28bgAcszaHl"
      },
      "outputs": [],
      "source": [
        "# tokenize\n",
        "tokens = word_tokenize(document.lower())"
      ]
    },
    {
      "cell_type": "code",
      "execution_count": 9,
      "metadata": {
        "colab": {
          "base_uri": "https://localhost:8080/"
        },
        "id": "G30GxEjgzcfY",
        "outputId": "74ff3f59-71b5-446c-cf97-641a30f157a2"
      },
      "outputs": [
        {
          "output_type": "execute_result",
          "data": {
            "text/plain": [
              "{'<unk>': 0,\n",
              " 'a': 1,\n",
              " 'black': 2,\n",
              " 'hole': 3,\n",
              " 'is': 4,\n",
              " 'massive': 5,\n",
              " ',': 6,\n",
              " 'compact': 7,\n",
              " 'astronomical': 8,\n",
              " 'object': 9,\n",
              " 'so': 10,\n",
              " 'dense': 11,\n",
              " 'that': 12,\n",
              " 'its': 13,\n",
              " 'gravity': 14,\n",
              " 'prevents': 15,\n",
              " 'anything': 16,\n",
              " 'from': 17,\n",
              " 'escaping': 18,\n",
              " 'even': 19,\n",
              " 'light': 20,\n",
              " '.': 21,\n",
              " 'albert': 22,\n",
              " 'einstein': 23,\n",
              " \"'s\": 24,\n",
              " 'theory': 25,\n",
              " 'of': 26,\n",
              " 'general': 27,\n",
              " 'relativity': 28,\n",
              " 'predicts': 29,\n",
              " 'sufficiently': 30,\n",
              " 'mass': 31,\n",
              " 'will': 32,\n",
              " 'form': 33,\n",
              " 'the': 34,\n",
              " 'boundary': 35,\n",
              " 'no': 36,\n",
              " 'escape': 37,\n",
              " 'called': 38,\n",
              " 'event': 39,\n",
              " 'horizon': 40,\n",
              " 'in': 41,\n",
              " '’': 42,\n",
              " 's': 43,\n",
              " 'seals': 44,\n",
              " 'an': 45,\n",
              " 'fate': 46,\n",
              " 'but': 47,\n",
              " 'produces': 48,\n",
              " 'locally': 49,\n",
              " 'detectable': 50,\n",
              " 'change': 51,\n",
              " 'when': 52,\n",
              " 'crossed': 53,\n",
              " 'many': 54,\n",
              " 'ways': 55,\n",
              " 'acts': 56,\n",
              " 'like': 57,\n",
              " 'ideal': 58,\n",
              " 'body': 59,\n",
              " 'as': 60,\n",
              " 'it': 61,\n",
              " 'reflects': 62,\n",
              " 'quantum': 63,\n",
              " 'field': 64,\n",
              " 'curved': 65,\n",
              " 'spacetime': 66,\n",
              " 'horizons': 67,\n",
              " 'emit': 68,\n",
              " 'hawking': 69,\n",
              " 'radiation': 70,\n",
              " 'with': 71,\n",
              " 'same': 72,\n",
              " 'spectrum': 73,\n",
              " 'temperature': 74,\n",
              " 'inversely': 75,\n",
              " 'proportional': 76,\n",
              " 'to': 77,\n",
              " 'this': 78,\n",
              " 'order': 79,\n",
              " 'billionths': 80,\n",
              " 'kelvin': 81,\n",
              " 'for': 82,\n",
              " 'stellar': 83,\n",
              " 'holes': 84,\n",
              " 'making': 85,\n",
              " 'essentially': 86,\n",
              " 'impossible': 87,\n",
              " 'observe': 88,\n",
              " 'directly': 89,\n",
              " 'objects': 90,\n",
              " 'whose': 91,\n",
              " 'gravitational': 92,\n",
              " 'fields': 93,\n",
              " 'are': 94,\n",
              " 'too': 95,\n",
              " 'strong': 96,\n",
              " 'were': 97,\n",
              " 'first': 98,\n",
              " 'considered': 99,\n",
              " 'eighteenth': 100,\n",
              " 'century': 101,\n",
              " 'by': 102,\n",
              " 'john': 103,\n",
              " 'michell': 104,\n",
              " 'and': 105,\n",
              " 'pierre-simon': 106,\n",
              " 'laplace': 107,\n",
              " '1916': 108,\n",
              " 'karl': 109,\n",
              " 'schwarzschild': 110,\n",
              " 'found': 111,\n",
              " 'modern': 112,\n",
              " 'solution': 113,\n",
              " 'would': 114,\n",
              " 'characterise': 115,\n",
              " 'due': 116,\n",
              " 'his': 117,\n",
              " 'influential': 118,\n",
              " 'research': 119,\n",
              " 'metric': 120,\n",
              " 'named': 121,\n",
              " 'after': 122,\n",
              " 'him': 123,\n",
              " 'david': 124,\n",
              " 'finkelstein': 125,\n",
              " '1958': 126,\n",
              " 'published': 127,\n",
              " 'interpretation': 128,\n",
              " '``': 129,\n",
              " \"''\": 130,\n",
              " 'region': 131,\n",
              " 'space': 132,\n",
              " 'which': 133,\n",
              " 'nothing': 134,\n",
              " 'can': 135,\n",
              " 'long': 136,\n",
              " 'mathematical': 137,\n",
              " 'curiosity': 138,\n",
              " ';': 139,\n",
              " 'was': 140,\n",
              " 'not': 141,\n",
              " 'until': 142,\n",
              " '1960s': 143,\n",
              " 'theoretical': 144,\n",
              " 'work': 145,\n",
              " 'showed': 146,\n",
              " 'they': 147,\n",
              " 'generic': 148,\n",
              " 'prediction': 149,\n",
              " 'known': 150,\n",
              " 'cygnus': 151,\n",
              " 'x-1': 152,\n",
              " 'identified': 153,\n",
              " 'several': 154,\n",
              " 'researchers': 155,\n",
              " 'independently': 156,\n",
              " '1971.': 157,\n",
              " 'typically': 158,\n",
              " 'stars': 159,\n",
              " 'collapse': 160,\n",
              " 'at': 161,\n",
              " 'end': 162,\n",
              " 'their': 163,\n",
              " 'life': 164,\n",
              " 'cycle': 165,\n",
              " 'has': 166,\n",
              " 'formed': 167,\n",
              " 'grow': 168,\n",
              " 'absorbing': 169,\n",
              " 'surroundings': 170,\n",
              " 'supermassive': 171,\n",
              " 'millions': 172,\n",
              " 'solar': 173,\n",
              " 'masses': 174,\n",
              " 'may': 175,\n",
              " 'other': 176,\n",
              " 'merging': 177,\n",
              " 'or': 178,\n",
              " 'via': 179,\n",
              " 'direct': 180,\n",
              " 'gas': 181,\n",
              " 'clouds': 182,\n",
              " 'there': 183,\n",
              " 'consensus': 184,\n",
              " 'exist': 185,\n",
              " 'centres': 186,\n",
              " 'most': 187,\n",
              " 'galaxies': 188,\n",
              " 'presence': 189,\n",
              " 'be': 190,\n",
              " 'inferred': 191,\n",
              " 'through': 192,\n",
              " 'interaction': 193,\n",
              " 'matter': 194,\n",
              " 'electromagnetic': 195,\n",
              " 'such': 196,\n",
              " 'visible': 197,\n",
              " 'falling': 198,\n",
              " 'toward': 199,\n",
              " 'accretion': 200,\n",
              " 'disk': 201,\n",
              " 'infalling': 202,\n",
              " 'plasma': 203,\n",
              " 'heated': 204,\n",
              " 'friction': 205,\n",
              " 'emitting': 206,\n",
              " 'extreme': 207,\n",
              " 'cases': 208,\n",
              " 'creates': 209,\n",
              " 'quasar': 210,\n",
              " 'some': 211,\n",
              " 'brightest': 212,\n",
              " 'universe': 213,\n",
              " 'passing': 214,\n",
              " 'close': 215,\n",
              " 'shredded': 216,\n",
              " 'into': 217,\n",
              " 'streamers': 218,\n",
              " 'shine': 219,\n",
              " 'very': 220,\n",
              " 'brightly': 221,\n",
              " 'before': 222,\n",
              " 'being': 223,\n",
              " 'swallowed': 224,\n",
              " 'if': 225,\n",
              " 'orbiting': 226,\n",
              " 'orbits': 227,\n",
              " 'used': 228,\n",
              " 'determine': 229,\n",
              " 'location': 230,\n",
              " 'observations': 231,\n",
              " 'exclude': 232,\n",
              " 'possible': 233,\n",
              " 'alternatives': 234,\n",
              " 'neutron': 235,\n",
              " 'way': 236,\n",
              " 'astronomers': 237,\n",
              " 'have': 238,\n",
              " 'numerous': 239,\n",
              " 'candidates': 240,\n",
              " 'binary': 241,\n",
              " 'systems': 242,\n",
              " 'established': 243,\n",
              " 'radio': 244,\n",
              " 'source': 245,\n",
              " 'sagittarius': 246,\n",
              " '*': 247,\n",
              " 'core': 248,\n",
              " 'milky': 249,\n",
              " 'galaxy': 250,\n",
              " 'contains': 251,\n",
              " 'about': 252,\n",
              " 'four': 253,\n",
              " 'point': 254,\n",
              " 'three': 255,\n",
              " 'million': 256,\n",
              " 'idea': 257,\n",
              " 'big': 258,\n",
              " 'could': 259,\n",
              " 'briefly': 260,\n",
              " 'proposed': 261,\n",
              " 'english': 262,\n",
              " 'pioneer': 263,\n",
              " 'clergyman': 264,\n",
              " 'french': 265,\n",
              " 'scientist': 266,\n",
              " 'both': 267,\n",
              " 'scholars': 268,\n",
              " 'large': 269,\n",
              " 'rather': 270,\n",
              " 'than': 271,\n",
              " 'model': 272,\n",
              " 'extraordinary': 273,\n",
              " 'density': 274,\n",
              " 'short': 275,\n",
              " 'part': 276,\n",
              " 'letter': 277,\n",
              " 'seventeen': 278,\n",
              " 'eighty': 279,\n",
              " 'calculated': 280,\n",
              " 'star': 281,\n",
              " 'five': 282,\n",
              " 'hundred': 283,\n",
              " 'times': 284,\n",
              " 'radius': 285,\n",
              " 'sun': 286,\n",
              " 'let': 287,\n",
              " 'any': 288,\n",
              " 'emitted': 289,\n",
              " 'surface': 290,\n",
              " 'velocity': 291,\n",
              " 'exceed': 292,\n",
              " 'speed': 293,\n",
              " 'correctly': 294,\n",
              " 'noted': 295,\n",
              " 'non-radiating': 296,\n",
              " 'bodies': 297,\n",
              " 'might': 298,\n",
              " 'effects': 299,\n",
              " 'on': 300,\n",
              " 'nearby': 301,\n",
              " 'ninety': 302,\n",
              " 'six': 303,\n",
              " 'mentioned': 304,\n",
              " 'invisible': 305,\n",
              " 'while': 306,\n",
              " 'speculating': 307,\n",
              " 'origin': 308,\n",
              " 'system': 309,\n",
              " 'book': 310,\n",
              " 'exposition': 311,\n",
              " 'du': 312,\n",
              " 'système': 313,\n",
              " 'monde': 314,\n",
              " 'franz': 315,\n",
              " 'xaver': 316,\n",
              " 'von': 317,\n",
              " 'zach': 318,\n",
              " 'asked': 319,\n",
              " 'analysis': 320,\n",
              " 'provided': 321,\n",
              " 'journal': 322,\n",
              " 'edited': 323,\n",
              " 'time': 324,\n",
              " 'initially': 325,\n",
              " 'excited': 326,\n",
              " 'proposal': 327,\n",
              " 'giant': 328,\n",
              " \"'dark\": 329,\n",
              " \"'\": 330,\n",
              " 'hiding': 331,\n",
              " 'plain': 332,\n",
              " 'view': 333,\n",
              " 'enthusiasm': 334,\n",
              " 'dampened': 335,\n",
              " 'wavelike': 336,\n",
              " 'nature': 337,\n",
              " 'became': 338,\n",
              " 'apparent': 339,\n",
              " 'early': 340,\n",
              " 'nineteenth': 341,\n",
              " 'since': 342,\n",
              " 'understood': 343,\n",
              " 'wave': 344,\n",
              " 'particle': 345,\n",
              " 'unclear': 346,\n",
              " 'what': 347,\n",
              " 'influence': 348,\n",
              " 'waves': 349,\n",
              " 'nineteen': 350,\n",
              " 'seventy': 351,\n",
              " 'one': 352,\n",
              " 'under': 353,\n",
              " 'conditions': 354,\n",
              " 'total': 355,\n",
              " 'area': 356,\n",
              " 'collection': 357,\n",
              " 'classical': 358,\n",
              " 'never': 359,\n",
              " 'decrease': 360,\n",
              " 'collide': 361,\n",
              " 'merge': 362,\n",
              " 'result': 363,\n",
              " 'now': 364,\n",
              " 'second': 365,\n",
              " 'law': 366,\n",
              " 'mechanics': 367,\n",
              " 'remarkably': 368,\n",
              " 'similar': 369,\n",
              " 'thermodynamics': 370,\n",
              " 'states': 371,\n",
              " 'entropy': 372,\n",
              " 'isolated': 373,\n",
              " 'absolute': 374,\n",
              " 'zero': 375,\n",
              " 'assumed': 376,\n",
              " 'had': 377,\n",
              " 'case': 378,\n",
              " 'violated': 379,\n",
              " 'entropy-laden': 380,\n",
              " 'entering': 381,\n",
              " 'resulting': 382,\n",
              " 'therefore': 383,\n",
              " 'bekenstein': 384,\n",
              " 'should': 385,\n",
              " 'link': 386,\n",
              " 'laws': 387,\n",
              " 'further': 388,\n",
              " 'strengthened': 389,\n",
              " 'discovery': 390,\n",
              " 'radiates': 391,\n",
              " 'blackbody': 392,\n",
              " 'constant': 393,\n",
              " 'seemingly': 394,\n",
              " 'causes': 395,\n",
              " 'violation': 396,\n",
              " 'carry': 397,\n",
              " 'away': 398,\n",
              " 'energy': 399,\n",
              " 'causing': 400,\n",
              " 'shrink': 401,\n",
              " 'also': 402,\n",
              " 'carries': 403,\n",
              " 'proven': 404,\n",
              " 'assumptions': 405,\n",
              " 'sum': 406,\n",
              " 'surrounding': 407,\n",
              " 'quarter': 408,\n",
              " 'measured': 409,\n",
              " 'planck': 410,\n",
              " 'units': 411,\n",
              " 'fact': 412,\n",
              " 'always': 413,\n",
              " 'increasing': 414,\n",
              " 'allows': 415,\n",
              " 'formulation': 416,\n",
              " 'analogue': 417,\n",
              " 'acting': 418,\n",
              " 'puzzling': 419,\n",
              " 'feature': 420,\n",
              " 'scales': 421,\n",
              " 'volume': 422,\n",
              " 'normally': 423,\n",
              " 'extensive': 424,\n",
              " 'quantity': 425,\n",
              " 'linearly': 426,\n",
              " 'odd': 427,\n",
              " 'property': 428,\n",
              " 'led': 429,\n",
              " 'gerard': 430,\n",
              " \"'t\": 431,\n",
              " 'hooft': 432,\n",
              " 'leonard': 433,\n",
              " 'susskind': 434,\n",
              " 'propose': 435,\n",
              " 'holographic': 436,\n",
              " 'principle': 437,\n",
              " 'suggests': 438,\n",
              " 'happens': 439,\n",
              " 'described': 440,\n",
              " 'data': 441,\n",
              " 'although': 442,\n",
              " 'perform': 443,\n",
              " 'semiclassical': 444,\n",
              " 'calculation': 445,\n",
              " 'situation': 446,\n",
              " 'theoretically': 447,\n",
              " 'unsatisfying': 448,\n",
              " 'statistical': 449,\n",
              " 'counting': 450,\n",
              " 'number': 451,\n",
              " 'microscopic': 452,\n",
              " 'configurations': 453,\n",
              " 'macroscopic': 454,\n",
              " 'qualities': 455,\n",
              " 'charge': 456,\n",
              " 'pressure': 457,\n",
              " 'etc': 458,\n",
              " 'without': 459,\n",
              " 'satisfactory': 460,\n",
              " 'computation': 461,\n",
              " 'progress': 462,\n",
              " 'been': 463,\n",
              " 'made': 464,\n",
              " 'various': 465,\n",
              " 'approaches': 466,\n",
              " 'andrew': 467,\n",
              " 'strominger': 468,\n",
              " 'cumrun': 469,\n",
              " 'vafa': 470,\n",
              " 'microstates': 471,\n",
              " 'specific': 472,\n",
              " 'supersymmetric': 473,\n",
              " 'string': 474,\n",
              " 'reproduced': 475,\n",
              " 'bekenstein–hawking': 476,\n",
              " 'then': 477,\n",
              " 'results': 478,\n",
              " 'reported': 479,\n",
              " 'different': 480,\n",
              " 'loop': 481,\n",
              " 'because': 482,\n",
              " 'only': 483,\n",
              " 'few': 484,\n",
              " 'internal': 485,\n",
              " 'parameters': 486,\n",
              " 'information': 487,\n",
              " 'went': 488,\n",
              " 'forming': 489,\n",
              " 'lost': 490,\n",
              " 'regardless': 491,\n",
              " 'type': 492,\n",
              " 'goes': 493,\n",
              " 'appears': 494,\n",
              " 'concerning': 495,\n",
              " 'angular': 496,\n",
              " 'momentum': 497,\n",
              " 'conserved': 498,\n",
              " 'thought': 499,\n",
              " 'persist': 500,\n",
              " 'forever': 501,\n",
              " 'loss': 502,\n",
              " 'problematic': 503,\n",
              " 'existing': 504,\n",
              " 'inside': 505,\n",
              " 'inaccessible': 506,\n",
              " 'outside': 507,\n",
              " 'represented': 508,\n",
              " 'accordance': 509,\n",
              " 'however': 510,\n",
              " 'slowly': 511,\n",
              " 'evaporate': 512,\n",
              " 'does': 513,\n",
              " 'appear': 514,\n",
              " 'additional': 515,\n",
              " 'meaning': 516,\n",
              " 'gone': 517,\n",
              " 'question': 518,\n",
              " 'whether': 519,\n",
              " 'truly': 520,\n",
              " '(': 521,\n",
              " 'paradox': 522,\n",
              " ')': 523,\n",
              " 'divided': 524,\n",
              " 'physics': 525,\n",
              " 'community': 526,\n",
              " 'corresponds': 527,\n",
              " 'unitarity': 528,\n",
              " 'argued': 529,\n",
              " 'imply': 530,\n",
              " 'conservation': 531,\n",
              " 'though': 532,\n",
              " 'disputed': 533,\n",
              " 'over': 534,\n",
              " 'recent': 535,\n",
              " 'years': 536,\n",
              " 'evidence': 537,\n",
              " 'building': 538,\n",
              " 'indeed': 539,\n",
              " 'preserved': 540,\n",
              " 'full': 541,\n",
              " 'treatment': 542,\n",
              " 'problem': 543,\n",
              " 'attempt': 544,\n",
              " 'resolve': 545,\n",
              " 'complementarity': 546,\n",
              " 'twenty': 547,\n",
              " 'twelve': 548,\n",
              " 'firewall': 549,\n",
              " 'introduced': 550,\n",
              " 'goal': 551,\n",
              " 'demonstrating': 552,\n",
              " 'fails': 553,\n",
              " 'solve': 554,\n",
              " 'according': 555,\n",
              " 'single': 556,\n",
              " 'emission': 557,\n",
              " 'involves': 558,\n",
              " 'two': 559,\n",
              " 'mutually': 560,\n",
              " 'entangled': 561,\n",
              " 'particles': 562,\n",
              " 'outgoing': 563,\n",
              " 'escapes': 564,\n",
              " 'assume': 565,\n",
              " 'finite': 566,\n",
              " 'past': 567,\n",
              " 'fully': 568,\n",
              " 'future': 569,\n",
              " 'amount': 570,\n",
              " 'encoded': 571,\n",
              " 'within': 572,\n",
              " 'physicists': 573,\n",
              " 'don': 574,\n",
              " 'page': 575,\n",
              " 'eventually': 576,\n",
              " 'must': 577,\n",
              " 'all': 578,\n",
              " 'previously': 579,\n",
              " ':': 580,\n",
              " 'monogamy': 581,\n",
              " 'entanglement': 582,\n",
              " 'requires': 583,\n",
              " 'yet': 584,\n",
              " 'here': 585,\n",
              " 'contradiction': 586,\n",
              " 'forced': 587,\n",
              " 'give': 588,\n",
              " 'up': 589,\n",
              " 'time-tested': 590,\n",
              " 'principles': 591,\n",
              " 'equivalence': 592,\n",
              " 'local': 593,\n",
              " 'violates': 594,\n",
              " 'destroys': 595,\n",
              " 'incoming': 596,\n",
              " 'which—if': 597,\n",
              " 'any—of': 598,\n",
              " 'these': 599,\n",
              " 'abandoned': 600,\n",
              " 'remains': 601,\n",
              " 'topic': 602,\n",
              " 'debate': 603}"
            ]
          },
          "metadata": {},
          "execution_count": 9
        }
      ],
      "source": [
        "# build vocabulary\n",
        "vocab = {'<unk>':0}\n",
        "\n",
        "for token in Counter(tokens).keys():   #for unique words\n",
        "  if token not in vocab:\n",
        "    vocab[token] = len(vocab)\n",
        "\n",
        "vocab"
      ]
    },
    {
      "cell_type": "code",
      "execution_count": 10,
      "metadata": {
        "colab": {
          "base_uri": "https://localhost:8080/"
        },
        "id": "SOOEZ94P0dQ1",
        "outputId": "bea03e4c-fe6d-4632-8005-ae30aa158710"
      },
      "outputs": [
        {
          "output_type": "execute_result",
          "data": {
            "text/plain": [
              "604"
            ]
          },
          "metadata": {},
          "execution_count": 10
        }
      ],
      "source": [
        "len(vocab)"
      ]
    },
    {
      "cell_type": "code",
      "execution_count": 11,
      "metadata": {
        "id": "RefNavJe1Cva"
      },
      "outputs": [],
      "source": [
        "input_sentences = document.split('\\n')"
      ]
    },
    {
      "cell_type": "code",
      "execution_count": 12,
      "metadata": {
        "id": "x52A3E1K1zjn"
      },
      "outputs": [],
      "source": [
        "def text_to_indices(sentence, vocab):\n",
        "\n",
        "  numerical_sentence = []\n",
        "\n",
        "  for token in sentence:\n",
        "    if token in vocab:\n",
        "      numerical_sentence.append(vocab[token])\n",
        "    else:\n",
        "      numerical_sentence.append(vocab['<unk>'])\n",
        "\n",
        "  return numerical_sentence\n"
      ]
    },
    {
      "cell_type": "code",
      "execution_count": 13,
      "metadata": {
        "id": "eu66Zo3e1Wh9"
      },
      "outputs": [],
      "source": [
        "input_numerical_sentences = []\n",
        "\n",
        "for sentence in input_sentences:\n",
        "  input_numerical_sentences.append(text_to_indices(word_tokenize(sentence.lower()), vocab))\n"
      ]
    },
    {
      "cell_type": "code",
      "execution_count": 14,
      "metadata": {
        "colab": {
          "base_uri": "https://localhost:8080/"
        },
        "id": "XxJesAQC1et3",
        "outputId": "3244ffe0-fe94-416b-b89c-7cb093025cce"
      },
      "outputs": [
        {
          "output_type": "execute_result",
          "data": {
            "text/plain": [
              "31"
            ]
          },
          "metadata": {},
          "execution_count": 14
        }
      ],
      "source": [
        "len(input_numerical_sentences)"
      ]
    },
    {
      "cell_type": "code",
      "execution_count": 15,
      "metadata": {
        "id": "80rIx4aq6ele"
      },
      "outputs": [],
      "source": [
        "training_sequence = []\n",
        "for sentence in input_numerical_sentences:\n",
        "\n",
        "  for i in range(1, len(sentence)):\n",
        "    training_sequence.append(sentence[:i+1])"
      ]
    },
    {
      "cell_type": "code",
      "execution_count": 16,
      "metadata": {
        "colab": {
          "base_uri": "https://localhost:8080/"
        },
        "id": "V_aGJ0fy7swk",
        "outputId": "ecd9db88-fa56-4306-cd79-8a9bebf3e6d0"
      },
      "outputs": [
        {
          "output_type": "execute_result",
          "data": {
            "text/plain": [
              "1841"
            ]
          },
          "metadata": {},
          "execution_count": 16
        }
      ],
      "source": [
        "len(training_sequence)"
      ]
    },
    {
      "cell_type": "code",
      "execution_count": 17,
      "metadata": {
        "colab": {
          "base_uri": "https://localhost:8080/"
        },
        "id": "wrFzZ4DD8Anu",
        "outputId": "1808a061-3700-4b83-81e3-4a4aaf503d8e"
      },
      "outputs": [
        {
          "output_type": "execute_result",
          "data": {
            "text/plain": [
              "[[1, 2], [1, 2, 3], [1, 2, 3, 4], [1, 2, 3, 4, 1], [1, 2, 3, 4, 1, 5]]"
            ]
          },
          "metadata": {},
          "execution_count": 17
        }
      ],
      "source": [
        "training_sequence[:5]     #they will be of different length"
      ]
    },
    {
      "cell_type": "code",
      "execution_count": 18,
      "metadata": {
        "colab": {
          "base_uri": "https://localhost:8080/"
        },
        "id": "q2Z_fiVZ8GRo",
        "outputId": "b22e3cc3-7948-4d65-81ae-29d9082e45c8"
      },
      "outputs": [
        {
          "output_type": "execute_result",
          "data": {
            "text/plain": [
              "176"
            ]
          },
          "metadata": {},
          "execution_count": 18
        }
      ],
      "source": [
        "len_list = []\n",
        "\n",
        "for sequence in training_sequence:\n",
        "  len_list.append(len(sequence))\n",
        "\n",
        "max(len_list)     #length of longest existing sequence"
      ]
    },
    {
      "cell_type": "code",
      "execution_count": 19,
      "metadata": {
        "colab": {
          "base_uri": "https://localhost:8080/"
        },
        "id": "4bIcIRd088EN",
        "outputId": "eca6add0-c692-4915-a7c0-c8500e3b77e8"
      },
      "outputs": [
        {
          "output_type": "execute_result",
          "data": {
            "text/plain": [
              "[1, 2]"
            ]
          },
          "metadata": {},
          "execution_count": 19
        }
      ],
      "source": [
        "training_sequence[0]"
      ]
    },
    {
      "cell_type": "code",
      "execution_count": 20,
      "metadata": {
        "id": "dtPg5uRN9Cc7"
      },
      "outputs": [],
      "source": [
        "padded_training_sequence = []\n",
        "for sequence in training_sequence:\n",
        "\n",
        "  padded_training_sequence.append([0]*(max(len_list) - len(sequence)) + sequence)"
      ]
    },
    {
      "cell_type": "code",
      "execution_count": 21,
      "metadata": {
        "colab": {
          "base_uri": "https://localhost:8080/"
        },
        "id": "hqZssF989X-4",
        "outputId": "7d9c5f64-c63c-4bb4-9460-d9ce55887154"
      },
      "outputs": [
        {
          "output_type": "execute_result",
          "data": {
            "text/plain": [
              "176"
            ]
          },
          "metadata": {},
          "execution_count": 21
        }
      ],
      "source": [
        "len(padded_training_sequence[10])   #length of all sequences will be 62 now"
      ]
    },
    {
      "cell_type": "code",
      "execution_count": 22,
      "metadata": {
        "id": "0_wVpepb9iE4"
      },
      "outputs": [],
      "source": [
        "padded_training_sequence = torch.tensor(padded_training_sequence, dtype=torch.long)"
      ]
    },
    {
      "cell_type": "code",
      "execution_count": 23,
      "metadata": {
        "colab": {
          "base_uri": "https://localhost:8080/"
        },
        "id": "ogKvdXa79yxV",
        "outputId": "9b2e3f73-04d7-41b2-82ed-beec659da8ac"
      },
      "outputs": [
        {
          "output_type": "execute_result",
          "data": {
            "text/plain": [
              "tensor([[  0,   0,   0,  ...,   0,   1,   2],\n",
              "        [  0,   0,   0,  ...,   1,   2,   3],\n",
              "        [  0,   0,   0,  ...,   2,   3,   4],\n",
              "        ...,\n",
              "        [  0,   0,   0,  ...,   1, 602,  26],\n",
              "        [  0,   0,   0,  ..., 602,  26, 603],\n",
              "        [  0,   0,   0,  ...,  26, 603,  21]])"
            ]
          },
          "metadata": {},
          "execution_count": 23
        }
      ],
      "source": [
        "padded_training_sequence"
      ]
    },
    {
      "cell_type": "code",
      "execution_count": 24,
      "metadata": {
        "id": "Tz8fwCok90m0"
      },
      "outputs": [],
      "source": [
        "X = padded_training_sequence[:, :-1]    #Changing into supervised\n",
        "y = padded_training_sequence[:,-1]"
      ]
    },
    {
      "cell_type": "code",
      "execution_count": 25,
      "metadata": {
        "colab": {
          "base_uri": "https://localhost:8080/"
        },
        "id": "1Ed_PLHJ-Dgv",
        "outputId": "343e686c-7375-47ef-fa3b-424ba50dc792"
      },
      "outputs": [
        {
          "output_type": "execute_result",
          "data": {
            "text/plain": [
              "tensor([[  0,   0,   0,  ...,   0,   0,   1],\n",
              "        [  0,   0,   0,  ...,   0,   1,   2],\n",
              "        [  0,   0,   0,  ...,   1,   2,   3],\n",
              "        ...,\n",
              "        [  0,   0,   0,  ..., 601,   1, 602],\n",
              "        [  0,   0,   0,  ...,   1, 602,  26],\n",
              "        [  0,   0,   0,  ..., 602,  26, 603]])"
            ]
          },
          "metadata": {},
          "execution_count": 25
        }
      ],
      "source": [
        "X"
      ]
    },
    {
      "cell_type": "code",
      "execution_count": 26,
      "metadata": {
        "colab": {
          "base_uri": "https://localhost:8080/"
        },
        "id": "eReVrcX9-EUU",
        "outputId": "a41eee6c-1233-4a6f-e380-df93f08a6940"
      },
      "outputs": [
        {
          "output_type": "execute_result",
          "data": {
            "text/plain": [
              "tensor([  2,   3,   4,  ...,  26, 603,  21])"
            ]
          },
          "metadata": {},
          "execution_count": 26
        }
      ],
      "source": [
        "y"
      ]
    },
    {
      "cell_type": "code",
      "execution_count": 27,
      "metadata": {
        "id": "fR059hVd-IAf"
      },
      "outputs": [],
      "source": [
        "class CustomDataset(Dataset):\n",
        "\n",
        "  def __init__(self, X, y):\n",
        "    self.X = X\n",
        "    self.y = y\n",
        "\n",
        "  def __len__(self):\n",
        "    return self.X.shape[0]\n",
        "\n",
        "  def __getitem__(self, idx):\n",
        "    return self.X[idx], self.y[idx]"
      ]
    },
    {
      "cell_type": "code",
      "execution_count": 28,
      "metadata": {
        "id": "KLX0clQM_j9r"
      },
      "outputs": [],
      "source": [
        "dataset = CustomDataset(X,y)"
      ]
    },
    {
      "cell_type": "code",
      "execution_count": 29,
      "metadata": {
        "colab": {
          "base_uri": "https://localhost:8080/"
        },
        "id": "uYHaeSuI_nJX",
        "outputId": "37d74689-7b4c-4966-fd2d-e751bbc12320"
      },
      "outputs": [
        {
          "output_type": "execute_result",
          "data": {
            "text/plain": [
              "1841"
            ]
          },
          "metadata": {},
          "execution_count": 29
        }
      ],
      "source": [
        "len(dataset)"
      ]
    },
    {
      "cell_type": "code",
      "execution_count": 30,
      "metadata": {
        "id": "7ZUeD3l6_oZ3"
      },
      "outputs": [],
      "source": [
        "dataloader = DataLoader(dataset, batch_size=32, shuffle=True)  #to process 32 sequences at once"
      ]
    },
    {
      "cell_type": "code",
      "execution_count": 31,
      "metadata": {
        "id": "0TEukXmWDEn8"
      },
      "outputs": [],
      "source": [
        "class LSTMModel(nn.Module):\n",
        "\n",
        "  def __init__(self, vocab_size):\n",
        "    super().__init__()\n",
        "    self.embedding = nn.Embedding(vocab_size, 100)    #every word is represented using vector of size 100\n",
        "    self.lstm = nn.LSTM(100, 150, batch_first=True)    # no. of neurons in embedding layer,no. of neurons in other layers of lstm\n",
        "    self.fc = nn.Linear(150, vocab_size)\n",
        "\n",
        "  def forward(self, x):\n",
        "    embedded = self.embedding(x)\n",
        "    intermediate_hidden_states, (final_hidden_state, final_cell_state) = self.lstm(embedded)\n",
        "    output = self.fc(final_hidden_state.squeeze(0))\n",
        "    return output"
      ]
    },
    {
      "cell_type": "code",
      "execution_count": 32,
      "metadata": {
        "id": "Tz0WpT1M5WFP"
      },
      "outputs": [],
      "source": [
        "x=nn.Embedding(289,100)    #UNDERSTANDING LSTM ARCHITECTURE\n",
        "y=nn.LSTM(100,150,batch_first=True)\n",
        "z=nn.Linear(150,289)"
      ]
    },
    {
      "cell_type": "code",
      "execution_count": 33,
      "metadata": {
        "id": "uBD24XGg5WFP"
      },
      "outputs": [],
      "source": [
        "a=dataset[0][0].unsqueeze(0)"
      ]
    },
    {
      "cell_type": "code",
      "execution_count": 34,
      "metadata": {
        "id": "21XQeezr5WFP"
      },
      "outputs": [],
      "source": [
        "b=x(a)"
      ]
    },
    {
      "cell_type": "code",
      "execution_count": 35,
      "metadata": {
        "id": "tQ9xT8Lo5WFP"
      },
      "outputs": [],
      "source": [
        "c,d=y(b)"
      ]
    },
    {
      "cell_type": "code",
      "execution_count": 36,
      "metadata": {
        "colab": {
          "base_uri": "https://localhost:8080/"
        },
        "id": "u1XD3FJh5WFP",
        "outputId": "3ef771eb-1c43-4efd-ef16-53730ffe6402"
      },
      "outputs": [
        {
          "output_type": "execute_result",
          "data": {
            "text/plain": [
              "torch.Size([1, 175, 150])"
            ]
          },
          "metadata": {},
          "execution_count": 36
        }
      ],
      "source": [
        "c.shape   #set of all intermediate hidden states"
      ]
    },
    {
      "cell_type": "code",
      "execution_count": 37,
      "metadata": {
        "id": "hu6WNc5a5WFQ"
      },
      "outputs": [],
      "source": [
        "e,f=d"
      ]
    },
    {
      "cell_type": "code",
      "execution_count": 38,
      "metadata": {
        "colab": {
          "base_uri": "https://localhost:8080/"
        },
        "id": "x1TI_qPe5WFQ",
        "outputId": "a1a833f9-c99f-4494-f9b5-fa8475703eba"
      },
      "outputs": [
        {
          "output_type": "execute_result",
          "data": {
            "text/plain": [
              "torch.Size([1, 1, 150])"
            ]
          },
          "metadata": {},
          "execution_count": 38
        }
      ],
      "source": [
        "e.shape   #cell state of final timestamp\n",
        "f.shape   #hiddden state of final timestamp"
      ]
    },
    {
      "cell_type": "code",
      "execution_count": 39,
      "metadata": {
        "colab": {
          "base_uri": "https://localhost:8080/"
        },
        "id": "wz7AUAtU5WFQ",
        "outputId": "63e3b3b6-fe86-4c57-f7cb-1a4d10ebb80e"
      },
      "outputs": [
        {
          "output_type": "execute_result",
          "data": {
            "text/plain": [
              "torch.Size([1, 289])"
            ]
          },
          "metadata": {},
          "execution_count": 39
        }
      ],
      "source": [
        "z(f.squeeze(0)).shape    #Logit value for all words (we can extract probabilities)"
      ]
    },
    {
      "cell_type": "code",
      "execution_count": 40,
      "metadata": {
        "id": "YcQEVc9aVgr5"
      },
      "outputs": [],
      "source": [
        "model = LSTMModel(len(vocab))"
      ]
    },
    {
      "cell_type": "code",
      "execution_count": 41,
      "metadata": {
        "id": "Lvm7W6L1X6P1"
      },
      "outputs": [],
      "source": [
        "device = torch.device(\"cuda\" if torch.cuda.is_available() else \"cpu\")"
      ]
    },
    {
      "cell_type": "code",
      "execution_count": 42,
      "metadata": {
        "colab": {
          "base_uri": "https://localhost:8080/"
        },
        "id": "oXwq43NRYD3q",
        "outputId": "4bd40d5a-ff25-4e41-96f7-addbd554bf14"
      },
      "outputs": [
        {
          "output_type": "execute_result",
          "data": {
            "text/plain": [
              "LSTMModel(\n",
              "  (embedding): Embedding(604, 100)\n",
              "  (lstm): LSTM(100, 150, batch_first=True)\n",
              "  (fc): Linear(in_features=150, out_features=604, bias=True)\n",
              ")"
            ]
          },
          "metadata": {},
          "execution_count": 42
        }
      ],
      "source": [
        "model.to(device)"
      ]
    },
    {
      "cell_type": "code",
      "execution_count": 43,
      "metadata": {
        "id": "1faORN1VYFdu"
      },
      "outputs": [],
      "source": [
        "epochs = 50\n",
        "learning_rate = 0.001\n",
        "\n",
        "criterion = nn.CrossEntropyLoss()\n",
        "\n",
        "optimizer = torch.optim.Adam(model.parameters(), lr=learning_rate)"
      ]
    },
    {
      "cell_type": "code",
      "execution_count": 44,
      "metadata": {
        "colab": {
          "base_uri": "https://localhost:8080/"
        },
        "id": "LRLc1cbrYVVV",
        "outputId": "7424a6fb-86b7-4d74-b406-1856366bd383"
      },
      "outputs": [
        {
          "output_type": "stream",
          "name": "stdout",
          "text": [
            "Epoch: 1, Loss: 353.5819\n",
            "Epoch: 2, Loss: 306.5803\n",
            "Epoch: 3, Loss: 284.1554\n",
            "Epoch: 4, Loss: 258.5847\n",
            "Epoch: 5, Loss: 232.3996\n",
            "Epoch: 6, Loss: 207.6156\n",
            "Epoch: 7, Loss: 183.3013\n",
            "Epoch: 8, Loss: 160.3867\n",
            "Epoch: 9, Loss: 139.2998\n",
            "Epoch: 10, Loss: 120.2089\n",
            "Epoch: 11, Loss: 102.6939\n",
            "Epoch: 12, Loss: 86.6284\n",
            "Epoch: 13, Loss: 72.8970\n",
            "Epoch: 14, Loss: 61.0631\n",
            "Epoch: 15, Loss: 51.0748\n",
            "Epoch: 16, Loss: 42.7557\n",
            "Epoch: 17, Loss: 36.0006\n",
            "Epoch: 18, Loss: 30.2133\n",
            "Epoch: 19, Loss: 25.7332\n",
            "Epoch: 20, Loss: 21.7401\n",
            "Epoch: 21, Loss: 18.8057\n",
            "Epoch: 22, Loss: 16.1714\n",
            "Epoch: 23, Loss: 13.9407\n",
            "Epoch: 24, Loss: 12.2057\n",
            "Epoch: 25, Loss: 10.8463\n",
            "Epoch: 26, Loss: 9.6230\n",
            "Epoch: 27, Loss: 8.5352\n",
            "Epoch: 28, Loss: 7.7086\n",
            "Epoch: 29, Loss: 6.9829\n",
            "Epoch: 30, Loss: 6.3533\n",
            "Epoch: 31, Loss: 5.7943\n",
            "Epoch: 32, Loss: 5.3328\n",
            "Epoch: 33, Loss: 4.8816\n",
            "Epoch: 34, Loss: 4.6165\n",
            "Epoch: 35, Loss: 4.2457\n",
            "Epoch: 36, Loss: 3.9241\n",
            "Epoch: 37, Loss: 3.6956\n",
            "Epoch: 38, Loss: 3.4382\n",
            "Epoch: 39, Loss: 3.2134\n",
            "Epoch: 40, Loss: 3.0204\n",
            "Epoch: 41, Loss: 2.8894\n",
            "Epoch: 42, Loss: 2.7352\n",
            "Epoch: 43, Loss: 2.5820\n",
            "Epoch: 44, Loss: 2.4374\n",
            "Epoch: 45, Loss: 2.3248\n",
            "Epoch: 46, Loss: 2.2453\n",
            "Epoch: 47, Loss: 2.1005\n",
            "Epoch: 48, Loss: 2.0168\n",
            "Epoch: 49, Loss: 1.9283\n",
            "Epoch: 50, Loss: 1.8377\n"
          ]
        }
      ],
      "source": [
        "# training loop\n",
        "\n",
        "for epoch in range(epochs):\n",
        "  total_loss = 0\n",
        "\n",
        "  for batch_x, batch_y in dataloader:\n",
        "\n",
        "    batch_x, batch_y = batch_x.to(device), batch_y.to(device)  #importing to gpu\n",
        "\n",
        "    optimizer.zero_grad()\n",
        "\n",
        "    output = model(batch_x)\n",
        "\n",
        "    loss = criterion(output, batch_y)\n",
        "\n",
        "    loss.backward()\n",
        "\n",
        "    optimizer.step()\n",
        "\n",
        "    total_loss = total_loss + loss.item()\n",
        "\n",
        "  print(f\"Epoch: {epoch + 1}, Loss: {total_loss:.4f}\")"
      ]
    },
    {
      "cell_type": "code",
      "execution_count": 45,
      "metadata": {
        "id": "O9f6DkX-ZM-r"
      },
      "outputs": [],
      "source": [
        "# prediction\n",
        "\n",
        "def prediction(model, vocab, text):\n",
        "\n",
        "  # tokenize\n",
        "  tokenized_text = word_tokenize(text.lower())\n",
        "\n",
        "  # text -> numerical indices\n",
        "  numerical_text = text_to_indices(tokenized_text, vocab)\n",
        "\n",
        "  # padding\n",
        "  padded_text = torch.tensor([0] * (61 - len(numerical_text)) + numerical_text, dtype=torch.long).unsqueeze(0)\n",
        "\n",
        "  # send to model\n",
        "  output = model(padded_text)\n",
        "\n",
        "  # predicted index\n",
        "  value, index = torch.max(output, dim=1)\n",
        "\n",
        "  # merge with text\n",
        "  return text + \" \" + list(vocab.keys())[index]\n",
        "\n"
      ]
    },
    {
      "cell_type": "code",
      "execution_count": 48,
      "metadata": {
        "colab": {
          "base_uri": "https://localhost:8080/",
          "height": 36
        },
        "id": "VsRgcJysbGCg",
        "outputId": "17c8c6e1-d407-49e9-8243-8a94444e4696"
      },
      "outputs": [
        {
          "output_type": "execute_result",
          "data": {
            "text/plain": [
              "'The presence of a black hole can be inferred through its interaction'"
            ],
            "application/vnd.google.colaboratory.intrinsic+json": {
              "type": "string"
            }
          },
          "metadata": {},
          "execution_count": 48
        }
      ],
      "source": [
        "prediction(model, vocab, \"The presence of a black hole can be inferred through its\")"
      ]
    },
    {
      "cell_type": "code",
      "execution_count": 50,
      "metadata": {
        "colab": {
          "base_uri": "https://localhost:8080/"
        },
        "id": "t_JPACfEbNPo",
        "outputId": "296fe5b9-1e4b-4d72-fd3d-9ce48fc4921b"
      },
      "outputs": [
        {
          "output_type": "stream",
          "name": "stdout",
          "text": [
            "how are whose\n",
            "how are whose gravitational\n",
            "how are whose gravitational fields\n",
            "how are whose gravitational fields are\n",
            "how are whose gravitational fields are too\n",
            "how are whose gravitational fields are too strong\n",
            "how are whose gravitational fields are too strong for\n",
            "how are whose gravitational fields are too strong for light\n",
            "how are whose gravitational fields are too strong for light to\n",
            "how are whose gravitational fields are too strong for light to escape\n"
          ]
        }
      ],
      "source": [
        "import time\n",
        "\n",
        "num_tokens = 10\n",
        "input_text = \"how are\"\n",
        "\n",
        "for i in range(num_tokens):\n",
        "  output_text = prediction(model, vocab, input_text)\n",
        "  print(output_text)\n",
        "  input_text = output_text\n",
        "  time.sleep(0.5)\n"
      ]
    },
    {
      "cell_type": "code",
      "execution_count": 54,
      "metadata": {
        "id": "pn6xTbhV5WFc"
      },
      "outputs": [],
      "source": [
        "#We can also try extracting n max possible next words of a sequence instead of 1 only"
      ]
    },
    {
      "cell_type": "code",
      "execution_count": 52,
      "metadata": {
        "id": "JXsV4AnNXNnw"
      },
      "outputs": [],
      "source": [
        "dataloader1 = DataLoader(dataset, batch_size=32, shuffle=False)"
      ]
    },
    {
      "cell_type": "code",
      "execution_count": 53,
      "metadata": {
        "colab": {
          "base_uri": "https://localhost:8080/"
        },
        "id": "Py7o0rJJc5pm",
        "outputId": "5f1932fb-65de-4a64-f29a-54a0ae3dcf98"
      },
      "outputs": [
        {
          "output_type": "stream",
          "name": "stdout",
          "text": [
            "Model Accuracy: 99.73%\n"
          ]
        }
      ],
      "source": [
        "# Function to calculate accuracy\n",
        "def calculate_accuracy(model, dataloader, device):\n",
        "    model.eval()  # Set the model to evaluation mode\n",
        "    correct = 0\n",
        "    total = 0\n",
        "\n",
        "    with torch.no_grad():  # No need to compute gradients\n",
        "        for batch_x, batch_y in dataloader1:\n",
        "            batch_x, batch_y = batch_x.to(device), batch_y.to(device)\n",
        "\n",
        "            # Get model predictions\n",
        "            outputs = model(batch_x)\n",
        "\n",
        "            # Get the predicted word indices\n",
        "            _, predicted = torch.max(outputs, dim=1)\n",
        "\n",
        "            # Compare with actual labels\n",
        "            correct += (predicted == batch_y).sum().item()\n",
        "            total += batch_y.size(0)\n",
        "\n",
        "    accuracy = correct / total * 100\n",
        "    return accuracy\n",
        "\n",
        "# Compute accuracy\n",
        "accuracy = calculate_accuracy(model, dataloader, device)\n",
        "print(f\"Model Accuracy: {accuracy:.2f}%\")\n"
      ]
    },
    {
      "cell_type": "code",
      "execution_count": null,
      "metadata": {
        "id": "0bQnBuShXG5i"
      },
      "outputs": [],
      "source": []
    }
  ],
  "metadata": {
    "colab": {
      "provenance": []
    },
    "kernelspec": {
      "display_name": "Python 3",
      "name": "python3"
    },
    "language_info": {
      "name": "python"
    }
  },
  "nbformat": 4,
  "nbformat_minor": 0
}