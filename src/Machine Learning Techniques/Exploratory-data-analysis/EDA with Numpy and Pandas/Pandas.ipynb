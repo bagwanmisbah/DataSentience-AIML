{
 "cells": [
  {
   "cell_type": "markdown",
   "id": "40f23575-2211-46cf-a77e-617bd24e42bf",
   "metadata": {},
   "source": [
    "# Getting Started with Pandas\n",
    "\n",
    "# 🐼 Introduction to Pandas\n",
    "\n",
    "## What is Pandas?\n",
    "\n",
    "**Pandas** is an open-source Python library used for **data analysis and manipulation**. It provides high-level data structures and powerful tools to work with structured (tabular, multidimensional, time series) data.\n",
    "\n",
    "Pandas is built on top of **NumPy** and is widely used in fields such as:\n",
    "- Data science and analytics\n",
    "- Machine learning pipelines\n",
    "- ETL (Extract, Transform, Load) workflows\n",
    "- Financial and statistical modeling\n",
    "\n",
    "---\n",
    "## 📌 Goal of This Notebook\n",
    "The purpose of this notebook is to help you build a strong foundation in using the Pandas library, which is essential for data analysis and manipulation in Python. Through hands-on examples and explanations, you'll learn how to inspect, filter, transform, and summarize structured data using Pandas' core tools.\n",
    "\n",
    "---\n",
    "## 🎯 What You Will Learn\n",
    "By the end of this notebook, you will be able to:\n",
    "\n",
    "* Understand the difference between `Series` and `DataFrames`\n",
    "* Load and explore data using methods like `.head()`, `.info()`, `.describe()`, etc.\n",
    "* Perform column and row selection using `.loc[]`, `.iloc[]`, and Boolean filtering\n",
    "* Handle missing data using `.isnull()`, `.dropna()`\n",
    "* Create, update, rename, and replace columns\n",
    "* Work with datetime columns and extract features like year, month, and weekday\n",
    "* Group data and perform aggregations using `.groupby()` and `.agg()`\n",
    "* Apply string operations to clean or filter textual data\n",
    "\n",
    "---\n",
    "# Let's get started!!\n",
    "---\n",
    "## 🧱 Core Data Structures in Pandas\n",
    "\n",
    "Pandas provides two primary data structures:\n",
    "\n",
    "### 1. 📐 Series\n",
    "\n",
    "A **Series** is a **one-dimensional labeled array** capable of holding any data type (integers, floats, strings, objects, etc.).\n",
    "\n",
    "#### Key Features:\n",
    "- Like a column in Excel or a single column in a table.\n",
    "- Has both **values** and an **index**.\n",
    "- Can store missing or NaN values.\n"
   ]
  },
  {
   "cell_type": "markdown",
   "id": "40d83677-36dd-4e10-b4fd-8f9270bb7208",
   "metadata": {},
   "source": [
    "### 2. 📊 DataFrame\n",
    "A DataFrame is a two-dimensional labeled data structure, similar to a spreadsheet, SQL table, or a dictionary of Series objects.\n",
    "\n",
    "**Key Features:**\n",
    "Consists of rows and columns.\n",
    "\n",
    "* Each column is a Series.\n",
    "* Can hold different data types in different columns.\n",
    "* Supports rich operations: filtering, grouping, merging, pivoting, etc\n",
    "\n",
    "### ✅ Summary Table\n",
    "| Concept       | Type             | Dimensions | Use Case                            |\n",
    "| ------------- | ---------------- | ---------- | ----------------------------------- |\n",
    "| **Series**    | 1D labeled array | 1          | Storing a single column of data     |\n",
    "| **DataFrame** | 2D table         | 2          | Storing structured/tabular datasets |\n"
   ]
  },
  {
   "cell_type": "code",
   "execution_count": 1,
   "id": "88e1828c-3e1b-4bff-97f4-3af7aadaeccf",
   "metadata": {},
   "outputs": [
    {
     "name": "stdout",
     "output_type": "stream",
     "text": [
      "Requirement already satisfied: pandas in c:\\users\\lenovo\\anaconda3\\lib\\site-packages (2.2.2)\n",
      "Requirement already satisfied: numpy>=1.26.0 in c:\\users\\lenovo\\anaconda3\\lib\\site-packages (from pandas) (1.26.4)\n",
      "Requirement already satisfied: python-dateutil>=2.8.2 in c:\\users\\lenovo\\anaconda3\\lib\\site-packages (from pandas) (2.9.0.post0)\n",
      "Requirement already satisfied: pytz>=2020.1 in c:\\users\\lenovo\\anaconda3\\lib\\site-packages (from pandas) (2024.1)\n",
      "Requirement already satisfied: tzdata>=2022.7 in c:\\users\\lenovo\\anaconda3\\lib\\site-packages (from pandas) (2023.3)\n",
      "Requirement already satisfied: six>=1.5 in c:\\users\\lenovo\\anaconda3\\lib\\site-packages (from python-dateutil>=2.8.2->pandas) (1.16.0)\n"
     ]
    }
   ],
   "source": [
    "# Install Pandaas\n",
    "!pip install pandas"
   ]
  },
  {
   "cell_type": "markdown",
   "id": "416aadcf-cdd7-423e-a87d-ae3432fd5d6b",
   "metadata": {},
   "source": [
    "## 📦 1. Imports\n",
    "\n",
    "We begin by importing the required libraries:\n",
    "\n",
    "* `pandas` is imported as pd: used for data manipulation and analysis.\n",
    "\n",
    "* `numpy` is imported as np: used for numerical operations, including NaN values (np.nan).\n",
    "\n",
    "`🔍 Note:` Keywords in pandas are case-sensitive."
   ]
  },
  {
   "cell_type": "code",
   "execution_count": 2,
   "id": "1c6bb5bd-68b0-4414-a4bb-c634186d11a9",
   "metadata": {},
   "outputs": [],
   "source": [
    "import pandas as pd\n",
    "import numpy as np\n",
    "\n",
    "# Note: Keywords are case-sensitive in pandas"
   ]
  },
  {
   "cell_type": "markdown",
   "id": "6ffacb36-52f2-479c-8979-2b37506df8ff",
   "metadata": {},
   "source": [
    "## 🧪 2. Ways of Creating Series and DataFrame"
   ]
  },
  {
   "cell_type": "markdown",
   "id": "21f8c490-0d26-49b9-bbaf-590d388da99c",
   "metadata": {},
   "source": [
    "### 🔹 2.1 Series\n",
    "A Series in pandas is a one-dimensional labeled array that can hold any data type."
   ]
  },
  {
   "cell_type": "code",
   "execution_count": 3,
   "id": "41dd8477-f35a-40cf-b004-538d57e7fd5a",
   "metadata": {},
   "outputs": [
    {
     "data": {
      "text/plain": [
       "0      1\n",
       "1      2\n",
       "2      3\n",
       "3    NaN\n",
       "4      A\n",
       "dtype: object"
      ]
     },
     "execution_count": 3,
     "metadata": {},
     "output_type": "execute_result"
    }
   ],
   "source": [
    "# Pandas uses two data structures - Series and DataFrame\n",
    "\n",
    "# Creating the Series \n",
    "ser = pd.Series([1,2,3,np.nan,'A'])\n",
    "\n",
    "# ✅ Creates a Series with integers, a NaN (missing value), and a string.\n",
    "ser"
   ]
  },
  {
   "cell_type": "markdown",
   "id": "253f8d1d-2367-46a9-83ff-1748d59be491",
   "metadata": {},
   "source": [
    "* ✅ Creates a Series from a NumPy array.\n",
    "\n",
    "* dtype: int32 or int64 depending on platform."
   ]
  },
  {
   "cell_type": "code",
   "execution_count": 4,
   "id": "255bd722-a1e2-4508-b39a-7a46666cf2e1",
   "metadata": {},
   "outputs": [
    {
     "data": {
      "text/plain": [
       "0    14\n",
       "1    56\n",
       "2     3\n",
       "3    77\n",
       "4    11\n",
       "dtype: int32"
      ]
     },
     "execution_count": 4,
     "metadata": {},
     "output_type": "execute_result"
    }
   ],
   "source": [
    "# Creating Series from numpy array\n",
    "arr = np.array([14,56,3,77,11])\n",
    "ser = pd.Series(arr)\n",
    "ser"
   ]
  },
  {
   "cell_type": "markdown",
   "id": "22bb466a-c289-42ab-bc07-d03002e08d9b",
   "metadata": {},
   "source": [
    "## 🔹 2.2 DataFrame\n",
    "A DataFrame is a two-dimensional, size-mutable, and heterogeneous data structure with labeled axes (rows and columns)."
   ]
  },
  {
   "cell_type": "markdown",
   "id": "9645eb42-cf3c-46f3-90aa-ace7bb79c99d",
   "metadata": {},
   "source": [
    "#### ✅ From Series\n"
   ]
  },
  {
   "cell_type": "code",
   "execution_count": 5,
   "id": "83459f6a-86a4-4068-b0c1-2dfd8e03fca9",
   "metadata": {},
   "outputs": [
    {
     "data": {
      "text/html": [
       "<div>\n",
       "<style scoped>\n",
       "    .dataframe tbody tr th:only-of-type {\n",
       "        vertical-align: middle;\n",
       "    }\n",
       "\n",
       "    .dataframe tbody tr th {\n",
       "        vertical-align: top;\n",
       "    }\n",
       "\n",
       "    .dataframe thead th {\n",
       "        text-align: right;\n",
       "    }\n",
       "</style>\n",
       "<table border=\"1\" class=\"dataframe\">\n",
       "  <thead>\n",
       "    <tr style=\"text-align: right;\">\n",
       "      <th></th>\n",
       "      <th>0</th>\n",
       "    </tr>\n",
       "  </thead>\n",
       "  <tbody>\n",
       "    <tr>\n",
       "      <th>0</th>\n",
       "      <td>Anna</td>\n",
       "    </tr>\n",
       "    <tr>\n",
       "      <th>1</th>\n",
       "      <td>Bob</td>\n",
       "    </tr>\n",
       "    <tr>\n",
       "      <th>2</th>\n",
       "      <td>Jenna</td>\n",
       "    </tr>\n",
       "    <tr>\n",
       "      <th>3</th>\n",
       "      <td>Park</td>\n",
       "    </tr>\n",
       "  </tbody>\n",
       "</table>\n",
       "</div>"
      ],
      "text/plain": [
       "       0\n",
       "0   Anna\n",
       "1    Bob\n",
       "2  Jenna\n",
       "3   Park"
      ]
     },
     "execution_count": 5,
     "metadata": {},
     "output_type": "execute_result"
    }
   ],
   "source": [
    "# Creating the dataframe from a series\n",
    "sr = pd.Series(['Anna','Bob','Jenna','Park'])\n",
    "\n",
    "# Converts a Series into a one-column DataFrame.\n",
    "df = pd.DataFrame(sr)\n",
    "df"
   ]
  },
  {
   "cell_type": "markdown",
   "id": "445d87e0-797a-4bac-8c21-63a3d1d0bb4b",
   "metadata": {},
   "source": [
    "#### ✅ From Array"
   ]
  },
  {
   "cell_type": "code",
   "execution_count": 6,
   "id": "237366e1-f0e9-43df-9e30-57293d36cc28",
   "metadata": {},
   "outputs": [
    {
     "data": {
      "text/html": [
       "<div>\n",
       "<style scoped>\n",
       "    .dataframe tbody tr th:only-of-type {\n",
       "        vertical-align: middle;\n",
       "    }\n",
       "\n",
       "    .dataframe tbody tr th {\n",
       "        vertical-align: top;\n",
       "    }\n",
       "\n",
       "    .dataframe thead th {\n",
       "        text-align: right;\n",
       "    }\n",
       "</style>\n",
       "<table border=\"1\" class=\"dataframe\">\n",
       "  <thead>\n",
       "    <tr style=\"text-align: right;\">\n",
       "      <th></th>\n",
       "      <th>0</th>\n",
       "    </tr>\n",
       "  </thead>\n",
       "  <tbody>\n",
       "    <tr>\n",
       "      <th>0</th>\n",
       "      <td>14</td>\n",
       "    </tr>\n",
       "    <tr>\n",
       "      <th>1</th>\n",
       "      <td>56</td>\n",
       "    </tr>\n",
       "    <tr>\n",
       "      <th>2</th>\n",
       "      <td>3</td>\n",
       "    </tr>\n",
       "    <tr>\n",
       "      <th>3</th>\n",
       "      <td>77</td>\n",
       "    </tr>\n",
       "    <tr>\n",
       "      <th>4</th>\n",
       "      <td>11</td>\n",
       "    </tr>\n",
       "  </tbody>\n",
       "</table>\n",
       "</div>"
      ],
      "text/plain": [
       "    0\n",
       "0  14\n",
       "1  56\n",
       "2   3\n",
       "3  77\n",
       "4  11"
      ]
     },
     "execution_count": 6,
     "metadata": {},
     "output_type": "execute_result"
    }
   ],
   "source": [
    "# creating dataframe from array\n",
    "df = pd.DataFrame(arr)\n",
    "# Converts a 1D NumPy array into a single-column DataFrame.\n",
    "df"
   ]
  },
  {
   "cell_type": "markdown",
   "id": "d7ab34aa-215a-408b-ad0e-8814917184cf",
   "metadata": {},
   "source": [
    "#### ✅ From Dictionary"
   ]
  },
  {
   "cell_type": "code",
   "execution_count": 7,
   "id": "2ec39f9c-78cd-4100-9d15-af758f667323",
   "metadata": {},
   "outputs": [
    {
     "data": {
      "text/html": [
       "<div>\n",
       "<style scoped>\n",
       "    .dataframe tbody tr th:only-of-type {\n",
       "        vertical-align: middle;\n",
       "    }\n",
       "\n",
       "    .dataframe tbody tr th {\n",
       "        vertical-align: top;\n",
       "    }\n",
       "\n",
       "    .dataframe thead th {\n",
       "        text-align: right;\n",
       "    }\n",
       "</style>\n",
       "<table border=\"1\" class=\"dataframe\">\n",
       "  <thead>\n",
       "    <tr style=\"text-align: right;\">\n",
       "      <th></th>\n",
       "      <th>Name</th>\n",
       "      <th>Age</th>\n",
       "      <th>Salary</th>\n",
       "    </tr>\n",
       "  </thead>\n",
       "  <tbody>\n",
       "    <tr>\n",
       "      <th>0</th>\n",
       "      <td>Alice</td>\n",
       "      <td>25</td>\n",
       "      <td>50000</td>\n",
       "    </tr>\n",
       "    <tr>\n",
       "      <th>1</th>\n",
       "      <td>Bob</td>\n",
       "      <td>30</td>\n",
       "      <td>60000</td>\n",
       "    </tr>\n",
       "    <tr>\n",
       "      <th>2</th>\n",
       "      <td>Charlie</td>\n",
       "      <td>35</td>\n",
       "      <td>70000</td>\n",
       "    </tr>\n",
       "  </tbody>\n",
       "</table>\n",
       "</div>"
      ],
      "text/plain": [
       "      Name  Age  Salary\n",
       "0    Alice   25   50000\n",
       "1      Bob   30   60000\n",
       "2  Charlie   35   70000"
      ]
     },
     "execution_count": 7,
     "metadata": {},
     "output_type": "execute_result"
    }
   ],
   "source": [
    "# Creating Dataframe from dictionary\n",
    "\n",
    "# Dictionary\n",
    "data = {\n",
    "    'Name': ['Alice', 'Bob', 'Charlie'],\n",
    "    'Age': [25, 30, 35],\n",
    "    'Salary': [50000, 60000, 70000]\n",
    "}\n",
    "# Dataframe from dictionary\n",
    "df = pd.DataFrame(data)\n",
    "\n",
    "# Let's see the dictionary\n",
    "df\n"
   ]
  },
  {
   "cell_type": "markdown",
   "id": "4b72b91c-cf80-41aa-9e36-99ba3209dc69",
   "metadata": {},
   "source": [
    "* Creates a structured table with named columns.\n",
    "* Each key in the dictionary becomes a column."
   ]
  },
  {
   "cell_type": "markdown",
   "id": "ac962396-ccbf-4892-a492-949a73023c99",
   "metadata": {},
   "source": [
    "### 💾 3. Reading & Writing Data (I/O Operations)\n"
   ]
  },
  {
   "cell_type": "markdown",
   "id": "c4e577dd-d23c-48f5-8e74-299ce51e8fcf",
   "metadata": {},
   "source": [
    "* `read_*` functions load data from external files into DataFrames.\n",
    "\n",
    "* `to_*` functions save DataFrames into respective formats.\n",
    "\n",
    "* `index=False` prevents pandas from writing row numbers into the output files."
   ]
  },
  {
   "cell_type": "code",
   "execution_count": null,
   "id": "5c90006d-7814-445e-86d5-9b0490340110",
   "metadata": {},
   "outputs": [],
   "source": [
    "# Reading and writing CSV\n",
    "df = pd.read_csv('file.csv')\n",
    "df.to_csv('file.csv', index=False)\n",
    "\n",
    "# Reading and writing Excel\n",
    "df = pd.read_excel('file.xlsx')\n",
    "df.to_excel('file.xlsx', index=False)\n",
    "\n",
    "# Reading and writing JSON\n",
    "df = pd.read_json('file.json')\n",
    "df.to_json('file.json')\n",
    "\n",
    "# Reading and writing Parquet\n",
    "df = pd.read_parquet('file.parquet')\n",
    "df.to_parquet('file.parquet', index=False)\n"
   ]
  },
  {
   "cell_type": "markdown",
   "id": "68767213-220e-46ec-ad64-4803ceb000be",
   "metadata": {},
   "source": [
    "## 🧾 Pandas DataFrame Inspection Commands\n",
    "\n",
    "These are essential commands to **understand the structure, summary, and metadata** of a DataFrame `df`.\n",
    "\n",
    "---\n",
    "\n",
    "#### 📌 `df.head()`\n",
    "* Returns the first 2 rows of the DataFrame by default.\n",
    "* Useful for getting a quick look at the data after loading or preprocessing.\n",
    "* You can pass a number inside head(n) to see the first n rows."
   ]
  },
  {
   "cell_type": "code",
   "execution_count": 9,
   "id": "1d1a0776-d559-45a4-a339-7165d8c13801",
   "metadata": {},
   "outputs": [
    {
     "data": {
      "text/html": [
       "<div>\n",
       "<style scoped>\n",
       "    .dataframe tbody tr th:only-of-type {\n",
       "        vertical-align: middle;\n",
       "    }\n",
       "\n",
       "    .dataframe tbody tr th {\n",
       "        vertical-align: top;\n",
       "    }\n",
       "\n",
       "    .dataframe thead th {\n",
       "        text-align: right;\n",
       "    }\n",
       "</style>\n",
       "<table border=\"1\" class=\"dataframe\">\n",
       "  <thead>\n",
       "    <tr style=\"text-align: right;\">\n",
       "      <th></th>\n",
       "      <th>Name</th>\n",
       "      <th>Age</th>\n",
       "      <th>Salary</th>\n",
       "    </tr>\n",
       "  </thead>\n",
       "  <tbody>\n",
       "    <tr>\n",
       "      <th>0</th>\n",
       "      <td>Alice</td>\n",
       "      <td>25</td>\n",
       "      <td>50000</td>\n",
       "    </tr>\n",
       "    <tr>\n",
       "      <th>1</th>\n",
       "      <td>Bob</td>\n",
       "      <td>30</td>\n",
       "      <td>60000</td>\n",
       "    </tr>\n",
       "  </tbody>\n",
       "</table>\n",
       "</div>"
      ],
      "text/plain": [
       "    Name  Age  Salary\n",
       "0  Alice   25   50000\n",
       "1    Bob   30   60000"
      ]
     },
     "execution_count": 9,
     "metadata": {},
     "output_type": "execute_result"
    }
   ],
   "source": [
    "# Dictionary\n",
    "data = {\n",
    "    'Name': ['Alice', 'Bob', 'Charlie','Tim','Mark','Lora'],\n",
    "    'Age': [25, 30, 35,46,23,67],\n",
    "    'Salary': [50000, 60000, 70000,80000,340000,760000]\n",
    "}\n",
    "# Dataframe from dictionary\n",
    "df = pd.DataFrame(data)\n",
    "\n",
    "# Fetching First 2 rows pf table\n",
    "df.head(2)\n"
   ]
  },
  {
   "cell_type": "markdown",
   "id": "4bb38b88-9423-46a9-909b-6fbd48291349",
   "metadata": {},
   "source": [
    "#### 📌 tail()\n",
    "* Returns the last 5 rows of the DataFrame.\n",
    "* Helpful to see recent or ending data entries.\n"
   ]
  },
  {
   "cell_type": "code",
   "execution_count": 10,
   "id": "bfbe0d1c-0898-4136-a182-610ed7d1a225",
   "metadata": {},
   "outputs": [
    {
     "data": {
      "text/html": [
       "<div>\n",
       "<style scoped>\n",
       "    .dataframe tbody tr th:only-of-type {\n",
       "        vertical-align: middle;\n",
       "    }\n",
       "\n",
       "    .dataframe tbody tr th {\n",
       "        vertical-align: top;\n",
       "    }\n",
       "\n",
       "    .dataframe thead th {\n",
       "        text-align: right;\n",
       "    }\n",
       "</style>\n",
       "<table border=\"1\" class=\"dataframe\">\n",
       "  <thead>\n",
       "    <tr style=\"text-align: right;\">\n",
       "      <th></th>\n",
       "      <th>Name</th>\n",
       "      <th>Age</th>\n",
       "      <th>Salary</th>\n",
       "    </tr>\n",
       "  </thead>\n",
       "  <tbody>\n",
       "    <tr>\n",
       "      <th>4</th>\n",
       "      <td>Mark</td>\n",
       "      <td>23</td>\n",
       "      <td>340000</td>\n",
       "    </tr>\n",
       "    <tr>\n",
       "      <th>5</th>\n",
       "      <td>Lora</td>\n",
       "      <td>67</td>\n",
       "      <td>760000</td>\n",
       "    </tr>\n",
       "  </tbody>\n",
       "</table>\n",
       "</div>"
      ],
      "text/plain": [
       "   Name  Age  Salary\n",
       "4  Mark   23  340000\n",
       "5  Lora   67  760000"
      ]
     },
     "execution_count": 10,
     "metadata": {},
     "output_type": "execute_result"
    }
   ],
   "source": [
    "# Fetching Last 2 rows pf table\n",
    "df.tail(2)"
   ]
  },
  {
   "cell_type": "markdown",
   "id": "91d132a1-ff20-47c4-856e-673ff1efc468",
   "metadata": {},
   "source": [
    "#### 📌 info()\n",
    "* Provides a summary of the DataFrame, including:\n",
    "    * Number of non-null values\n",
    "    * Column names\n",
    "    * Data types\n",
    "    * Memory usage\n",
    "* Great for checking missing values and structure at a glance."
   ]
  },
  {
   "cell_type": "code",
   "execution_count": 11,
   "id": "74295e0c-85ff-4efa-8a15-09d3f4acbae7",
   "metadata": {},
   "outputs": [
    {
     "name": "stdout",
     "output_type": "stream",
     "text": [
      "<class 'pandas.core.frame.DataFrame'>\n",
      "RangeIndex: 6 entries, 0 to 5\n",
      "Data columns (total 3 columns):\n",
      " #   Column  Non-Null Count  Dtype \n",
      "---  ------  --------------  ----- \n",
      " 0   Name    6 non-null      object\n",
      " 1   Age     6 non-null      int64 \n",
      " 2   Salary  6 non-null      int64 \n",
      "dtypes: int64(2), object(1)\n",
      "memory usage: 272.0+ bytes\n"
     ]
    }
   ],
   "source": [
    "df.info()  # Overview of DataFrame"
   ]
  },
  {
   "cell_type": "markdown",
   "id": "9c16d9d1-091c-4f1a-aad5-375948d2abe3",
   "metadata": {},
   "source": [
    "#### 📌 describe()\n",
    "\n",
    "* Generates statistical summary of numeric columns by default.\n",
    "* Includes:\n",
    "    * Count\n",
    "    * Mean\n",
    "    * Std deviation\n",
    "    * Min, Max\n",
    "    * 25%, 50%, 75% percentiles\n",
    "* Use `df.describe(include='all')` to include non-numeric columns as well."
   ]
  },
  {
   "cell_type": "code",
   "execution_count": 12,
   "id": "cfb3e22c-0b6c-4ca1-bc60-f6c8a7dde7a1",
   "metadata": {},
   "outputs": [
    {
     "data": {
      "text/html": [
       "<div>\n",
       "<style scoped>\n",
       "    .dataframe tbody tr th:only-of-type {\n",
       "        vertical-align: middle;\n",
       "    }\n",
       "\n",
       "    .dataframe tbody tr th {\n",
       "        vertical-align: top;\n",
       "    }\n",
       "\n",
       "    .dataframe thead th {\n",
       "        text-align: right;\n",
       "    }\n",
       "</style>\n",
       "<table border=\"1\" class=\"dataframe\">\n",
       "  <thead>\n",
       "    <tr style=\"text-align: right;\">\n",
       "      <th></th>\n",
       "      <th>Age</th>\n",
       "      <th>Salary</th>\n",
       "    </tr>\n",
       "  </thead>\n",
       "  <tbody>\n",
       "    <tr>\n",
       "      <th>count</th>\n",
       "      <td>6.000000</td>\n",
       "      <td>6.000000</td>\n",
       "    </tr>\n",
       "    <tr>\n",
       "      <th>mean</th>\n",
       "      <td>37.666667</td>\n",
       "      <td>226666.666667</td>\n",
       "    </tr>\n",
       "    <tr>\n",
       "      <th>std</th>\n",
       "      <td>16.560998</td>\n",
       "      <td>283666.470819</td>\n",
       "    </tr>\n",
       "    <tr>\n",
       "      <th>min</th>\n",
       "      <td>23.000000</td>\n",
       "      <td>50000.000000</td>\n",
       "    </tr>\n",
       "    <tr>\n",
       "      <th>25%</th>\n",
       "      <td>26.250000</td>\n",
       "      <td>62500.000000</td>\n",
       "    </tr>\n",
       "    <tr>\n",
       "      <th>50%</th>\n",
       "      <td>32.500000</td>\n",
       "      <td>75000.000000</td>\n",
       "    </tr>\n",
       "    <tr>\n",
       "      <th>75%</th>\n",
       "      <td>43.250000</td>\n",
       "      <td>275000.000000</td>\n",
       "    </tr>\n",
       "    <tr>\n",
       "      <th>max</th>\n",
       "      <td>67.000000</td>\n",
       "      <td>760000.000000</td>\n",
       "    </tr>\n",
       "  </tbody>\n",
       "</table>\n",
       "</div>"
      ],
      "text/plain": [
       "             Age         Salary\n",
       "count   6.000000       6.000000\n",
       "mean   37.666667  226666.666667\n",
       "std    16.560998  283666.470819\n",
       "min    23.000000   50000.000000\n",
       "25%    26.250000   62500.000000\n",
       "50%    32.500000   75000.000000\n",
       "75%    43.250000  275000.000000\n",
       "max    67.000000  760000.000000"
      ]
     },
     "execution_count": 12,
     "metadata": {},
     "output_type": "execute_result"
    }
   ],
   "source": [
    "df.describe()  # Statistical summary\n"
   ]
  },
  {
   "cell_type": "markdown",
   "id": "ea7206e6-ccbe-4720-91e3-0a40a31b5ed6",
   "metadata": {},
   "source": [
    "#### 📌 shape\n",
    "* Returns a tuple: (number of rows, number of columns).\n",
    "* Helps you quickly understand the size of your dataset."
   ]
  },
  {
   "cell_type": "code",
   "execution_count": 13,
   "id": "20d8048c-778c-40e0-9f34-e44b49950eca",
   "metadata": {},
   "outputs": [
    {
     "data": {
      "text/plain": [
       "(6, 3)"
      ]
     },
     "execution_count": 13,
     "metadata": {},
     "output_type": "execute_result"
    }
   ],
   "source": [
    "df.shape  # (rows, columns)"
   ]
  },
  {
   "cell_type": "markdown",
   "id": "e46a8c0e-9348-4d2c-b05d-6d385d511439",
   "metadata": {},
   "source": [
    "#### 📌 columns\n",
    "* Lists the column names in the DataFrame.\n",
    "* Returns an Index object (like an array of strings).\n",
    "* You can convert to list using: list(df.columns)"
   ]
  },
  {
   "cell_type": "code",
   "execution_count": 14,
   "id": "67fdb813-976c-49e5-b725-6d5a7510aa19",
   "metadata": {},
   "outputs": [
    {
     "data": {
      "text/plain": [
       "Index(['Name', 'Age', 'Salary'], dtype='object')"
      ]
     },
     "execution_count": 14,
     "metadata": {},
     "output_type": "execute_result"
    }
   ],
   "source": [
    "df.columns  # Column names"
   ]
  },
  {
   "cell_type": "markdown",
   "id": "1955376d-3884-4d5d-8662-3cf1341691d3",
   "metadata": {},
   "source": [
    "#### 📌 index\n",
    "* Displays the index (row labels) of the DataFrame.\n",
    "* Shows the range, type, or custom indexing if applied.\n",
    "\n"
   ]
  },
  {
   "cell_type": "code",
   "execution_count": 15,
   "id": "932165b5-74e3-4faf-976d-20288eba858e",
   "metadata": {},
   "outputs": [
    {
     "data": {
      "text/plain": [
       "RangeIndex(start=0, stop=6, step=1)"
      ]
     },
     "execution_count": 15,
     "metadata": {},
     "output_type": "execute_result"
    }
   ],
   "source": [
    "df.index  # R index"
   ]
  },
  {
   "cell_type": "markdown",
   "id": "ec87d5a0-d9b4-4ac6-b263-d3a98de778ff",
   "metadata": {},
   "source": [
    "#### 📌 dtypes\n",
    "* Returns the data type of each column.\n",
    "* Helpful for type checking before operations (e.g., numeric vs. object)."
   ]
  },
  {
   "cell_type": "code",
   "execution_count": 16,
   "id": "82825a54-157b-4868-858a-b6e62ed66df5",
   "metadata": {},
   "outputs": [
    {
     "data": {
      "text/plain": [
       "Name      object\n",
       "Age        int64\n",
       "Salary     int64\n",
       "dtype: object"
      ]
     },
     "execution_count": 16,
     "metadata": {},
     "output_type": "execute_result"
    }
   ],
   "source": [
    "df.dtypes  # Data types"
   ]
  },
  {
   "cell_type": "markdown",
   "id": "9cf46f8a-0dd1-4876-a7b4-c2a167e69b24",
   "metadata": {},
   "source": [
    "## 🔍 Selecting and Filtering Data in Pandas\n",
    "\n",
    "Pandas provides flexible and powerful ways to select, access, and filter data using **labels**, **positions**, and **conditions**.\n",
    "\n",
    "---\n",
    "\n",
    "### 📌 Selecting Columns\n",
    "\n",
    "#### ✅ Single Column (Returns a Series)\n"
   ]
  },
  {
   "cell_type": "code",
   "execution_count": 17,
   "id": "f6f6e302-9d83-458f-8aa3-25ee3deaebb8",
   "metadata": {},
   "outputs": [
    {
     "data": {
      "text/plain": [
       "0    25\n",
       "1    30\n",
       "2    35\n",
       "3    46\n",
       "4    23\n",
       "5    67\n",
       "Name: Age, dtype: int64"
      ]
     },
     "execution_count": 17,
     "metadata": {},
     "output_type": "execute_result"
    }
   ],
   "source": [
    "df['Age']\n",
    "# Returns a pandas Series containing values from the Age column.\n",
    "# Series includes the index and single column of data."
   ]
  },
  {
   "cell_type": "markdown",
   "id": "e9703f75-2a24-4846-8785-d992fc61f2ef",
   "metadata": {},
   "source": [
    "#### ✅ Multiple Columns (Returns a DataFrame)."
   ]
  },
  {
   "cell_type": "code",
   "execution_count": 18,
   "id": "a9ee46c3-4363-45d4-80e9-4db7a8e60a38",
   "metadata": {},
   "outputs": [
    {
     "data": {
      "text/html": [
       "<div>\n",
       "<style scoped>\n",
       "    .dataframe tbody tr th:only-of-type {\n",
       "        vertical-align: middle;\n",
       "    }\n",
       "\n",
       "    .dataframe tbody tr th {\n",
       "        vertical-align: top;\n",
       "    }\n",
       "\n",
       "    .dataframe thead th {\n",
       "        text-align: right;\n",
       "    }\n",
       "</style>\n",
       "<table border=\"1\" class=\"dataframe\">\n",
       "  <thead>\n",
       "    <tr style=\"text-align: right;\">\n",
       "      <th></th>\n",
       "      <th>Name</th>\n",
       "      <th>Salary</th>\n",
       "    </tr>\n",
       "  </thead>\n",
       "  <tbody>\n",
       "    <tr>\n",
       "      <th>0</th>\n",
       "      <td>Alice</td>\n",
       "      <td>50000</td>\n",
       "    </tr>\n",
       "    <tr>\n",
       "      <th>1</th>\n",
       "      <td>Bob</td>\n",
       "      <td>60000</td>\n",
       "    </tr>\n",
       "    <tr>\n",
       "      <th>2</th>\n",
       "      <td>Charlie</td>\n",
       "      <td>70000</td>\n",
       "    </tr>\n",
       "    <tr>\n",
       "      <th>3</th>\n",
       "      <td>Tim</td>\n",
       "      <td>80000</td>\n",
       "    </tr>\n",
       "    <tr>\n",
       "      <th>4</th>\n",
       "      <td>Mark</td>\n",
       "      <td>340000</td>\n",
       "    </tr>\n",
       "    <tr>\n",
       "      <th>5</th>\n",
       "      <td>Lora</td>\n",
       "      <td>760000</td>\n",
       "    </tr>\n",
       "  </tbody>\n",
       "</table>\n",
       "</div>"
      ],
      "text/plain": [
       "      Name  Salary\n",
       "0    Alice   50000\n",
       "1      Bob   60000\n",
       "2  Charlie   70000\n",
       "3      Tim   80000\n",
       "4     Mark  340000\n",
       "5     Lora  760000"
      ]
     },
     "execution_count": 18,
     "metadata": {},
     "output_type": "execute_result"
    }
   ],
   "source": [
    "# Returns a pandas DataFrame with selected columns.\n",
    "# Column names must be passed as a list\n",
    "df[['Name', 'Salary']]"
   ]
  },
  {
   "cell_type": "markdown",
   "id": "c0db167f-d314-4dc5-91ca-7296b5e05c05",
   "metadata": {},
   "source": [
    "### 📌 Selecting Rows by Index\n",
    "#### ✅ By Integer Position: iloc[]\n"
   ]
  },
  {
   "cell_type": "code",
   "execution_count": 19,
   "id": "f9711117-5c70-457e-9a36-57022ec62561",
   "metadata": {},
   "outputs": [
    {
     "data": {
      "text/plain": [
       "Name      Alice\n",
       "Age          25\n",
       "Salary    50000\n",
       "Name: 0, dtype: object"
      ]
     },
     "execution_count": 19,
     "metadata": {},
     "output_type": "execute_result"
    }
   ],
   "source": [
    "df.iloc[0]"
   ]
  },
  {
   "cell_type": "markdown",
   "id": "6863c9f8-8128-428d-ad49-3925f2f72e69",
   "metadata": {},
   "source": [
    "* Fetches the first row using its integer location (zero-based).\n",
    "* Returns a Series representing the row.\n",
    "* Use `df.iloc[n]` to get the row at position n.\n",
    " \n",
    "#### ✅ By Label: loc[]"
   ]
  },
  {
   "cell_type": "code",
   "execution_count": 20,
   "id": "cc2e865f-61d6-42f4-a31a-a021b801b092",
   "metadata": {},
   "outputs": [
    {
     "data": {
      "text/html": [
       "<div>\n",
       "<style scoped>\n",
       "    .dataframe tbody tr th:only-of-type {\n",
       "        vertical-align: middle;\n",
       "    }\n",
       "\n",
       "    .dataframe tbody tr th {\n",
       "        vertical-align: top;\n",
       "    }\n",
       "\n",
       "    .dataframe thead th {\n",
       "        text-align: right;\n",
       "    }\n",
       "</style>\n",
       "<table border=\"1\" class=\"dataframe\">\n",
       "  <thead>\n",
       "    <tr style=\"text-align: right;\">\n",
       "      <th></th>\n",
       "      <th>Name</th>\n",
       "      <th>Age</th>\n",
       "      <th>Salary</th>\n",
       "    </tr>\n",
       "  </thead>\n",
       "  <tbody>\n",
       "    <tr>\n",
       "      <th>1</th>\n",
       "      <td>Bob</td>\n",
       "      <td>30</td>\n",
       "      <td>60000</td>\n",
       "    </tr>\n",
       "    <tr>\n",
       "      <th>2</th>\n",
       "      <td>Charlie</td>\n",
       "      <td>35</td>\n",
       "      <td>70000</td>\n",
       "    </tr>\n",
       "    <tr>\n",
       "      <th>3</th>\n",
       "      <td>Tim</td>\n",
       "      <td>46</td>\n",
       "      <td>80000</td>\n",
       "    </tr>\n",
       "  </tbody>\n",
       "</table>\n",
       "</div>"
      ],
      "text/plain": [
       "      Name  Age  Salary\n",
       "1      Bob   30   60000\n",
       "2  Charlie   35   70000\n",
       "3      Tim   46   80000"
      ]
     },
     "execution_count": 20,
     "metadata": {},
     "output_type": "execute_result"
    }
   ],
   "source": [
    "df.loc[0]   # Fetching 1st row\n",
    "df.loc[1:3]  # Slicing the 2nd and 4th row"
   ]
  },
  {
   "cell_type": "markdown",
   "id": "348ed303-c761-45f7-812e-87e95cc9c71b",
   "metadata": {},
   "source": [
    "* Fetches the row with index label 0.\n",
    "* Returns a Series.\n",
    "* Useful when custom index labels are used.\n",
    "* Unlike `iloc`, `loc` is label-based and inclusive for slices."
   ]
  },
  {
   "cell_type": "markdown",
   "id": "65255539-4dcf-493b-aaa4-16e15c58ba68",
   "metadata": {},
   "source": [
    "### 📌 Filtering Rows (Conditional Selection)\n",
    "\n",
    "#### ✅ Basic Condition"
   ]
  },
  {
   "cell_type": "code",
   "execution_count": 21,
   "id": "9a2f1974-2500-46de-a65f-74ba60987f17",
   "metadata": {},
   "outputs": [
    {
     "data": {
      "text/html": [
       "<div>\n",
       "<style scoped>\n",
       "    .dataframe tbody tr th:only-of-type {\n",
       "        vertical-align: middle;\n",
       "    }\n",
       "\n",
       "    .dataframe tbody tr th {\n",
       "        vertical-align: top;\n",
       "    }\n",
       "\n",
       "    .dataframe thead th {\n",
       "        text-align: right;\n",
       "    }\n",
       "</style>\n",
       "<table border=\"1\" class=\"dataframe\">\n",
       "  <thead>\n",
       "    <tr style=\"text-align: right;\">\n",
       "      <th></th>\n",
       "      <th>Name</th>\n",
       "      <th>Age</th>\n",
       "      <th>Salary</th>\n",
       "    </tr>\n",
       "  </thead>\n",
       "  <tbody>\n",
       "    <tr>\n",
       "      <th>2</th>\n",
       "      <td>Charlie</td>\n",
       "      <td>35</td>\n",
       "      <td>70000</td>\n",
       "    </tr>\n",
       "    <tr>\n",
       "      <th>3</th>\n",
       "      <td>Tim</td>\n",
       "      <td>46</td>\n",
       "      <td>80000</td>\n",
       "    </tr>\n",
       "    <tr>\n",
       "      <th>5</th>\n",
       "      <td>Lora</td>\n",
       "      <td>67</td>\n",
       "      <td>760000</td>\n",
       "    </tr>\n",
       "  </tbody>\n",
       "</table>\n",
       "</div>"
      ],
      "text/plain": [
       "      Name  Age  Salary\n",
       "2  Charlie   35   70000\n",
       "3      Tim   46   80000\n",
       "5     Lora   67  760000"
      ]
     },
     "execution_count": 21,
     "metadata": {},
     "output_type": "execute_result"
    }
   ],
   "source": [
    "df[df['Age'] > 30]"
   ]
  },
  {
   "cell_type": "markdown",
   "id": "19f1ffb1-aecf-49b5-b755-3b2a5d9e697c",
   "metadata": {},
   "source": [
    "* Returns a new DataFrame with rows where Age > 30.\n",
    "* This is a boolean mask filter."
   ]
  },
  {
   "cell_type": "markdown",
   "id": "74711fb9-a5c2-4d04-b5ce-fce44a2905e7",
   "metadata": {},
   "source": [
    "### ✅ Multiple Conditions Using query()"
   ]
  },
  {
   "cell_type": "code",
   "execution_count": 22,
   "id": "c1e6cce2-dfe5-4b48-b14c-3ff69bee2182",
   "metadata": {},
   "outputs": [
    {
     "data": {
      "text/html": [
       "<div>\n",
       "<style scoped>\n",
       "    .dataframe tbody tr th:only-of-type {\n",
       "        vertical-align: middle;\n",
       "    }\n",
       "\n",
       "    .dataframe tbody tr th {\n",
       "        vertical-align: top;\n",
       "    }\n",
       "\n",
       "    .dataframe thead th {\n",
       "        text-align: right;\n",
       "    }\n",
       "</style>\n",
       "<table border=\"1\" class=\"dataframe\">\n",
       "  <thead>\n",
       "    <tr style=\"text-align: right;\">\n",
       "      <th></th>\n",
       "      <th>Name</th>\n",
       "      <th>Age</th>\n",
       "      <th>Salary</th>\n",
       "    </tr>\n",
       "  </thead>\n",
       "  <tbody>\n",
       "    <tr>\n",
       "      <th>2</th>\n",
       "      <td>Charlie</td>\n",
       "      <td>35</td>\n",
       "      <td>70000</td>\n",
       "    </tr>\n",
       "    <tr>\n",
       "      <th>3</th>\n",
       "      <td>Tim</td>\n",
       "      <td>46</td>\n",
       "      <td>80000</td>\n",
       "    </tr>\n",
       "  </tbody>\n",
       "</table>\n",
       "</div>"
      ],
      "text/plain": [
       "      Name  Age  Salary\n",
       "2  Charlie   35   70000\n",
       "3      Tim   46   80000"
      ]
     },
     "execution_count": 22,
     "metadata": {},
     "output_type": "execute_result"
    }
   ],
   "source": [
    "df.query('Age > 30 & Salary < 760000')\n"
   ]
  },
  {
   "cell_type": "markdown",
   "id": "f3fb900b-68d4-4554-ba52-99d1274275dc",
   "metadata": {},
   "source": [
    "* Uses a string expression to filter rows.\n",
    "* Supports logical operators:\n",
    "\n",
    "    * & (and), | (or), ~ (not)\n",
    "\n",
    "* Very readable and clean for complex filtering."
   ]
  },
  {
   "cell_type": "markdown",
   "id": "21d0ec24-e796-4cfe-9d41-f5067f773d75",
   "metadata": {},
   "source": [
    "## 🧼 3. Handling Missing Values & NA in Pandas\n",
    "\n",
    "Real-world datasets often contain **missing values**. Pandas provides tools to **detect, handle, and clean** such values effectively.\n",
    "\n",
    "---\n",
    "\n",
    "### 📌 Detecting Missing Values\n",
    "\n",
    "#### ✅ `df.isnull()`"
   ]
  },
  {
   "cell_type": "code",
   "execution_count": 24,
   "id": "85e06378-7a69-4aa5-9054-7645edd19755",
   "metadata": {},
   "outputs": [
    {
     "data": {
      "text/html": [
       "<div>\n",
       "<style scoped>\n",
       "    .dataframe tbody tr th:only-of-type {\n",
       "        vertical-align: middle;\n",
       "    }\n",
       "\n",
       "    .dataframe tbody tr th {\n",
       "        vertical-align: top;\n",
       "    }\n",
       "\n",
       "    .dataframe thead th {\n",
       "        text-align: right;\n",
       "    }\n",
       "</style>\n",
       "<table border=\"1\" class=\"dataframe\">\n",
       "  <thead>\n",
       "    <tr style=\"text-align: right;\">\n",
       "      <th></th>\n",
       "      <th>Name</th>\n",
       "      <th>Age</th>\n",
       "      <th>Salary</th>\n",
       "    </tr>\n",
       "  </thead>\n",
       "  <tbody>\n",
       "    <tr>\n",
       "      <th>0</th>\n",
       "      <td>False</td>\n",
       "      <td>False</td>\n",
       "      <td>False</td>\n",
       "    </tr>\n",
       "    <tr>\n",
       "      <th>1</th>\n",
       "      <td>False</td>\n",
       "      <td>False</td>\n",
       "      <td>False</td>\n",
       "    </tr>\n",
       "    <tr>\n",
       "      <th>2</th>\n",
       "      <td>False</td>\n",
       "      <td>False</td>\n",
       "      <td>False</td>\n",
       "    </tr>\n",
       "    <tr>\n",
       "      <th>3</th>\n",
       "      <td>False</td>\n",
       "      <td>False</td>\n",
       "      <td>False</td>\n",
       "    </tr>\n",
       "    <tr>\n",
       "      <th>4</th>\n",
       "      <td>False</td>\n",
       "      <td>False</td>\n",
       "      <td>False</td>\n",
       "    </tr>\n",
       "    <tr>\n",
       "      <th>5</th>\n",
       "      <td>False</td>\n",
       "      <td>False</td>\n",
       "      <td>False</td>\n",
       "    </tr>\n",
       "  </tbody>\n",
       "</table>\n",
       "</div>"
      ],
      "text/plain": [
       "    Name    Age  Salary\n",
       "0  False  False   False\n",
       "1  False  False   False\n",
       "2  False  False   False\n",
       "3  False  False   False\n",
       "4  False  False   False\n",
       "5  False  False   False"
      ]
     },
     "execution_count": 24,
     "metadata": {},
     "output_type": "execute_result"
    }
   ],
   "source": [
    "df.isnull()"
   ]
  },
  {
   "cell_type": "markdown",
   "id": "53b0ffa7-33da-4515-8ddd-e726b565173b",
   "metadata": {},
   "source": [
    "* Returns a DataFrame of booleans:\n",
    "    * True if a value is missing (NaN)\n",
    "    * False otherwise\n",
    "* You can use it to identify where missing values occur."
   ]
  },
  {
   "cell_type": "markdown",
   "id": "e4d5b74c-1202-4d44-9595-24e6f6781ce5",
   "metadata": {},
   "source": [
    "### 🔧 Handling Missing Values with `fillna()`\n",
    "In data analysis, missing values are common. Instead of removing them entirely using dropna(), you can fill them with meaningful replacements using fillna()."
   ]
  },
  {
   "cell_type": "code",
   "execution_count": 66,
   "id": "356a4704-9170-44f0-90c0-aec12deacaba",
   "metadata": {},
   "outputs": [
    {
     "data": {
      "text/html": [
       "<div>\n",
       "<style scoped>\n",
       "    .dataframe tbody tr th:only-of-type {\n",
       "        vertical-align: middle;\n",
       "    }\n",
       "\n",
       "    .dataframe tbody tr th {\n",
       "        vertical-align: top;\n",
       "    }\n",
       "\n",
       "    .dataframe thead th {\n",
       "        text-align: right;\n",
       "    }\n",
       "</style>\n",
       "<table border=\"1\" class=\"dataframe\">\n",
       "  <thead>\n",
       "    <tr style=\"text-align: right;\">\n",
       "      <th></th>\n",
       "      <th>Name</th>\n",
       "      <th>Age</th>\n",
       "      <th>Salary</th>\n",
       "    </tr>\n",
       "  </thead>\n",
       "  <tbody>\n",
       "    <tr>\n",
       "      <th>0</th>\n",
       "      <td>Alice</td>\n",
       "      <td>25</td>\n",
       "      <td>50000</td>\n",
       "    </tr>\n",
       "    <tr>\n",
       "      <th>1</th>\n",
       "      <td>Bob</td>\n",
       "      <td>30</td>\n",
       "      <td>60000</td>\n",
       "    </tr>\n",
       "    <tr>\n",
       "      <th>2</th>\n",
       "      <td>Charlie</td>\n",
       "      <td>35</td>\n",
       "      <td>70000</td>\n",
       "    </tr>\n",
       "  </tbody>\n",
       "</table>\n",
       "</div>"
      ],
      "text/plain": [
       "      Name  Age  Salary\n",
       "0    Alice   25   50000\n",
       "1      Bob   30   60000\n",
       "2  Charlie   35   70000"
      ]
     },
     "execution_count": 66,
     "metadata": {},
     "output_type": "execute_result"
    }
   ],
   "source": [
    "df['Salary'].fillna(0)  # Replace missing values in 'Salary' with 0\n",
    "\n",
    "df['Age'].fillna(df['Age'].mean())  # Replace missing ages with the column mean\n",
    "\n",
    "df.fillna(method='ffill')  # Forward fill: fill missing values with the previous non-null value\n",
    "\n",
    "df.fillna(method='bfill')  # Backward fill: fill missing values with the next non-null value\n",
    "\n",
    "df.fillna({'Age': 25, 'Salary': 50000})  # Fill specific columns with different values\n"
   ]
  },
  {
   "cell_type": "markdown",
   "id": "88c47032-dbf0-442a-ba67-9bfb13dcf28e",
   "metadata": {},
   "source": [
    "#### ✅ Use Cases:\n",
    "Replacing missing numeric values with 0, mean, median, or custom values\n",
    "\n",
    "Using forward `fill (ffill)` to propagate the last valid observation\n",
    "\n",
    "Using backward `fill (bfill)` to fill gaps with the next valid observation\n",
    "\n",
    "#### 🔎 Why Use fillna()?\n",
    "It helps preserve data rows that would otherwise be dropped due to missing values, ensuring better analysis and model performance.\n",
    "\n"
   ]
  },
  {
   "cell_type": "markdown",
   "id": "e2db1895-6312-4221-acba-785c3a19859e",
   "metadata": {},
   "source": [
    "### 🗑️ Dropping Missing Values\n",
    "#### ✅ `dropna()`\n"
   ]
  },
  {
   "cell_type": "code",
   "execution_count": 27,
   "id": "c0c51d5b-09b1-4fe6-90e7-f0ec94f57239",
   "metadata": {},
   "outputs": [
    {
     "data": {
      "text/html": [
       "<div>\n",
       "<style scoped>\n",
       "    .dataframe tbody tr th:only-of-type {\n",
       "        vertical-align: middle;\n",
       "    }\n",
       "\n",
       "    .dataframe tbody tr th {\n",
       "        vertical-align: top;\n",
       "    }\n",
       "\n",
       "    .dataframe thead th {\n",
       "        text-align: right;\n",
       "    }\n",
       "</style>\n",
       "<table border=\"1\" class=\"dataframe\">\n",
       "  <thead>\n",
       "    <tr style=\"text-align: right;\">\n",
       "      <th></th>\n",
       "      <th>Name</th>\n",
       "      <th>Age</th>\n",
       "      <th>Salary</th>\n",
       "    </tr>\n",
       "  </thead>\n",
       "  <tbody>\n",
       "    <tr>\n",
       "      <th>0</th>\n",
       "      <td>Alice</td>\n",
       "      <td>25</td>\n",
       "      <td>50000</td>\n",
       "    </tr>\n",
       "    <tr>\n",
       "      <th>1</th>\n",
       "      <td>Bob</td>\n",
       "      <td>30</td>\n",
       "      <td>60000</td>\n",
       "    </tr>\n",
       "    <tr>\n",
       "      <th>2</th>\n",
       "      <td>Charlie</td>\n",
       "      <td>35</td>\n",
       "      <td>70000</td>\n",
       "    </tr>\n",
       "    <tr>\n",
       "      <th>3</th>\n",
       "      <td>Tim</td>\n",
       "      <td>46</td>\n",
       "      <td>80000</td>\n",
       "    </tr>\n",
       "    <tr>\n",
       "      <th>4</th>\n",
       "      <td>Mark</td>\n",
       "      <td>23</td>\n",
       "      <td>340000</td>\n",
       "    </tr>\n",
       "    <tr>\n",
       "      <th>5</th>\n",
       "      <td>Lora</td>\n",
       "      <td>67</td>\n",
       "      <td>760000</td>\n",
       "    </tr>\n",
       "  </tbody>\n",
       "</table>\n",
       "</div>"
      ],
      "text/plain": [
       "      Name  Age  Salary\n",
       "0    Alice   25   50000\n",
       "1      Bob   30   60000\n",
       "2  Charlie   35   70000\n",
       "3      Tim   46   80000\n",
       "4     Mark   23  340000\n",
       "5     Lora   67  760000"
      ]
     },
     "execution_count": 27,
     "metadata": {},
     "output_type": "execute_result"
    }
   ],
   "source": [
    "df.dropna()"
   ]
  },
  {
   "cell_type": "markdown",
   "id": "f9867a5c-06d3-42cc-9584-0dc152b56d32",
   "metadata": {},
   "source": [
    "* Removes any row that contains at least one missing value.\n",
    "* Returns a new DataFrame with such rows dropped.\n",
    "\n",
    "Parameters:\n",
    "* axis=0 (default): drop rows\n",
    "* axis=1: drop columns\n",
    "* how='any': drop if any NaN present (default)\n",
    "* how='all': drop only if all values are NaN in the row/column\n",
    "* inplace=True: perform operation without returning a new DataFrame"
   ]
  },
  {
   "cell_type": "markdown",
   "id": "fd55feb9-8b8c-4791-a047-93c664909a0e",
   "metadata": {},
   "source": [
    "## 🛠️ 4. Modifying and Updating Data in Pandas\n",
    "\n",
    "Pandas makes it easy to modify existing columns, create new ones, rename, and replace values in a DataFrame.\n",
    "\n",
    "---\n",
    "\n",
    "#### 🔼 1. Incrementing Column Values"
   ]
  },
  {
   "cell_type": "code",
   "execution_count": 28,
   "id": "26bf6d7e-c504-4539-8902-81dc053c6547",
   "metadata": {},
   "outputs": [
    {
     "data": {
      "text/html": [
       "<div>\n",
       "<style scoped>\n",
       "    .dataframe tbody tr th:only-of-type {\n",
       "        vertical-align: middle;\n",
       "    }\n",
       "\n",
       "    .dataframe tbody tr th {\n",
       "        vertical-align: top;\n",
       "    }\n",
       "\n",
       "    .dataframe thead th {\n",
       "        text-align: right;\n",
       "    }\n",
       "</style>\n",
       "<table border=\"1\" class=\"dataframe\">\n",
       "  <thead>\n",
       "    <tr style=\"text-align: right;\">\n",
       "      <th></th>\n",
       "      <th>Name</th>\n",
       "      <th>Age</th>\n",
       "      <th>Salary</th>\n",
       "    </tr>\n",
       "  </thead>\n",
       "  <tbody>\n",
       "    <tr>\n",
       "      <th>0</th>\n",
       "      <td>Alice</td>\n",
       "      <td>26</td>\n",
       "      <td>50000</td>\n",
       "    </tr>\n",
       "    <tr>\n",
       "      <th>1</th>\n",
       "      <td>Bob</td>\n",
       "      <td>31</td>\n",
       "      <td>60000</td>\n",
       "    </tr>\n",
       "    <tr>\n",
       "      <th>2</th>\n",
       "      <td>Charlie</td>\n",
       "      <td>36</td>\n",
       "      <td>70000</td>\n",
       "    </tr>\n",
       "    <tr>\n",
       "      <th>3</th>\n",
       "      <td>Tim</td>\n",
       "      <td>47</td>\n",
       "      <td>80000</td>\n",
       "    </tr>\n",
       "    <tr>\n",
       "      <th>4</th>\n",
       "      <td>Mark</td>\n",
       "      <td>24</td>\n",
       "      <td>340000</td>\n",
       "    </tr>\n",
       "    <tr>\n",
       "      <th>5</th>\n",
       "      <td>Lora</td>\n",
       "      <td>68</td>\n",
       "      <td>760000</td>\n",
       "    </tr>\n",
       "  </tbody>\n",
       "</table>\n",
       "</div>"
      ],
      "text/plain": [
       "      Name  Age  Salary\n",
       "0    Alice   26   50000\n",
       "1      Bob   31   60000\n",
       "2  Charlie   36   70000\n",
       "3      Tim   47   80000\n",
       "4     Mark   24  340000\n",
       "5     Lora   68  760000"
      ]
     },
     "execution_count": 28,
     "metadata": {},
     "output_type": "execute_result"
    }
   ],
   "source": [
    "df['Age'] = df['Age'] + 1\n",
    "df"
   ]
  },
  {
   "cell_type": "markdown",
   "id": "b6706b98-7de9-4cf3-b1eb-8f37f22b8725",
   "metadata": {},
   "source": [
    "* Increases each value in the Age column by 1.\n",
    "* This updates the column in-place.\n",
    "* Works element-wise, just like a NumPy array."
   ]
  },
  {
   "cell_type": "markdown",
   "id": "65c28f87-5af5-43e1-9f5f-7c9b33da8e1a",
   "metadata": {},
   "source": [
    "#### 🆕 2. Creating a New Column"
   ]
  },
  {
   "cell_type": "code",
   "execution_count": 29,
   "id": "558e36f6-21dd-48be-b627-765266211c07",
   "metadata": {},
   "outputs": [
    {
     "data": {
      "text/html": [
       "<div>\n",
       "<style scoped>\n",
       "    .dataframe tbody tr th:only-of-type {\n",
       "        vertical-align: middle;\n",
       "    }\n",
       "\n",
       "    .dataframe tbody tr th {\n",
       "        vertical-align: top;\n",
       "    }\n",
       "\n",
       "    .dataframe thead th {\n",
       "        text-align: right;\n",
       "    }\n",
       "</style>\n",
       "<table border=\"1\" class=\"dataframe\">\n",
       "  <thead>\n",
       "    <tr style=\"text-align: right;\">\n",
       "      <th></th>\n",
       "      <th>Name</th>\n",
       "      <th>Age</th>\n",
       "      <th>Salary</th>\n",
       "      <th>New_Column</th>\n",
       "    </tr>\n",
       "  </thead>\n",
       "  <tbody>\n",
       "    <tr>\n",
       "      <th>0</th>\n",
       "      <td>Alice</td>\n",
       "      <td>26</td>\n",
       "      <td>50000</td>\n",
       "      <td>50.0</td>\n",
       "    </tr>\n",
       "    <tr>\n",
       "      <th>1</th>\n",
       "      <td>Bob</td>\n",
       "      <td>31</td>\n",
       "      <td>60000</td>\n",
       "      <td>60.0</td>\n",
       "    </tr>\n",
       "    <tr>\n",
       "      <th>2</th>\n",
       "      <td>Charlie</td>\n",
       "      <td>36</td>\n",
       "      <td>70000</td>\n",
       "      <td>70.0</td>\n",
       "    </tr>\n",
       "    <tr>\n",
       "      <th>3</th>\n",
       "      <td>Tim</td>\n",
       "      <td>47</td>\n",
       "      <td>80000</td>\n",
       "      <td>80.0</td>\n",
       "    </tr>\n",
       "    <tr>\n",
       "      <th>4</th>\n",
       "      <td>Mark</td>\n",
       "      <td>24</td>\n",
       "      <td>340000</td>\n",
       "      <td>340.0</td>\n",
       "    </tr>\n",
       "    <tr>\n",
       "      <th>5</th>\n",
       "      <td>Lora</td>\n",
       "      <td>68</td>\n",
       "      <td>760000</td>\n",
       "      <td>760.0</td>\n",
       "    </tr>\n",
       "  </tbody>\n",
       "</table>\n",
       "</div>"
      ],
      "text/plain": [
       "      Name  Age  Salary  New_Column\n",
       "0    Alice   26   50000        50.0\n",
       "1      Bob   31   60000        60.0\n",
       "2  Charlie   36   70000        70.0\n",
       "3      Tim   47   80000        80.0\n",
       "4     Mark   24  340000       340.0\n",
       "5     Lora   68  760000       760.0"
      ]
     },
     "execution_count": 29,
     "metadata": {},
     "output_type": "execute_result"
    }
   ],
   "source": [
    "df['New_Column'] = df['Salary'] / 1000\n",
    "df"
   ]
  },
  {
   "cell_type": "markdown",
   "id": "c845c361-3e17-4beb-b45e-2f6f5d405ff0",
   "metadata": {},
   "source": [
    "* Creates a new column named New_Column.\n",
    "* Each value is the result of dividing Salary by 1000.\n",
    "* You can create new columns by applying operations on existing ones."
   ]
  },
  {
   "cell_type": "markdown",
   "id": "162b0cb9-0c54-4840-98a6-a3edc89bc444",
   "metadata": {},
   "source": [
    "#### ✏️ 3. Renaming Columns"
   ]
  },
  {
   "cell_type": "code",
   "execution_count": 30,
   "id": "8b28f4d4-7aed-48f3-a161-567d55102336",
   "metadata": {},
   "outputs": [
    {
     "data": {
      "text/html": [
       "<div>\n",
       "<style scoped>\n",
       "    .dataframe tbody tr th:only-of-type {\n",
       "        vertical-align: middle;\n",
       "    }\n",
       "\n",
       "    .dataframe tbody tr th {\n",
       "        vertical-align: top;\n",
       "    }\n",
       "\n",
       "    .dataframe thead th {\n",
       "        text-align: right;\n",
       "    }\n",
       "</style>\n",
       "<table border=\"1\" class=\"dataframe\">\n",
       "  <thead>\n",
       "    <tr style=\"text-align: right;\">\n",
       "      <th></th>\n",
       "      <th>Name</th>\n",
       "      <th>Age</th>\n",
       "      <th>Annual Salary</th>\n",
       "      <th>New_Column</th>\n",
       "    </tr>\n",
       "  </thead>\n",
       "  <tbody>\n",
       "    <tr>\n",
       "      <th>0</th>\n",
       "      <td>Alice</td>\n",
       "      <td>26</td>\n",
       "      <td>50000</td>\n",
       "      <td>50.0</td>\n",
       "    </tr>\n",
       "    <tr>\n",
       "      <th>1</th>\n",
       "      <td>Bob</td>\n",
       "      <td>31</td>\n",
       "      <td>60000</td>\n",
       "      <td>60.0</td>\n",
       "    </tr>\n",
       "    <tr>\n",
       "      <th>2</th>\n",
       "      <td>Charlie</td>\n",
       "      <td>36</td>\n",
       "      <td>70000</td>\n",
       "      <td>70.0</td>\n",
       "    </tr>\n",
       "    <tr>\n",
       "      <th>3</th>\n",
       "      <td>Tim</td>\n",
       "      <td>47</td>\n",
       "      <td>80000</td>\n",
       "      <td>80.0</td>\n",
       "    </tr>\n",
       "    <tr>\n",
       "      <th>4</th>\n",
       "      <td>Mark</td>\n",
       "      <td>24</td>\n",
       "      <td>340000</td>\n",
       "      <td>340.0</td>\n",
       "    </tr>\n",
       "    <tr>\n",
       "      <th>5</th>\n",
       "      <td>Lora</td>\n",
       "      <td>68</td>\n",
       "      <td>760000</td>\n",
       "      <td>760.0</td>\n",
       "    </tr>\n",
       "  </tbody>\n",
       "</table>\n",
       "</div>"
      ],
      "text/plain": [
       "      Name  Age  Annual Salary  New_Column\n",
       "0    Alice   26          50000        50.0\n",
       "1      Bob   31          60000        60.0\n",
       "2  Charlie   36          70000        70.0\n",
       "3      Tim   47          80000        80.0\n",
       "4     Mark   24         340000       340.0\n",
       "5     Lora   68         760000       760.0"
      ]
     },
     "execution_count": 30,
     "metadata": {},
     "output_type": "execute_result"
    }
   ],
   "source": [
    "df.rename(columns={'Salary': 'Annual Salary'}, inplace=True)\n",
    "df"
   ]
  },
  {
   "cell_type": "markdown",
   "id": "2207437c-3f69-4622-ae49-99ae0b1618db",
   "metadata": {},
   "source": [
    "* Renames the column `Salary` to `Annual Salary`.\n",
    "* `columns` expects a dictionary of `{old_name: new_name}`.\n",
    "* `inplace=True` applies the change directly to the DataFrame without returning a new one."
   ]
  },
  {
   "cell_type": "markdown",
   "id": "19285f7b-7ea8-4ab6-a28b-21de6e750a25",
   "metadata": {},
   "source": [
    "#### 🔁 4. Replacing Values"
   ]
  },
  {
   "cell_type": "code",
   "execution_count": 31,
   "id": "0ae057e0-3362-4586-adfb-8f8daf7aac8f",
   "metadata": {},
   "outputs": [
    {
     "data": {
      "text/html": [
       "<div>\n",
       "<style scoped>\n",
       "    .dataframe tbody tr th:only-of-type {\n",
       "        vertical-align: middle;\n",
       "    }\n",
       "\n",
       "    .dataframe tbody tr th {\n",
       "        vertical-align: top;\n",
       "    }\n",
       "\n",
       "    .dataframe thead th {\n",
       "        text-align: right;\n",
       "    }\n",
       "</style>\n",
       "<table border=\"1\" class=\"dataframe\">\n",
       "  <thead>\n",
       "    <tr style=\"text-align: right;\">\n",
       "      <th></th>\n",
       "      <th>Name</th>\n",
       "      <th>Age</th>\n",
       "      <th>Annual Salary</th>\n",
       "      <th>New_Column</th>\n",
       "    </tr>\n",
       "  </thead>\n",
       "  <tbody>\n",
       "    <tr>\n",
       "      <th>0</th>\n",
       "      <td>Alicia</td>\n",
       "      <td>26</td>\n",
       "      <td>50000</td>\n",
       "      <td>50.0</td>\n",
       "    </tr>\n",
       "    <tr>\n",
       "      <th>1</th>\n",
       "      <td>Bob</td>\n",
       "      <td>31</td>\n",
       "      <td>60000</td>\n",
       "      <td>60.0</td>\n",
       "    </tr>\n",
       "    <tr>\n",
       "      <th>2</th>\n",
       "      <td>Charlie</td>\n",
       "      <td>36</td>\n",
       "      <td>70000</td>\n",
       "      <td>70.0</td>\n",
       "    </tr>\n",
       "    <tr>\n",
       "      <th>3</th>\n",
       "      <td>Tim</td>\n",
       "      <td>47</td>\n",
       "      <td>80000</td>\n",
       "      <td>80.0</td>\n",
       "    </tr>\n",
       "    <tr>\n",
       "      <th>4</th>\n",
       "      <td>Mark</td>\n",
       "      <td>24</td>\n",
       "      <td>340000</td>\n",
       "      <td>340.0</td>\n",
       "    </tr>\n",
       "    <tr>\n",
       "      <th>5</th>\n",
       "      <td>Lora</td>\n",
       "      <td>68</td>\n",
       "      <td>760000</td>\n",
       "      <td>760.0</td>\n",
       "    </tr>\n",
       "  </tbody>\n",
       "</table>\n",
       "</div>"
      ],
      "text/plain": [
       "      Name  Age  Annual Salary  New_Column\n",
       "0   Alicia   26          50000        50.0\n",
       "1      Bob   31          60000        60.0\n",
       "2  Charlie   36          70000        70.0\n",
       "3      Tim   47          80000        80.0\n",
       "4     Mark   24         340000       340.0\n",
       "5     Lora   68         760000       760.0"
      ]
     },
     "execution_count": 31,
     "metadata": {},
     "output_type": "execute_result"
    }
   ],
   "source": [
    "df.replace({'Alice': 'Alicia'}, inplace=True)\n",
    "df"
   ]
  },
  {
   "cell_type": "markdown",
   "id": "9b465a39-928e-4dd3-9952-625528e7f1ed",
   "metadata": {},
   "source": [
    "* Replaces all occurrences of 'Alice' with 'Alicia' in the entire DataFrame.\n",
    "* Works on both strings and numeric values.\n",
    "* Can be used with dictionaries, lists, or regex."
   ]
  },
  {
   "cell_type": "markdown",
   "id": "fdf36aa3-a960-4e47-b8eb-071866ba71ca",
   "metadata": {},
   "source": [
    "### 🔤 String Operations on Pandas Series (.str Accessor)\n",
    "When working with textual (string) data in Pandas, the `.str` accessor provides a variety of vectorized string functions similar to Python string methods.\n",
    "\n",
    "#### 🔹 Convert to Lowercase"
   ]
  },
  {
   "cell_type": "code",
   "execution_count": 59,
   "id": "fc2786f8-a3b2-4a01-8b2d-16c9de549f50",
   "metadata": {},
   "outputs": [
    {
     "data": {
      "text/plain": [
       "0      alice\n",
       "1        bob\n",
       "2    charlie\n",
       "Name: Name, dtype: object"
      ]
     },
     "execution_count": 59,
     "metadata": {},
     "output_type": "execute_result"
    }
   ],
   "source": [
    "# Dictionary\n",
    "data = {\n",
    "    'Name': ['Alice', 'Bob', 'Charlie'],\n",
    "    'Age': [25, 30, 35],\n",
    "    'Salary': [50000, 60000, 70000]\n",
    "}\n",
    "# Dataframe from dictionary\n",
    "df = pd.DataFrame(data)\n",
    "\n",
    "\n",
    "df['Name'].str.lower()"
   ]
  },
  {
   "cell_type": "markdown",
   "id": "535a95f7-3442-4e2c-b0d9-b356842a9893",
   "metadata": {},
   "source": [
    "* What It Does: Converts all characters in the `'Name'` column to lowercase.\n",
    "* Example: `\"Alice\"` → `\"alice\"`\n",
    "* Use Case: Standardize text data before comparisons or filtering."
   ]
  },
  {
   "cell_type": "markdown",
   "id": "b9d71af8-dc5e-4191-8303-ca37f785424a",
   "metadata": {},
   "source": [
    "#### 🔹 Replace Substring"
   ]
  },
  {
   "cell_type": "code",
   "execution_count": 60,
   "id": "9ae82fc6-d2ce-4e37-a7bc-7b6de69c5ec5",
   "metadata": {},
   "outputs": [
    {
     "data": {
      "text/plain": [
       "0     Alicia\n",
       "1        Bob\n",
       "2    Charlie\n",
       "Name: Name, dtype: object"
      ]
     },
     "execution_count": 60,
     "metadata": {},
     "output_type": "execute_result"
    }
   ],
   "source": [
    "df['Name'].str.replace('Alice', 'Alicia')\n"
   ]
  },
  {
   "cell_type": "markdown",
   "id": "062405fc-e10a-4c66-bea2-b36ef56eb4ee",
   "metadata": {},
   "source": [
    "* What It Does: Replaces all occurrences of `'Alice'` with `'Alicia'` in the 'Name' column.\n",
    "\n",
    "* Example: `\"Alice Johnson\"` → `\"Alicia Johnson\"`\n",
    "\n",
    "* Use Case: Clean or update names, fix typos, or apply consistent formatting.\n",
    "\n",
    "`⚠️ Note:` From pandas 1.4+, to avoid regex warnings, use `regex=False` if you're doing simple string replacement:"
   ]
  },
  {
   "cell_type": "code",
   "execution_count": 61,
   "id": "af229e09-6b00-4622-bf0d-38c654586091",
   "metadata": {},
   "outputs": [
    {
     "data": {
      "text/plain": [
       "0     Alicia\n",
       "1        Bob\n",
       "2    Charlie\n",
       "Name: Name, dtype: object"
      ]
     },
     "execution_count": 61,
     "metadata": {},
     "output_type": "execute_result"
    }
   ],
   "source": [
    "df['Name'].str.replace('Alice', 'Alicia', regex=False)\n"
   ]
  },
  {
   "cell_type": "markdown",
   "id": "70635e2b-acd1-402b-ae35-51d0208d9014",
   "metadata": {},
   "source": [
    "#### 🔹 Check if Substring is Present"
   ]
  },
  {
   "cell_type": "code",
   "execution_count": 63,
   "id": "f813b0cd-254f-4b4a-a1b9-0aab5fd63c06",
   "metadata": {},
   "outputs": [
    {
     "data": {
      "text/plain": [
       "0     True\n",
       "1    False\n",
       "2     True\n",
       "Name: Name, dtype: bool"
      ]
     },
     "execution_count": 63,
     "metadata": {},
     "output_type": "execute_result"
    }
   ],
   "source": [
    "df['Name'].str.contains('li')\n"
   ]
  },
  {
   "cell_type": "markdown",
   "id": "d96a0e24-50dc-4abf-8221-efe6003f429b",
   "metadata": {},
   "source": [
    "* What It Does: Returns a boolean Series where True indicates the substring `'li'` is present in the name.\n",
    "\n",
    "* Example: `\"Alice\" → True, \"Bob\" → False`\n",
    "\n",
    "* Use Case: Useful for filtering rows based on partial matches."
   ]
  },
  {
   "cell_type": "markdown",
   "id": "85104457-e274-45ce-867a-4a521175a7cc",
   "metadata": {},
   "source": [
    "#### 🔹 Remove Leading and Trailing Spaces\n"
   ]
  },
  {
   "cell_type": "code",
   "execution_count": 64,
   "id": "fb2fe243-6051-43c8-ab56-aa979c424e1a",
   "metadata": {},
   "outputs": [
    {
     "data": {
      "text/plain": [
       "0      Alice\n",
       "1        Bob\n",
       "2    Charlie\n",
       "Name: Name, dtype: object"
      ]
     },
     "execution_count": 64,
     "metadata": {},
     "output_type": "execute_result"
    }
   ],
   "source": [
    "df['Name'].str.strip()\n"
   ]
  },
  {
   "cell_type": "markdown",
   "id": "a3d475c9-71e4-4c1f-8a10-a088bcd6b920",
   "metadata": {},
   "source": [
    "* What It Does: Removes whitespace characters from both ends of the string.\n",
    "* Example: `\" Alice \" → \"Alice\"`\n",
    "* Use Case: Clean messy data before applying other string operations or comparisons."
   ]
  },
  {
   "cell_type": "markdown",
   "id": "72431760-e024-492a-97d9-e81efdc96fe3",
   "metadata": {},
   "source": [
    "## 🕒 5. Handling Dates and Time in Pandas\n",
    "\n",
    "Pandas provides powerful tools to work with datetime data. You can convert strings to datetime, extract parts like year/month/day, and calculate elapsed time.\n",
    "\n",
    "---\n",
    "\n",
    "## 📅 1. Convert Column to DateTime\n"
   ]
  },
  {
   "cell_type": "code",
   "execution_count": 47,
   "id": "4f87d901-0ec2-4efa-ab27-871e62276ddc",
   "metadata": {},
   "outputs": [
    {
     "data": {
      "text/html": [
       "<div>\n",
       "<style scoped>\n",
       "    .dataframe tbody tr th:only-of-type {\n",
       "        vertical-align: middle;\n",
       "    }\n",
       "\n",
       "    .dataframe tbody tr th {\n",
       "        vertical-align: top;\n",
       "    }\n",
       "\n",
       "    .dataframe thead th {\n",
       "        text-align: right;\n",
       "    }\n",
       "</style>\n",
       "<table border=\"1\" class=\"dataframe\">\n",
       "  <thead>\n",
       "    <tr style=\"text-align: right;\">\n",
       "      <th></th>\n",
       "      <th>Name</th>\n",
       "      <th>Age</th>\n",
       "      <th>Salary</th>\n",
       "      <th>Date</th>\n",
       "    </tr>\n",
       "  </thead>\n",
       "  <tbody>\n",
       "    <tr>\n",
       "      <th>0</th>\n",
       "      <td>Alice</td>\n",
       "      <td>25</td>\n",
       "      <td>50000</td>\n",
       "      <td>2024-01-10</td>\n",
       "    </tr>\n",
       "    <tr>\n",
       "      <th>1</th>\n",
       "      <td>Bob</td>\n",
       "      <td>32</td>\n",
       "      <td>60000</td>\n",
       "      <td>15th Feb 2024</td>\n",
       "    </tr>\n",
       "    <tr>\n",
       "      <th>2</th>\n",
       "      <td>Charlie</td>\n",
       "      <td>45</td>\n",
       "      <td>80000</td>\n",
       "      <td>2024-05-22</td>\n",
       "    </tr>\n",
       "    <tr>\n",
       "      <th>3</th>\n",
       "      <td>David</td>\n",
       "      <td>29</td>\n",
       "      <td>55000</td>\n",
       "      <td>1 July 24</td>\n",
       "    </tr>\n",
       "    <tr>\n",
       "      <th>4</th>\n",
       "      <td>Eva</td>\n",
       "      <td>38</td>\n",
       "      <td>72000</td>\n",
       "      <td>2024-08-18</td>\n",
       "    </tr>\n",
       "  </tbody>\n",
       "</table>\n",
       "</div>"
      ],
      "text/plain": [
       "      Name  Age  Salary           Date\n",
       "0    Alice   25   50000     2024-01-10\n",
       "1      Bob   32   60000  15th Feb 2024\n",
       "2  Charlie   45   80000     2024-05-22\n",
       "3    David   29   55000      1 July 24\n",
       "4      Eva   38   72000     2024-08-18"
      ]
     },
     "execution_count": 47,
     "metadata": {},
     "output_type": "execute_result"
    }
   ],
   "source": [
    "data = {\n",
    "    'Name': ['Alice', 'Bob', 'Charlie', 'David', 'Eva'],\n",
    "    'Age': [25, 32, 45, 29, 38],\n",
    "    'Salary': [50000, 60000, 80000, 55000, 72000],\n",
    "    'Date': ['2024-01-10', '15th Feb 2024', '2024-05-22', '1 July 24', '2024-08-18']\n",
    "}\n",
    "\n",
    "df = pd.DataFrame(data)\n",
    "df"
   ]
  },
  {
   "cell_type": "code",
   "execution_count": 48,
   "id": "38c754c5-018c-4e80-8996-6f26df82bf4e",
   "metadata": {},
   "outputs": [
    {
     "data": {
      "text/html": [
       "<div>\n",
       "<style scoped>\n",
       "    .dataframe tbody tr th:only-of-type {\n",
       "        vertical-align: middle;\n",
       "    }\n",
       "\n",
       "    .dataframe tbody tr th {\n",
       "        vertical-align: top;\n",
       "    }\n",
       "\n",
       "    .dataframe thead th {\n",
       "        text-align: right;\n",
       "    }\n",
       "</style>\n",
       "<table border=\"1\" class=\"dataframe\">\n",
       "  <thead>\n",
       "    <tr style=\"text-align: right;\">\n",
       "      <th></th>\n",
       "      <th>Name</th>\n",
       "      <th>Age</th>\n",
       "      <th>Salary</th>\n",
       "      <th>Date</th>\n",
       "    </tr>\n",
       "  </thead>\n",
       "  <tbody>\n",
       "    <tr>\n",
       "      <th>0</th>\n",
       "      <td>Alice</td>\n",
       "      <td>25</td>\n",
       "      <td>50000</td>\n",
       "      <td>2024-01-10</td>\n",
       "    </tr>\n",
       "    <tr>\n",
       "      <th>1</th>\n",
       "      <td>Bob</td>\n",
       "      <td>32</td>\n",
       "      <td>60000</td>\n",
       "      <td>2024-02-15</td>\n",
       "    </tr>\n",
       "    <tr>\n",
       "      <th>2</th>\n",
       "      <td>Charlie</td>\n",
       "      <td>45</td>\n",
       "      <td>80000</td>\n",
       "      <td>2024-05-22</td>\n",
       "    </tr>\n",
       "    <tr>\n",
       "      <th>3</th>\n",
       "      <td>David</td>\n",
       "      <td>29</td>\n",
       "      <td>55000</td>\n",
       "      <td>2024-07-01</td>\n",
       "    </tr>\n",
       "    <tr>\n",
       "      <th>4</th>\n",
       "      <td>Eva</td>\n",
       "      <td>38</td>\n",
       "      <td>72000</td>\n",
       "      <td>2024-08-18</td>\n",
       "    </tr>\n",
       "  </tbody>\n",
       "</table>\n",
       "</div>"
      ],
      "text/plain": [
       "      Name  Age  Salary       Date\n",
       "0    Alice   25   50000 2024-01-10\n",
       "1      Bob   32   60000 2024-02-15\n",
       "2  Charlie   45   80000 2024-05-22\n",
       "3    David   29   55000 2024-07-01\n",
       "4      Eva   38   72000 2024-08-18"
      ]
     },
     "execution_count": 48,
     "metadata": {},
     "output_type": "execute_result"
    }
   ],
   "source": [
    "df['Date'] = pd.to_datetime(df['Date'])\n",
    "df"
   ]
  },
  {
   "cell_type": "markdown",
   "id": "8206e9b9-80bf-434c-98cd-0333c84c2714",
   "metadata": {},
   "source": [
    "* Converts a string column (e.g., '2024-03-15') into a proper datetime64 format.\n",
    "* Essential before performing date-based operations."
   ]
  },
  {
   "cell_type": "markdown",
   "id": "be8ce91c-7761-43e4-b694-cf313caf24e6",
   "metadata": {},
   "source": [
    "#### 📆 2. Extract Year\n",
    "* Extracts the year part (e.g., 2024) from each datetime entry.\n",
    "* Stored as a new column called Year"
   ]
  },
  {
   "cell_type": "code",
   "execution_count": 41,
   "id": "a559b789-4147-4e9d-9bad-95a341be19fb",
   "metadata": {},
   "outputs": [
    {
     "data": {
      "text/html": [
       "<div>\n",
       "<style scoped>\n",
       "    .dataframe tbody tr th:only-of-type {\n",
       "        vertical-align: middle;\n",
       "    }\n",
       "\n",
       "    .dataframe tbody tr th {\n",
       "        vertical-align: top;\n",
       "    }\n",
       "\n",
       "    .dataframe thead th {\n",
       "        text-align: right;\n",
       "    }\n",
       "</style>\n",
       "<table border=\"1\" class=\"dataframe\">\n",
       "  <thead>\n",
       "    <tr style=\"text-align: right;\">\n",
       "      <th></th>\n",
       "      <th>Name</th>\n",
       "      <th>Age</th>\n",
       "      <th>Salary</th>\n",
       "      <th>Date</th>\n",
       "      <th>Year</th>\n",
       "    </tr>\n",
       "  </thead>\n",
       "  <tbody>\n",
       "    <tr>\n",
       "      <th>0</th>\n",
       "      <td>Alice</td>\n",
       "      <td>25</td>\n",
       "      <td>50000</td>\n",
       "      <td>2024-01-10</td>\n",
       "      <td>2024</td>\n",
       "    </tr>\n",
       "    <tr>\n",
       "      <th>1</th>\n",
       "      <td>Bob</td>\n",
       "      <td>32</td>\n",
       "      <td>60000</td>\n",
       "      <td>2024-02-15</td>\n",
       "      <td>2024</td>\n",
       "    </tr>\n",
       "    <tr>\n",
       "      <th>2</th>\n",
       "      <td>Charlie</td>\n",
       "      <td>45</td>\n",
       "      <td>80000</td>\n",
       "      <td>2024-05-22</td>\n",
       "      <td>2024</td>\n",
       "    </tr>\n",
       "    <tr>\n",
       "      <th>3</th>\n",
       "      <td>David</td>\n",
       "      <td>29</td>\n",
       "      <td>55000</td>\n",
       "      <td>2024-07-01</td>\n",
       "      <td>2024</td>\n",
       "    </tr>\n",
       "    <tr>\n",
       "      <th>4</th>\n",
       "      <td>Eva</td>\n",
       "      <td>38</td>\n",
       "      <td>72000</td>\n",
       "      <td>2024-08-18</td>\n",
       "      <td>2024</td>\n",
       "    </tr>\n",
       "  </tbody>\n",
       "</table>\n",
       "</div>"
      ],
      "text/plain": [
       "      Name  Age  Salary       Date  Year\n",
       "0    Alice   25   50000 2024-01-10  2024\n",
       "1      Bob   32   60000 2024-02-15  2024\n",
       "2  Charlie   45   80000 2024-05-22  2024\n",
       "3    David   29   55000 2024-07-01  2024\n",
       "4      Eva   38   72000 2024-08-18  2024"
      ]
     },
     "execution_count": 41,
     "metadata": {},
     "output_type": "execute_result"
    }
   ],
   "source": [
    "df['Year'] = df['Date'].dt.year\n",
    "df"
   ]
  },
  {
   "cell_type": "markdown",
   "id": "1e97abdf-ad93-41ff-93a1-b5773691b173",
   "metadata": {},
   "source": [
    "### ✅ Summary Table\n",
    "| Operation                       | Output Example | Description                    |\n",
    "| ------------------------------- | -------------- | ------------------------------ |\n",
    "| `pd.to_datetime()`              | `datetime64`   | Converts string to datetime    |\n",
    "| `.dt.year`, `.dt.month`         | `2024`, `3`    | Extract year/month             |\n",
    "| `.dt.isocalendar().week`        | `11`           | Extract ISO week number        |\n",
    "| `.dt.day_name()`                | `'Monday'`     | Get full weekday name          |\n",
    "| `.dt.time`                      | `'13:45:00'`   | Extract time portion           |\n",
    "| `df['Date'] - df['Date'].min()` | `Timedelta`    | Get difference from first date |\n"
   ]
  },
  {
   "cell_type": "markdown",
   "id": "68d0a49d-bac4-4cb6-9f98-4779924d66b6",
   "metadata": {},
   "source": [
    "### 📌 Setting a Column as Index in Pandas\n",
    "\n",
    "✅ What It Does:\n",
    "* This line sets the Date column as the index of the DataFrame df.\n",
    "* The index in pandas is used to label and access rows efficiently.\n",
    "* `inplace=True` means the change is applied directly to df without needing to assign it back."
   ]
  },
  {
   "cell_type": "code",
   "execution_count": 49,
   "id": "d9731a4d-57da-409a-8997-f70e45227515",
   "metadata": {},
   "outputs": [
    {
     "data": {
      "text/html": [
       "<div>\n",
       "<style scoped>\n",
       "    .dataframe tbody tr th:only-of-type {\n",
       "        vertical-align: middle;\n",
       "    }\n",
       "\n",
       "    .dataframe tbody tr th {\n",
       "        vertical-align: top;\n",
       "    }\n",
       "\n",
       "    .dataframe thead th {\n",
       "        text-align: right;\n",
       "    }\n",
       "</style>\n",
       "<table border=\"1\" class=\"dataframe\">\n",
       "  <thead>\n",
       "    <tr style=\"text-align: right;\">\n",
       "      <th></th>\n",
       "      <th>Name</th>\n",
       "      <th>Age</th>\n",
       "      <th>Salary</th>\n",
       "    </tr>\n",
       "    <tr>\n",
       "      <th>Date</th>\n",
       "      <th></th>\n",
       "      <th></th>\n",
       "      <th></th>\n",
       "    </tr>\n",
       "  </thead>\n",
       "  <tbody>\n",
       "    <tr>\n",
       "      <th>2024-01-10</th>\n",
       "      <td>Alice</td>\n",
       "      <td>25</td>\n",
       "      <td>50000</td>\n",
       "    </tr>\n",
       "    <tr>\n",
       "      <th>2024-02-15</th>\n",
       "      <td>Bob</td>\n",
       "      <td>32</td>\n",
       "      <td>60000</td>\n",
       "    </tr>\n",
       "    <tr>\n",
       "      <th>2024-05-22</th>\n",
       "      <td>Charlie</td>\n",
       "      <td>45</td>\n",
       "      <td>80000</td>\n",
       "    </tr>\n",
       "    <tr>\n",
       "      <th>2024-07-01</th>\n",
       "      <td>David</td>\n",
       "      <td>29</td>\n",
       "      <td>55000</td>\n",
       "    </tr>\n",
       "    <tr>\n",
       "      <th>2024-08-18</th>\n",
       "      <td>Eva</td>\n",
       "      <td>38</td>\n",
       "      <td>72000</td>\n",
       "    </tr>\n",
       "  </tbody>\n",
       "</table>\n",
       "</div>"
      ],
      "text/plain": [
       "               Name  Age  Salary\n",
       "Date                            \n",
       "2024-01-10    Alice   25   50000\n",
       "2024-02-15      Bob   32   60000\n",
       "2024-05-22  Charlie   45   80000\n",
       "2024-07-01    David   29   55000\n",
       "2024-08-18      Eva   38   72000"
      ]
     },
     "execution_count": 49,
     "metadata": {},
     "output_type": "execute_result"
    }
   ],
   "source": [
    "df.set_index('Date', inplace=True)\n",
    "df"
   ]
  },
  {
   "cell_type": "markdown",
   "id": "b186b55f-076f-4990-a0d0-7f23197f3428",
   "metadata": {},
   "source": [
    "### 📊 Grouping and Aggregating Data in Pandas\n",
    "Pandas provides powerful group-based operations using the `.groupby()` method. It's especially useful when you want to perform summary statistics across categories."
   ]
  },
  {
   "cell_type": "markdown",
   "id": "09b5bcfc-d4e8-4249-9239-9e96cd72ec7d",
   "metadata": {},
   "source": [
    "#### 🧩 Example 1: Grouping and Calculating Mean\n"
   ]
  },
  {
   "cell_type": "code",
   "execution_count": 57,
   "id": "0a21cfd9-9860-44e7-8dc2-48de5a5e5a9d",
   "metadata": {},
   "outputs": [
    {
     "data": {
      "text/plain": [
       "Date\n",
       "2019    72000.0\n",
       "2020    55000.0\n",
       "2022    60000.0\n",
       "2023    50000.0\n",
       "2025    80000.0\n",
       "Name: Salary, dtype: float64"
      ]
     },
     "execution_count": 57,
     "metadata": {},
     "output_type": "execute_result"
    }
   ],
   "source": [
    "data = {\n",
    "    'Name': ['Alice', 'Bob', 'Charlie', 'David', 'Eva'],\n",
    "    'Age': [25, 32, 45, 29, 38],\n",
    "    'Salary': [50000, 60000, 80000, 55000, 72000],\n",
    "    'Date': ['2023-01-10', '15th Feb 2022', '2025-05-22', '1 July 20', '2019-08-18']\n",
    "}\n",
    "\n",
    "df = pd.DataFrame(data)\n",
    "df['Date'] = pd.to_datetime(df['Date'])\n",
    "\n",
    "df.groupby(df['Date'].dt.year)['Salary'].mean()\n"
   ]
  },
  {
   "cell_type": "markdown",
   "id": "e8b4111e-abe2-4aa7-99c9-007aa90fb80d",
   "metadata": {},
   "source": [
    "##### ✅ What It Does:\n",
    "* Groups the data based on unique values for year in the Date column.\n",
    "* Calculates the mean (average) of the Salary column for each group."
   ]
  },
  {
   "cell_type": "markdown",
   "id": "4367c587-fdc4-4fc1-829b-054dd5abd759",
   "metadata": {},
   "source": [
    "#### 🧩 Example 2: Multiple Aggregations Using .agg()"
   ]
  },
  {
   "cell_type": "code",
   "execution_count": 58,
   "id": "9f41531d-38b2-4d7d-987d-004df82fd609",
   "metadata": {},
   "outputs": [
    {
     "data": {
      "text/html": [
       "<div>\n",
       "<style scoped>\n",
       "    .dataframe tbody tr th:only-of-type {\n",
       "        vertical-align: middle;\n",
       "    }\n",
       "\n",
       "    .dataframe tbody tr th {\n",
       "        vertical-align: top;\n",
       "    }\n",
       "\n",
       "    .dataframe thead th {\n",
       "        text-align: right;\n",
       "    }\n",
       "</style>\n",
       "<table border=\"1\" class=\"dataframe\">\n",
       "  <thead>\n",
       "    <tr style=\"text-align: right;\">\n",
       "      <th></th>\n",
       "      <th>Salary</th>\n",
       "      <th>Age</th>\n",
       "    </tr>\n",
       "    <tr>\n",
       "      <th>Date</th>\n",
       "      <th></th>\n",
       "      <th></th>\n",
       "    </tr>\n",
       "  </thead>\n",
       "  <tbody>\n",
       "    <tr>\n",
       "      <th>2019</th>\n",
       "      <td>72000</td>\n",
       "      <td>38.0</td>\n",
       "    </tr>\n",
       "    <tr>\n",
       "      <th>2020</th>\n",
       "      <td>55000</td>\n",
       "      <td>29.0</td>\n",
       "    </tr>\n",
       "    <tr>\n",
       "      <th>2022</th>\n",
       "      <td>60000</td>\n",
       "      <td>32.0</td>\n",
       "    </tr>\n",
       "    <tr>\n",
       "      <th>2023</th>\n",
       "      <td>50000</td>\n",
       "      <td>25.0</td>\n",
       "    </tr>\n",
       "    <tr>\n",
       "      <th>2025</th>\n",
       "      <td>80000</td>\n",
       "      <td>45.0</td>\n",
       "    </tr>\n",
       "  </tbody>\n",
       "</table>\n",
       "</div>"
      ],
      "text/plain": [
       "      Salary   Age\n",
       "Date              \n",
       "2019   72000  38.0\n",
       "2020   55000  29.0\n",
       "2022   60000  32.0\n",
       "2023   50000  25.0\n",
       "2025   80000  45.0"
      ]
     },
     "execution_count": 58,
     "metadata": {},
     "output_type": "execute_result"
    }
   ],
   "source": [
    "df.groupby(df['Date'].dt.year).agg({'Salary': 'sum', 'Age': 'mean'})\n"
   ]
  },
  {
   "cell_type": "markdown",
   "id": "65b1a61c-4743-4e30-a4a5-c339962cd45f",
   "metadata": {},
   "source": [
    "#### ✅ What It Does:\n",
    "* Groups by the Category column.\n",
    "* Applies multiple aggregation functions:\n",
    "\n",
    "    * `'Salary': 'sum'` → Total salary per category.\n",
    "    * `'Age': 'mean'` → Average age per category."
   ]
  },
  {
   "cell_type": "markdown",
   "id": "a7595da3-7bc0-4161-a263-cdbf960fed04",
   "metadata": {},
   "source": [
    "# ✅ Conclusion\n",
    "This notebook covered the foundational operations in Pandas—from understanding DataFrames and Series to filtering, grouping, handling missing values, datetime parsing, and string manipulation. These are the core building blocks for efficient data analysis and preprocessing using Pandas.\n",
    "\n",
    "If you’ve grasped these concepts, you’re well on your way to becoming confident with Pandas.\n",
    "To go deeper and explore advanced functionality, check out the official Pandas Documentation. Link: https://pandas.pydata.org/docs/\n",
    "\n",
    "**Happy Data Wrangling! 🐼📊✨**"
   ]
  },
  {
   "cell_type": "code",
   "execution_count": null,
   "id": "5cdd999b-b697-468a-ad41-d1085fac80a8",
   "metadata": {},
   "outputs": [],
   "source": []
  }
 ],
 "metadata": {
  "kernelspec": {
   "display_name": "Python (tfenv)",
   "language": "python",
   "name": "tfenv"
  },
  "language_info": {
   "codemirror_mode": {
    "name": "ipython",
    "version": 3
   },
   "file_extension": ".py",
   "mimetype": "text/x-python",
   "name": "python",
   "nbconvert_exporter": "python",
   "pygments_lexer": "ipython3",
   "version": "3.10.18"
  }
 },
 "nbformat": 4,
 "nbformat_minor": 5
}
