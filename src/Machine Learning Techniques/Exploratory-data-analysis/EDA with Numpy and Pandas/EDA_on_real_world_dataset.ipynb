{
 "cells": [
  {
   "cell_type": "markdown",
   "id": "52035a63-f2d6-4d5f-98c6-91201f0b611d",
   "metadata": {},
   "source": [
    "# 📘 Notebook Title: Insurance Data Analysis\n",
    "---\n",
    "\n",
    "**Note:** If you've not checked out our introductory notebooks of pandas and numpy do revise them\n",
    "\n",
    "---\n",
    "\n",
    "## 🧭 Goal of the Notebook\n",
    "The primary goal of this notebook is to explore how insurance charges vary across different categories, with a special focus on smoker status. We aim to:\n",
    "\n",
    "* Analyze various columns of data and how they might contribute to policy-making decisions.\n",
    "* Analyze which age groups contribute to taking insurance.\n",
    "* How smoking affects insurance charges.\n",
    "* Examine how many smokers fall into each charge range.\n",
    "* and more.\n",
    "---\n",
    "## 📌 Introduction\n",
    "Insurance charges are determined by several factors including age, BMI, number of children, region, and whether the person is a smoker. In this notebook, we narrow our focus to study how smoker status correlates with insurance charges."
   ]
  },
  {
   "cell_type": "markdown",
   "id": "1e6d9a66-4d43-41b1-82b6-83cb2e7138cc",
   "metadata": {},
   "source": [
    "### 📂 Load and Inspect the Dataset\n",
    "We begin by loading the insurance dataset and inspecting a few rows to understand the structure.<br>\n",
    "Data Source: https://github.com/stedy/Machine-Learning-with-R-datasets"
   ]
  },
  {
   "cell_type": "code",
   "execution_count": 1,
   "id": "2bb8818a-9bdc-4811-9086-4fac86b727b7",
   "metadata": {},
   "outputs": [],
   "source": [
    "# Note: If you've not installed pandas and numpy, then uncomment the line below\n",
    "# !pip install numpy pandas --quiet\n",
    "\n",
    "# import packages\n",
    "import numpy as np\n",
    "import pandas as pd"
   ]
  },
  {
   "cell_type": "code",
   "execution_count": 2,
   "id": "2d191133-4f68-4277-ba82-d83637edc808",
   "metadata": {},
   "outputs": [],
   "source": [
    "# Loading the dataset\n",
    "insurance_df = pd.read_csv(\"insurance.csv\")"
   ]
  },
  {
   "cell_type": "markdown",
   "id": "1cf515bb-3979-4304-8b07-847d6a379c85",
   "metadata": {},
   "source": [
    "### Viewing the data in the dataframe"
   ]
  },
  {
   "cell_type": "code",
   "execution_count": 56,
   "id": "d96c9a04-247f-4f83-a849-3dd5ba8d730b",
   "metadata": {},
   "outputs": [
    {
     "data": {
      "text/html": [
       "<div>\n",
       "<style scoped>\n",
       "    .dataframe tbody tr th:only-of-type {\n",
       "        vertical-align: middle;\n",
       "    }\n",
       "\n",
       "    .dataframe tbody tr th {\n",
       "        vertical-align: top;\n",
       "    }\n",
       "\n",
       "    .dataframe thead th {\n",
       "        text-align: right;\n",
       "    }\n",
       "</style>\n",
       "<table border=\"1\" class=\"dataframe\">\n",
       "  <thead>\n",
       "    <tr style=\"text-align: right;\">\n",
       "      <th></th>\n",
       "      <th>age</th>\n",
       "      <th>sex</th>\n",
       "      <th>bmi</th>\n",
       "      <th>children</th>\n",
       "      <th>smoker</th>\n",
       "      <th>region</th>\n",
       "      <th>charges</th>\n",
       "      <th>charge_range</th>\n",
       "    </tr>\n",
       "  </thead>\n",
       "  <tbody>\n",
       "    <tr>\n",
       "      <th>0</th>\n",
       "      <td>19</td>\n",
       "      <td>female</td>\n",
       "      <td>27.900</td>\n",
       "      <td>0</td>\n",
       "      <td>yes</td>\n",
       "      <td>southwest</td>\n",
       "      <td>16884.92400</td>\n",
       "      <td>10k-20k</td>\n",
       "    </tr>\n",
       "    <tr>\n",
       "      <th>1</th>\n",
       "      <td>18</td>\n",
       "      <td>male</td>\n",
       "      <td>33.770</td>\n",
       "      <td>1</td>\n",
       "      <td>no</td>\n",
       "      <td>southeast</td>\n",
       "      <td>1725.55230</td>\n",
       "      <td>0-5k</td>\n",
       "    </tr>\n",
       "    <tr>\n",
       "      <th>2</th>\n",
       "      <td>28</td>\n",
       "      <td>male</td>\n",
       "      <td>33.000</td>\n",
       "      <td>3</td>\n",
       "      <td>no</td>\n",
       "      <td>southeast</td>\n",
       "      <td>4449.46200</td>\n",
       "      <td>0-5k</td>\n",
       "    </tr>\n",
       "    <tr>\n",
       "      <th>3</th>\n",
       "      <td>33</td>\n",
       "      <td>male</td>\n",
       "      <td>22.705</td>\n",
       "      <td>0</td>\n",
       "      <td>no</td>\n",
       "      <td>northwest</td>\n",
       "      <td>21984.47061</td>\n",
       "      <td>20k-30k</td>\n",
       "    </tr>\n",
       "    <tr>\n",
       "      <th>4</th>\n",
       "      <td>32</td>\n",
       "      <td>male</td>\n",
       "      <td>28.880</td>\n",
       "      <td>0</td>\n",
       "      <td>no</td>\n",
       "      <td>northwest</td>\n",
       "      <td>3866.85520</td>\n",
       "      <td>0-5k</td>\n",
       "    </tr>\n",
       "  </tbody>\n",
       "</table>\n",
       "</div>"
      ],
      "text/plain": [
       "   age     sex     bmi  children smoker     region      charges charge_range\n",
       "0   19  female  27.900         0    yes  southwest  16884.92400      10k-20k\n",
       "1   18    male  33.770         1     no  southeast   1725.55230         0-5k\n",
       "2   28    male  33.000         3     no  southeast   4449.46200         0-5k\n",
       "3   33    male  22.705         0     no  northwest  21984.47061      20k-30k\n",
       "4   32    male  28.880         0     no  northwest   3866.85520         0-5k"
      ]
     },
     "execution_count": 56,
     "metadata": {},
     "output_type": "execute_result"
    }
   ],
   "source": [
    "# Let's see the first 5 rows of the dataset\n",
    "insurance_df.head()"
   ]
  },
  {
   "cell_type": "markdown",
   "id": "6dbb6760-9cfa-43c1-93cb-59baffe2fdb4",
   "metadata": {},
   "source": [
    "### Viewing the information of dataframe"
   ]
  },
  {
   "cell_type": "code",
   "execution_count": 4,
   "id": "68bebffd-466c-41e2-8a28-2ad04d1c899c",
   "metadata": {},
   "outputs": [
    {
     "name": "stdout",
     "output_type": "stream",
     "text": [
      "<class 'pandas.core.frame.DataFrame'>\n",
      "RangeIndex: 1338 entries, 0 to 1337\n",
      "Data columns (total 7 columns):\n",
      " #   Column    Non-Null Count  Dtype  \n",
      "---  ------    --------------  -----  \n",
      " 0   age       1338 non-null   int64  \n",
      " 1   sex       1338 non-null   object \n",
      " 2   bmi       1338 non-null   float64\n",
      " 3   children  1338 non-null   int64  \n",
      " 4   smoker    1338 non-null   object \n",
      " 5   region    1338 non-null   object \n",
      " 6   charges   1338 non-null   float64\n",
      "dtypes: float64(2), int64(2), object(3)\n",
      "memory usage: 73.3+ KB\n"
     ]
    }
   ],
   "source": [
    "insurance_df.info()"
   ]
  },
  {
   "cell_type": "markdown",
   "id": "4251b6b6-d3e5-4a62-9159-df0f2a5968ad",
   "metadata": {},
   "source": [
    "There is no null values in the data columns and the dtypes of each columns can be seen\n",
    "\n",
    "## Looking at the statistical data of each columns"
   ]
  },
  {
   "cell_type": "code",
   "execution_count": 5,
   "id": "f1eb466c-bbbd-4e7c-82f5-212d4833c59d",
   "metadata": {},
   "outputs": [
    {
     "data": {
      "text/html": [
       "<div>\n",
       "<style scoped>\n",
       "    .dataframe tbody tr th:only-of-type {\n",
       "        vertical-align: middle;\n",
       "    }\n",
       "\n",
       "    .dataframe tbody tr th {\n",
       "        vertical-align: top;\n",
       "    }\n",
       "\n",
       "    .dataframe thead th {\n",
       "        text-align: right;\n",
       "    }\n",
       "</style>\n",
       "<table border=\"1\" class=\"dataframe\">\n",
       "  <thead>\n",
       "    <tr style=\"text-align: right;\">\n",
       "      <th></th>\n",
       "      <th>age</th>\n",
       "      <th>bmi</th>\n",
       "      <th>children</th>\n",
       "      <th>charges</th>\n",
       "    </tr>\n",
       "  </thead>\n",
       "  <tbody>\n",
       "    <tr>\n",
       "      <th>count</th>\n",
       "      <td>1338.000000</td>\n",
       "      <td>1338.000000</td>\n",
       "      <td>1338.000000</td>\n",
       "      <td>1338.000000</td>\n",
       "    </tr>\n",
       "    <tr>\n",
       "      <th>mean</th>\n",
       "      <td>39.207025</td>\n",
       "      <td>30.663397</td>\n",
       "      <td>1.094918</td>\n",
       "      <td>13270.422265</td>\n",
       "    </tr>\n",
       "    <tr>\n",
       "      <th>std</th>\n",
       "      <td>14.049960</td>\n",
       "      <td>6.098187</td>\n",
       "      <td>1.205493</td>\n",
       "      <td>12110.011237</td>\n",
       "    </tr>\n",
       "    <tr>\n",
       "      <th>min</th>\n",
       "      <td>18.000000</td>\n",
       "      <td>15.960000</td>\n",
       "      <td>0.000000</td>\n",
       "      <td>1121.873900</td>\n",
       "    </tr>\n",
       "    <tr>\n",
       "      <th>25%</th>\n",
       "      <td>27.000000</td>\n",
       "      <td>26.296250</td>\n",
       "      <td>0.000000</td>\n",
       "      <td>4740.287150</td>\n",
       "    </tr>\n",
       "    <tr>\n",
       "      <th>50%</th>\n",
       "      <td>39.000000</td>\n",
       "      <td>30.400000</td>\n",
       "      <td>1.000000</td>\n",
       "      <td>9382.033000</td>\n",
       "    </tr>\n",
       "    <tr>\n",
       "      <th>75%</th>\n",
       "      <td>51.000000</td>\n",
       "      <td>34.693750</td>\n",
       "      <td>2.000000</td>\n",
       "      <td>16639.912515</td>\n",
       "    </tr>\n",
       "    <tr>\n",
       "      <th>max</th>\n",
       "      <td>64.000000</td>\n",
       "      <td>53.130000</td>\n",
       "      <td>5.000000</td>\n",
       "      <td>63770.428010</td>\n",
       "    </tr>\n",
       "  </tbody>\n",
       "</table>\n",
       "</div>"
      ],
      "text/plain": [
       "               age          bmi     children       charges\n",
       "count  1338.000000  1338.000000  1338.000000   1338.000000\n",
       "mean     39.207025    30.663397     1.094918  13270.422265\n",
       "std      14.049960     6.098187     1.205493  12110.011237\n",
       "min      18.000000    15.960000     0.000000   1121.873900\n",
       "25%      27.000000    26.296250     0.000000   4740.287150\n",
       "50%      39.000000    30.400000     1.000000   9382.033000\n",
       "75%      51.000000    34.693750     2.000000  16639.912515\n",
       "max      64.000000    53.130000     5.000000  63770.428010"
      ]
     },
     "execution_count": 5,
     "metadata": {},
     "output_type": "execute_result"
    }
   ],
   "source": [
    "insurance_df.describe()"
   ]
  },
  {
   "cell_type": "markdown",
   "id": "2a21ac6b-e68b-432f-9115-6dd7a6b50f6a",
   "metadata": {},
   "source": [
    "**Task:** See the min and max values of each column and infer your understanding\n",
    "### Checking for null values in each columns"
   ]
  },
  {
   "cell_type": "code",
   "execution_count": 57,
   "id": "edcbb605-0deb-42d6-aef6-545fc76f3c32",
   "metadata": {},
   "outputs": [
    {
     "data": {
      "text/plain": [
       "age             0\n",
       "sex             0\n",
       "bmi             0\n",
       "children        0\n",
       "smoker          0\n",
       "region          0\n",
       "charges         0\n",
       "charge_range    0\n",
       "dtype: int64"
      ]
     },
     "execution_count": 57,
     "metadata": {},
     "output_type": "execute_result"
    }
   ],
   "source": [
    "# Rechecking if null values exists in our dataset\n",
    "insurance_df.isnull().sum()\n"
   ]
  },
  {
   "cell_type": "markdown",
   "id": "d7664767-c8bd-42f4-8fca-ee4a8d4e5ce3",
   "metadata": {},
   "source": [
    "### Shape and Columns of the dataset"
   ]
  },
  {
   "cell_type": "code",
   "execution_count": 60,
   "id": "0908aa7b-e3c0-4715-9de5-8c801c24b456",
   "metadata": {},
   "outputs": [
    {
     "name": "stdout",
     "output_type": "stream",
     "text": [
      "Shape of dataset (row,columns):  (1338, 8)\n",
      "Column names in dataset  ['age', 'sex', 'bmi', 'children', 'smoker', 'region', 'charges', 'charge_range']\n"
     ]
    }
   ],
   "source": [
    "print(\"Shape of dataset (row,columns): \",insurance_df.shape)\n",
    "print(\"Column names in dataset \",insurance_df.columns.tolist())"
   ]
  },
  {
   "cell_type": "markdown",
   "id": "b62513d6-9461-4c96-8055-807e0ed9b9c4",
   "metadata": {},
   "source": [
    "### Unique values under age column"
   ]
  },
  {
   "cell_type": "code",
   "execution_count": 61,
   "id": "2abcebc1-4329-42bd-b4c6-b5b205fceb89",
   "metadata": {},
   "outputs": [
    {
     "data": {
      "text/plain": [
       "array([19, 18, 28, 33, 32, 31, 46, 37, 60, 25, 62, 23, 56, 27, 52, 30, 34,\n",
       "       59, 63, 55, 22, 26, 35, 24, 41, 38, 36, 21, 48, 40, 58, 53, 43, 64,\n",
       "       20, 61, 44, 57, 29, 45, 54, 49, 47, 51, 42, 50, 39], dtype=int64)"
      ]
     },
     "execution_count": 61,
     "metadata": {},
     "output_type": "execute_result"
    }
   ],
   "source": [
    "insurance_df['age'].unique()"
   ]
  },
  {
   "cell_type": "markdown",
   "id": "4ed3be29-3aa4-44b1-9c8d-c8435b88b844",
   "metadata": {},
   "source": [
    "### Let's check which age group is taking the insurance the most"
   ]
  },
  {
   "cell_type": "code",
   "execution_count": 9,
   "id": "45431422-4ad2-4131-8716-2b6663f6bf23",
   "metadata": {},
   "outputs": [
    {
     "data": {
      "text/plain": [
       "count    1338.000000\n",
       "mean       39.207025\n",
       "std        14.049960\n",
       "min        18.000000\n",
       "25%        27.000000\n",
       "50%        39.000000\n",
       "75%        51.000000\n",
       "max        64.000000\n",
       "Name: age, dtype: float64"
      ]
     },
     "execution_count": 9,
     "metadata": {},
     "output_type": "execute_result"
    }
   ],
   "source": [
    "insurance_df['age'].describe()"
   ]
  },
  {
   "cell_type": "markdown",
   "id": "a538fd2a-c438-4373-a1a5-550ece609a23",
   "metadata": {},
   "source": [
    "**From the above data we can check that the minimum age of taking the insurance is 18 and the the maximum age that took the insurance is 64 and that the average age group taking insurance is around 39**\n",
    "\n",
    "### Let's check which age group is most insurance and what insights can be drawn"
   ]
  },
  {
   "cell_type": "code",
   "execution_count": 62,
   "id": "56e02def-8d55-4804-aa74-c6218b6fd08d",
   "metadata": {},
   "outputs": [],
   "source": [
    "# under 20 age\n",
    "age_under_20 = insurance_df[insurance_df['age'].between(1,20,inclusive='both')]\n",
    "\n",
    "# Between 21 and 30 age\n",
    "age_btw_21_30 = insurance_df[insurance_df['age'].between(21,30,inclusive='both')]\n",
    "\n",
    "# Between 31 and 40 age\n",
    "age_btw_31_40 = insurance_df[insurance_df['age'].between(31,40,inclusive='both')]\n",
    "\n",
    "# Between 41 and 50 age\n",
    "age_btw_41_50 = insurance_df[insurance_df['age'].between(41,50,inclusive='both')]\n",
    "\n",
    "# Between 51 and 60 age\n",
    "age_btw_51_60 = insurance_df[insurance_df['age'].between(51,60,inclusive='both')]\n",
    "\n",
    "# Above 60 age\n",
    "age_above_61 = insurance_df[insurance_df['age']>60]"
   ]
  },
  {
   "cell_type": "code",
   "execution_count": 63,
   "id": "d4fbd4bb-c85b-44de-b77d-cd565a165f78",
   "metadata": {},
   "outputs": [
    {
     "name": "stdout",
     "output_type": "stream",
     "text": [
      "Age under 20:  166\n",
      "Age btw 21 and 30:  278\n",
      "Age btw 31 and 40:  257\n",
      "Age btw 41 and 50:  281\n",
      "Age btw 51 and 60:  265\n",
      "Age above 61:  91\n"
     ]
    }
   ],
   "source": [
    "print(\"Age under 20: \",age_under_20.shape[0])\n",
    "print(\"Age btw 21 and 30: \",age_btw_21_30.shape[0])\n",
    "print(\"Age btw 31 and 40: \",age_btw_31_40.shape[0])\n",
    "print(\"Age btw 41 and 50: \",age_btw_41_50.shape[0])\n",
    "print(\"Age btw 51 and 60: \",age_btw_51_60.shape[0])\n",
    "print(\"Age above 61: \",age_above_61.shape[0])"
   ]
  },
  {
   "cell_type": "markdown",
   "id": "58357bb2-8045-4115-9879-a28ae50c8ea3",
   "metadata": {},
   "source": [
    "**The information indicates that individuals aged 41 to 50 are the most likely to purchase insurance, followed by those in the 21 to 30 age group. This insight can help in developing customer-friendly policies targeted at these specific age groups.**"
   ]
  },
  {
   "cell_type": "markdown",
   "id": "ade763c0-31ee-4aaa-9fd3-c345bb0a53e1",
   "metadata": {},
   "source": [
    "### Let's check what bmi can contribute to better understand planning the ploicies for the customer"
   ]
  },
  {
   "cell_type": "code",
   "execution_count": 12,
   "id": "15fdae1f-173b-446a-b627-b337573262b5",
   "metadata": {},
   "outputs": [
    {
     "name": "stdout",
     "output_type": "stream",
     "text": [
      "Minimum value of bmi 15.96\n",
      "Maximum value of bmi 53.13\n"
     ]
    }
   ],
   "source": [
    "# Minimum and Maximum value of bmi of the customer \n",
    "print(f\"Minimum value of bmi {insurance_df['bmi'].min()}\")\n",
    "print(f\"Maximum value of bmi {insurance_df['bmi'].max()}\")"
   ]
  },
  {
   "cell_type": "markdown",
   "id": "956674a0-699c-4162-85c0-48676f756898",
   "metadata": {},
   "source": [
    "**Let's check which bmi is seen under which age group**"
   ]
  },
  {
   "cell_type": "code",
   "execution_count": 13,
   "id": "403f7aba-2a51-4588-862c-0023a3865f61",
   "metadata": {},
   "outputs": [
    {
     "name": "stdout",
     "output_type": "stream",
     "text": [
      "Minimum value of bmi 15.96\n",
      "Maximum value of bmi 53.13\n"
     ]
    }
   ],
   "source": [
    "# Minimum and Maximum value of BMI of the customer under 20 age\n",
    "print(f\"Minimum value of bmi {age_under_20['bmi'].min()}\")\n",
    "print(f\"Maximum value of bmi {age_under_20['bmi'].max()}\")"
   ]
  },
  {
   "cell_type": "code",
   "execution_count": 14,
   "id": "fbb2c282-b24c-449f-bf93-43a51c6f2174",
   "metadata": {},
   "outputs": [
    {
     "name": "stdout",
     "output_type": "stream",
     "text": [
      "Minimum value of bmi 16.815\n",
      "Maximum value of bmi 47.6\n"
     ]
    }
   ],
   "source": [
    "# Minimum and Maximum value of BMI of the customer between 31 and 40 age\n",
    "print(f\"Minimum value of bmi {age_btw_31_40['bmi'].min()}\")\n",
    "print(f\"Maximum value of bmi {age_btw_31_40['bmi'].max()}\")"
   ]
  },
  {
   "cell_type": "code",
   "execution_count": 15,
   "id": "957f4741-18aa-4d14-9584-30967a69cc30",
   "metadata": {},
   "outputs": [
    {
     "name": "stdout",
     "output_type": "stream",
     "text": [
      "Minimum value of bmi 19.19\n",
      "Maximum value of bmi 48.07\n"
     ]
    }
   ],
   "source": [
    "# Minimum and Maximum value of BMI of the customer between 41 and 50 age\n",
    "print(f\"Minimum value of bmi {age_btw_41_50['bmi'].min()}\")\n",
    "print(f\"Maximum value of bmi {age_btw_41_50['bmi'].max()}\")"
   ]
  },
  {
   "cell_type": "markdown",
   "id": "fbc2de50-b1ca-450c-b32f-db82f77f7195",
   "metadata": {},
   "source": [
    "**Do it yourself:** Find BMI for different age groups and analyze the insights comparing BMI across these age groups<br>**Insights:** The minimum BMI among age groups is increasing, which should be considered for planning purposes."
   ]
  },
  {
   "cell_type": "code",
   "execution_count": 65,
   "id": "a0302bc5-3bc6-4ae4-8c3d-32aaed4bf9e0",
   "metadata": {},
   "outputs": [
    {
     "name": "stdout",
     "output_type": "stream",
     "text": [
      "                count   avg_charges\n",
      "bmi_category                       \n",
      "Underweight        21   8657.620652\n",
      "Normal            226  10435.440719\n",
      "Overweight        386  10997.803881\n",
      "Obese             614  15379.565215\n",
      "Severely Obese     91  16784.615546\n"
     ]
    }
   ],
   "source": [
    "bmi_bins = [0, 18.5, 25, 30, 40, 100]\n",
    "bmi_labels = ['Underweight', 'Normal', 'Overweight', 'Obese', 'Severely Obese']\n",
    "\n",
    "insurance_df['bmi_category'] = pd.cut(insurance_df['bmi'], bins=bmi_bins, labels=bmi_labels)\n",
    "\n",
    "bmi_stats = insurance_df.groupby('bmi_category').agg(\n",
    "    count=('charges', 'count'),\n",
    "    avg_charges=('charges', 'mean')\n",
    ").sort_index()\n",
    "\n",
    "print(bmi_stats)\n"
   ]
  },
  {
   "cell_type": "markdown",
   "id": "3ae99981-e2cf-4925-9d81-af1ff0b0c6c4",
   "metadata": {},
   "source": [
    "**Obese people are taking more insurance and as well as paying more for their insurance**"
   ]
  },
  {
   "cell_type": "markdown",
   "id": "5e38fc99-bf23-4475-b494-dabafd8b23bf",
   "metadata": {},
   "source": [
    "### Let's check for Smoker, how they are contributing to insurance policies"
   ]
  },
  {
   "cell_type": "code",
   "execution_count": 26,
   "id": "8338b909-3319-440c-877c-ce624fb8996b",
   "metadata": {},
   "outputs": [
    {
     "data": {
      "text/plain": [
       "no     1064\n",
       "yes     274\n",
       "Name: smoker, dtype: int64"
      ]
     },
     "execution_count": 26,
     "metadata": {},
     "output_type": "execute_result"
    }
   ],
   "source": [
    "insurance_df['smoker'].value_counts()"
   ]
  },
  {
   "cell_type": "markdown",
   "id": "89a99bcf-c863-4786-a67f-46c710115cb1",
   "metadata": {},
   "source": [
    "It is clear from the data that the proportion of smokers is lower compared to non-smokers.\n",
    "**Let's examine which age group smokes the most and is taking insurance.**\n"
   ]
  },
  {
   "cell_type": "code",
   "execution_count": 27,
   "id": "01f5d755-81d4-4d45-8d84-63df2e2cafbe",
   "metadata": {},
   "outputs": [
    {
     "data": {
      "text/plain": [
       "no     127\n",
       "yes     39\n",
       "Name: smoker, dtype: int64"
      ]
     },
     "execution_count": 27,
     "metadata": {},
     "output_type": "execute_result"
    }
   ],
   "source": [
    "age_under_20['smoker'].value_counts()"
   ]
  },
  {
   "cell_type": "code",
   "execution_count": 28,
   "id": "81759c54-b6dd-433d-ba26-0667646abac4",
   "metadata": {},
   "outputs": [
    {
     "data": {
      "text/plain": [
       "no     222\n",
       "yes     56\n",
       "Name: smoker, dtype: int64"
      ]
     },
     "execution_count": 28,
     "metadata": {},
     "output_type": "execute_result"
    }
   ],
   "source": [
    "age_btw_21_30['smoker'].value_counts()"
   ]
  },
  {
   "cell_type": "code",
   "execution_count": 29,
   "id": "e6f66e36-e0a4-4fd4-89ea-6d6c75ed3d01",
   "metadata": {},
   "outputs": [
    {
     "data": {
      "text/plain": [
       "no     203\n",
       "yes     54\n",
       "Name: smoker, dtype: int64"
      ]
     },
     "execution_count": 29,
     "metadata": {},
     "output_type": "execute_result"
    }
   ],
   "source": [
    "age_btw_31_40['smoker'].value_counts()"
   ]
  },
  {
   "cell_type": "code",
   "execution_count": 30,
   "id": "47bee469-3f8c-475f-9f01-350d59d38045",
   "metadata": {},
   "outputs": [
    {
     "data": {
      "text/plain": [
       "no     220\n",
       "yes     61\n",
       "Name: smoker, dtype: int64"
      ]
     },
     "execution_count": 30,
     "metadata": {},
     "output_type": "execute_result"
    }
   ],
   "source": [
    "age_btw_41_50['smoker'].value_counts()"
   ]
  },
  {
   "cell_type": "code",
   "execution_count": 31,
   "id": "06458be8-eecf-46b3-bdfe-09ff84dd6998",
   "metadata": {},
   "outputs": [
    {
     "data": {
      "text/plain": [
       "no     223\n",
       "yes     42\n",
       "Name: smoker, dtype: int64"
      ]
     },
     "execution_count": 31,
     "metadata": {},
     "output_type": "execute_result"
    }
   ],
   "source": [
    "age_btw_51_60['smoker'].value_counts()"
   ]
  },
  {
   "cell_type": "code",
   "execution_count": 32,
   "id": "bee76302-fa42-4917-95c1-47737afe1515",
   "metadata": {},
   "outputs": [
    {
     "data": {
      "text/plain": [
       "no     69\n",
       "yes    22\n",
       "Name: smoker, dtype: int64"
      ]
     },
     "execution_count": 32,
     "metadata": {},
     "output_type": "execute_result"
    }
   ],
   "source": [
    "age_above_61['smoker'].value_counts()"
   ]
  },
  {
   "cell_type": "markdown",
   "id": "8f0e92bf-8efa-4b35-801d-b35312d2108b",
   "metadata": {},
   "source": [
    "It is proven that the age group of 41-50 and 21-30 contains more smokers as compared to other age categories but the values are less as comapred to non-smokers\n",
    "Let's check the proportion of male-female of taking insurance"
   ]
  },
  {
   "cell_type": "code",
   "execution_count": 39,
   "id": "095481b3-6f9c-4976-aaab-50d604786c2e",
   "metadata": {},
   "outputs": [
    {
     "data": {
      "text/plain": [
       "male      676\n",
       "female    662\n",
       "Name: sex, dtype: int64"
      ]
     },
     "execution_count": 39,
     "metadata": {},
     "output_type": "execute_result"
    }
   ],
   "source": [
    "insurance_df['sex'].value_counts()"
   ]
  },
  {
   "cell_type": "markdown",
   "id": "20055632-fbba-4752-b8aa-7f8d08cdae87",
   "metadata": {},
   "source": [
    "It is clear from the above data that the sex factor is not significantly contributing to insurance, as both gender groups are comparatively contributing equally. Let's check how many males and females are smokers and are purchasing insurance."
   ]
  },
  {
   "cell_type": "code",
   "execution_count": 40,
   "id": "34128467-7623-492d-8e78-78cc21a844c9",
   "metadata": {},
   "outputs": [
    {
     "data": {
      "text/plain": [
       "male      159\n",
       "female    115\n",
       "Name: sex, dtype: int64"
      ]
     },
     "execution_count": 40,
     "metadata": {},
     "output_type": "execute_result"
    }
   ],
   "source": [
    "insurance_df[insurance_df['smoker'] == 'yes']['sex'].value_counts()"
   ]
  },
  {
   "cell_type": "markdown",
   "id": "3e2cd3d6-1f00-46f3-a5ce-69a2ef789ab2",
   "metadata": {},
   "source": [
    "It is clear from the above data that male are more smokers as compared to females but there's not huge difference in numbers.\n",
    "Let us check how smoking factor is affecting insurance charges"
   ]
  },
  {
   "cell_type": "markdown",
   "id": "3ac06557-ca3d-47b5-8f33-c50ee191f6f7",
   "metadata": {},
   "source": [
    "**Let's calculate for whole charges column**"
   ]
  },
  {
   "cell_type": "code",
   "execution_count": 51,
   "id": "4bb25a20-774d-4403-a217-5aa123a93413",
   "metadata": {},
   "outputs": [
    {
     "name": "stdout",
     "output_type": "stream",
     "text": [
      "0-5k       359\n",
      "5k-10k     353\n",
      "10k-20k    353\n",
      "20k-30k    111\n",
      "30k-40k     83\n",
      "40k-50k     72\n",
      "50k+         7\n",
      "Name: charge_range, dtype: int64\n"
     ]
    }
   ],
   "source": [
    "bins = [0, 5000, 10000, 20000, 30000, 40000, 50000, 70000]\n",
    "labels = ['0-5k', '5k-10k', '10k-20k', '20k-30k', '30k-40k', '40k-50k', '50k+']\n",
    "\n",
    "insurance_df['charge_range'] = pd.cut(insurance_df['charges'], bins=bins, labels=labels)\n",
    "print(insurance_df['charge_range'].value_counts().sort_index())\n"
   ]
  },
  {
   "cell_type": "markdown",
   "id": "dbbbcf0c-4039-43d9-ba87-f4160313bcfb",
   "metadata": {},
   "source": [
    "Insurance charges ranging from 0k to 20k are substantial compared to other price ranges. This indicates that we should focus more on this charge segment for policy improvement. **Let's check the situation for smokers.**"
   ]
  },
  {
   "cell_type": "code",
   "execution_count": 54,
   "id": "e340d006-02fe-4e31-bea8-8fdc51997ffa",
   "metadata": {},
   "outputs": [
    {
     "name": "stdout",
     "output_type": "stream",
     "text": [
      "0-5k        0\n",
      "5k-10k      0\n",
      "10k-20k    62\n",
      "20k-30k    60\n",
      "30k-40k    73\n",
      "40k-50k    72\n",
      "50k+        7\n",
      "Name: charge_range, dtype: int64\n"
     ]
    }
   ],
   "source": [
    "# SMOKERS\n",
    "\n",
    "# Define bins and labels\n",
    "bins = [0, 5000, 10000, 20000, 30000, 40000, 50000, 70000]\n",
    "labels = ['0-5k', '5k-10k', '10k-20k', '20k-30k', '30k-40k', '40k-50k', '50k+']\n",
    "\n",
    "# Create a new column with binned charge ranges\n",
    "insurance_df['charge_range'] = pd.cut(insurance_df['charges'], bins=bins, labels=labels)\n",
    "\n",
    "# Filter for smoker == 'yes' and count value ranges\n",
    "smoker_yes_ranges = insurance_df[insurance_df['smoker'] == 'yes']['charge_range'].value_counts().sort_index()\n",
    "\n",
    "print(smoker_yes_ranges)\n"
   ]
  },
  {
   "cell_type": "code",
   "execution_count": 55,
   "id": "598dbffd-3d2d-4754-b6d7-229cf6208e20",
   "metadata": {},
   "outputs": [
    {
     "name": "stdout",
     "output_type": "stream",
     "text": [
      "0-5k       359\n",
      "5k-10k     353\n",
      "10k-20k    291\n",
      "20k-30k     51\n",
      "30k-40k     10\n",
      "40k-50k      0\n",
      "50k+         0\n",
      "Name: charge_range, dtype: int64\n"
     ]
    }
   ],
   "source": [
    "# NON-SMOKERS\n",
    "\n",
    "# Define bins and labels\n",
    "bins = [0, 5000, 10000, 20000, 30000, 40000, 50000, 70000]\n",
    "labels = ['0-5k', '5k-10k', '10k-20k', '20k-30k', '30k-40k', '40k-50k', '50k+']\n",
    "\n",
    "# Create a new column with binned charge ranges\n",
    "insurance_df['charge_range'] = pd.cut(insurance_df['charges'], bins=bins, labels=labels)\n",
    "\n",
    "# Filter for smoker == 'yes' and count value ranges\n",
    "smoker_yes_ranges = insurance_df[insurance_df['smoker'] == 'no']['charge_range'].value_counts().sort_index()\n",
    "\n",
    "print(smoker_yes_ranges)\n"
   ]
  },
  {
   "cell_type": "markdown",
   "id": "9eb57eee-6c6a-43c2-ab3f-44db772f6209",
   "metadata": {},
   "source": [
    "The data indicate that smokers pay more for insurance than non-smokers, despite their smaller numbers, with many smokers paying twice as much as non-smokers."
   ]
  },
  {
   "cell_type": "markdown",
   "id": "287f7a49-7cda-424c-9255-03cb81d75e14",
   "metadata": {},
   "source": [
    "The goal of this notebook was to give you a sense of how EDA is important and how one can extract patterns and insights from them"
   ]
  },
  {
   "cell_type": "markdown",
   "id": "10b77e83-ce74-4e46-9d69-0ea10186d785",
   "metadata": {},
   "source": [
    "### Your Task  \n",
    "Your task is to draw patterns for the other columns and summarize the findings into a paragraph so that the company can improve its policy-making decisions."
   ]
  },
  {
   "cell_type": "markdown",
   "id": "af2ec63e-9a58-4e3a-976b-a42b77ea2538",
   "metadata": {},
   "source": [
    "# ✅ Summary of Findings\n",
    "\n",
    "* The highest number of smokers fall into the 30k–40k charge ranges.\n",
    "* A significant portion of smokers are charged above 20k, indicating high insurance costs for this group.\n",
    "* Very few smokers are found in the under 20k as compored to above ranges.\n",
    "* Sex does not contribute much in policy buying, since both categories are not more but still equally contributing.\n",
    "* Obese people are taking more insurance and as well as paying more for their insurance\n",
    "* \n",
    "#### Add your insights to this notebook and perform more EDA to conclude to a better policy making decision\n",
    "\n",
    "### Keep Learning !!"
   ]
  },
  {
   "cell_type": "code",
   "execution_count": null,
   "id": "659ae2f2-087d-4f64-b9ac-aa5c61f0b247",
   "metadata": {},
   "outputs": [],
   "source": []
  }
 ],
 "metadata": {
  "kernelspec": {
   "display_name": "Python (tfenv)",
   "language": "python",
   "name": "tfenv"
  },
  "language_info": {
   "codemirror_mode": {
    "name": "ipython",
    "version": 3
   },
   "file_extension": ".py",
   "mimetype": "text/x-python",
   "name": "python",
   "nbconvert_exporter": "python",
   "pygments_lexer": "ipython3",
   "version": "3.10.18"
  }
 },
 "nbformat": 4,
 "nbformat_minor": 5
}
