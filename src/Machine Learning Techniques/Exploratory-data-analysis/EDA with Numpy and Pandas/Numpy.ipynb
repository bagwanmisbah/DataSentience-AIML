{
 "cells": [
  {
   "cell_type": "markdown",
   "id": "caf6e379",
   "metadata": {},
   "source": [
    "\n",
    "# NumPy Basics - Learning Notebook 📘\n",
    "\n",
    "## 🧠 Introduction to NumPy\n",
    "Welcome to this notebook on NumPy, short for Numerical Python — one of the core libraries in the Python data science ecosystem. NumPy provides support for large, multi-dimensional arrays and matrices, along with a vast collection of high-level mathematical functions to operate on these arrays efficiently.\n",
    "\n",
    "---\n",
    "\n",
    "## 💡 What is NumPy?\n",
    "NumPy is a powerful numerical computing library that allows us to perform operations on large datasets with ease. It brings high performance through its C-backed arrays, and replaces slower Python list operations with optimized methods.\n",
    "\n",
    "---\n",
    "\n",
    "## 🚀 Why Use NumPy?\n",
    "* 🔢 Efficient array handling – much faster and more memory-efficient than Python lists\n",
    "* 🧮 Vectorized operations – perform batch operations without writing loops\n",
    "* 📊 Mathematical capabilities – supports linear algebra, Fourier transforms, and more\n",
    "* 🔁 Broadcasting – allows you to perform arithmetic across different array shapes\n",
    "* 🤝 Integration – works seamlessly with libraries like Pandas, SciPy, and scikit-learn\n",
    "  \n",
    "---\n",
    "\n",
    "## 📚 What You Will Learn\n",
    "In this notebook, you’ll explore:\n",
    "\n",
    "* Creating NumPy arrays and understanding their structure \n",
    "* Array indexing, slicing, and reshaping\n",
    "* Performing mathematical and statistical operations\n",
    "* Useful NumPy functions for manipulating data\n",
    "* Broadcasting and vectorization\n",
    "* Loading/storing arrays from files\n",
    "\n",
    "---\n",
    "\n",
    "## 🎯 Goal of the Notebook\n",
    "By the end of this notebook, you'll have a solid grasp of NumPy fundamentals, which will serve as the foundation for data science, machine learning, and scientific computing workflows. You'll be able to confidently use NumPy for data preprocessing, numerical analysis, and building efficient computation pipelines.\n",
    "\n",
    "---\n",
    "#### Let’s dive in! 🧪\n"
   ]
  },
  {
   "cell_type": "markdown",
   "id": "3f117b78-36ea-43a8-9b41-7a9df21c65f4",
   "metadata": {},
   "source": [
    "## Installing NumPy"
   ]
  },
  {
   "cell_type": "code",
   "execution_count": null,
   "id": "86c32612-61e2-4429-969c-61df5281e19a",
   "metadata": {},
   "outputs": [],
   "source": [
    "!pip install numpy"
   ]
  },
  {
   "cell_type": "markdown",
   "id": "b261ebd7",
   "metadata": {},
   "source": [
    "\n",
    "## 🔧 Importing NumPy\n",
    "\n",
    "We begin by importing NumPy—Python's fundamental package for scientific computing.\n",
    "\n",
    "- `import numpy as np`: This is the standard alias used to call NumPy functions easily throughout your code.\n"
   ]
  },
  {
   "cell_type": "code",
   "execution_count": 2,
   "id": "b29bc852-340d-4f3e-be58-d09af542bc17",
   "metadata": {},
   "outputs": [],
   "source": [
    "import numpy as np"
   ]
  },
  {
   "cell_type": "markdown",
   "id": "681c2328",
   "metadata": {},
   "source": [
    "\n",
    "## 🔢 Creating NumPy Arrays\n",
    "\n",
    "This section demonstrates how to create NumPy arrays from Python lists. NumPy arrays are more efficient and powerful for numerical operations than Python lists.\n",
    "\n",
    "- `np.array([1, 2, 3])`: Creates a 1D array of integers.\n",
    "- `np.array([[1,2,3], [4,5,6]])`: Creates a 2D matrix.\n",
    "- Arrays can have different datatypes like integers or floats.\n",
    "\n",
    "📌 **Use Case:** Arrays form the building blocks of tensors used in data science, ML models, and scientific computing.\n"
   ]
  },
  {
   "cell_type": "code",
   "execution_count": 3,
   "id": "198dcebc-c1a5-4bfa-bb75-2ef5e6179694",
   "metadata": {},
   "outputs": [
    {
     "name": "stdout",
     "output_type": "stream",
     "text": [
      "1D Array of int datatype: [1 2 3 4]\n",
      "1D Array of float datatype: [1. 2. 3.]\n",
      "2D array:\n",
      "[[1 2 3]\n",
      " [4 5 6]]\n"
     ]
    }
   ],
   "source": [
    "# 1D Array - Integer datatype\n",
    "arr1_int = np.array([1,2,3,4])\n",
    "print(f\"1D Array of int datatype: {arr1_int}\")\n",
    "\n",
    "# 1D Array - Float datatype\n",
    "arr1_float = np.array([1.,2.,3.])\n",
    "print(f\"1D Array of float datatype: {arr1_float}\")\n",
    "\n",
    "# 2D Array - 2 rows and 3 columns\n",
    "arr2 = np.array([[1,2,3],\n",
    "                [4,5,6]])\n",
    "print(f\"2D array:\\n{arr2}\")"
   ]
  },
  {
   "cell_type": "markdown",
   "id": "97a50ca8",
   "metadata": {},
   "source": [
    "\n",
    "## 📐 Array Attributes\n",
    "\n",
    "We inspect properties of arrays that help in understanding and debugging them.\n",
    "\n",
    "- `.ndim`: Returns number of dimensions (1D, 2D, etc).\n",
    "- `.shape`: Gives (rows, columns) for 2D arrays.\n",
    "- `.size`: Total number of elements in the array.\n",
    "- `.dtype`: Data type (e.g., `int32`, `float64`) of elements in the array.\n",
    "\n",
    "📌 **Use Case:** These attributes help automate and debug array-based computations in data pipelines.\n"
   ]
  },
  {
   "cell_type": "code",
   "execution_count": 4,
   "id": "c6c5e47d-c654-4a83-bc5a-09146207f733",
   "metadata": {},
   "outputs": [
    {
     "name": "stdout",
     "output_type": "stream",
     "text": [
      "1D array dimension: 1\n",
      "2D array dimension: 2\n",
      "\n",
      "\n",
      "1D array shape: (4,)\n",
      "2D array shape: (2, 3)\n",
      "\n",
      "\n",
      "Total elements in arr2 (2D array): 6\n",
      "\n",
      "\n",
      "Data type of array arr1_int: int32\n",
      "Data type of array arr1_float: float64\n"
     ]
    }
   ],
   "source": [
    "# Basic Attributes\n",
    "\n",
    "# dimention \n",
    "print(f\"1D array dimension: {arr1_float.ndim}\")\n",
    "print(f\"2D array dimension: {arr2.ndim}\")\n",
    "print(\"\\n\")\n",
    "\n",
    "# shape of array \n",
    "print(f\"1D array shape: {arr1_int.shape}\")\n",
    "print(f\"2D array shape: {arr2.shape}\")\n",
    "print(\"\\n\")\n",
    "\n",
    "# Total number of elements in array\n",
    "print(f\"Total elements in arr2 (2D array): {arr2.size}\")\n",
    "print(\"\\n\")\n",
    "\n",
    "# Date type of the elements\n",
    "print(f\"Data type of array arr1_int: {arr1_int.dtype}\")\n",
    "print(f\"Data type of array arr1_float: {arr1_float.dtype}\")\n"
   ]
  },
  {
   "cell_type": "markdown",
   "id": "bd617089",
   "metadata": {},
   "source": [
    "\n",
    "## 🔄 Reshaping and Flattening Arrays\n",
    "\n",
    "Transform the shape of an array without altering its data.\n",
    "\n",
    "- `.reshape(m, n)`: Changes the shape to m×n (e.g., reshape 3x4 to 2x6).\n",
    "- `.flatten()` or `.ravel()`: Converts an n-dimensional array to 1D.\n",
    "\n",
    "📌 **Use Case:** Essential for preparing data in ML models where specific shapes (like 1D or 2D) are required.\n"
   ]
  },
  {
   "cell_type": "code",
   "execution_count": 5,
   "id": "f9cba9cc-2e86-4e86-b2bd-894fd3916fba",
   "metadata": {},
   "outputs": [
    {
     "name": "stdout",
     "output_type": "stream",
     "text": [
      "Reshaped array of size 2x6  [[12 45 67 89 46 66]\n",
      " [98 14 89 23 67 88]]\n",
      "Change in original array  [[12 45 67 89]\n",
      " [46 66 98 14]\n",
      " [89 23 67 88]]\n",
      "Flatten array  [12 45 67 89 46 66 98 14 89 23 67 88]\n"
     ]
    }
   ],
   "source": [
    "# array of shape 3 x 4\n",
    "arr = np.array([[12,45,67,89],[46,66,98,14],[89,23,67,88]])\n",
    "\n",
    "# Reshaping the array using reshape()\n",
    "print(\"Reshaped array of size 2x6 \",arr.reshape(2,6))\n",
    "print(\"Change in original array \",arr)\n",
    "\n",
    "# Flatten the array into 1D\n",
    "arr_flatten = arr.flatten()\n",
    "print(\"Flatten array \",arr_flatten)\n"
   ]
  },
  {
   "cell_type": "markdown",
   "id": "1dbd814e",
   "metadata": {},
   "source": [
    "\n",
    "## 🧱 Special Arrays & Random Numbers\n",
    "\n",
    "Create arrays filled with default or random values.\n",
    "\n",
    "- `np.zeros((2,3))`: 2x3 array of zeros.\n",
    "- `np.ones(10)`: 1D array of ten ones.\n",
    "- `np.full((2,3), 5)`: 2x3 array filled with the value 5.\n",
    "- `np.random.rand(5)`: Array of 5 random float values in [0, 1).\n",
    "- `np.random.randint(5,10,(2,3))`: 2x3 array of random integers in [5,10).\n",
    "- `np.arange(5,10,3)`: Creates array [5, 8] with step of 3.\n",
    "- `np.linspace(0,10,5)`: Divides 0 to 10 into 5 evenly spaced float values.\n",
    "\n",
    "📌 **Use Case:** Used in simulations, synthetic data generation, initializing weights in ML models.\n"
   ]
  },
  {
   "cell_type": "code",
   "execution_count": 6,
   "id": "91a2cac2-d9c3-4190-b31c-4079d8e87983",
   "metadata": {},
   "outputs": [
    {
     "name": "stdout",
     "output_type": "stream",
     "text": [
      "1D Array of zeros: [0. 0. 0. 0. 0.]\n",
      "2D Array of zeros: [[0. 0. 0.]\n",
      " [0. 0. 0.]]\n",
      "1D Array of ones: [1. 1. 1. 1. 1. 1. 1. 1. 1. 1.]\n",
      "2D Array of 5: [[5 5 5]\n",
      " [5 5 5]]\n",
      "Array of random numbers between 0 and 1 (excluding one) [0.38126927 0.0930028  0.74276269 0.9060193  0.97019979]\n",
      "2D Array of random numbers between 5 and 10: [[5 8 9]\n",
      " [5 8 6]]\n",
      "Array of numbers between 5 and 10 with 3 steps: [5 8]\n",
      "Array of 5 floating numbers: [ 0.   2.5  5.   7.5 10. ]\n"
     ]
    }
   ],
   "source": [
    "# Array of zeros\n",
    "zeros_1d = np.zeros(5)\n",
    "zeros_2d = np.zeros((2,3))\n",
    "\n",
    "print(f\"1D Array of zeros: {zeros_1d}\")\n",
    "print(f\"2D Array of zeros: {zeros_2d}\")\n",
    "\n",
    "ones_arr = np.ones(10)\n",
    "print(f\"1D Array of ones: {ones_arr}\")\n",
    "\n",
    "# Filling the array with default value\n",
    "arr_5 = np.full((2,3),5)\n",
    "print(f\"2D Array of 5: {arr_5}\")\n",
    "\n",
    "# Array of 5 number between 0 and 1 (excluding 1)\n",
    "rand = np.random.rand(5)\n",
    "print(f\"Array of random numbers between 0 and 1 (excluding one) {rand}\")\n",
    "\n",
    "# Array of 5 numbers between any numbers\n",
    "randint = np.random.randint(5,10,(2,3))\n",
    "print(f\"2D Array of random numbers between 5 and 10: {randint}\")\n",
    "\n",
    "# Array of numbers between any numbers with distance as 3\n",
    "arange = np.arange(5,10,3)\n",
    "print(f\"Array of numbers between 5 and 10 with 3 steps: {arange}\")\n",
    "\n",
    "# Array of float numbers between any 2 numbers\n",
    "linspace = np.linspace(0,10,5)\n",
    "print(f\"Array of 5 floating numbers: {linspace}\")"
   ]
  },
  {
   "cell_type": "markdown",
   "id": "3255b8f1",
   "metadata": {},
   "source": [
    "\n",
    "## ➕ Basic Arithmetic Operations\n",
    "\n",
    "Perform element-wise operations between arrays of the same shape.\n",
    "\n",
    "- `a + b`: Adds corresponding elements.\n",
    "- `a - b`: Subtracts corresponding elements.\n",
    "- `a * b`: Multiplies element-wise.\n",
    "- `a / b`: Divides element-wise.\n",
    "\n",
    "📌 **Use Case:** Supports vectorized computation, which is faster than looping. Used in ML (like vector math), graphics (image pixel operations), and numerical modeling (e.g., matrix equations).\n"
   ]
  },
  {
   "cell_type": "code",
   "execution_count": 8,
   "id": "ec10a3dc-e14f-45a4-96c5-d9bd876e81f2",
   "metadata": {},
   "outputs": [
    {
     "name": "stdout",
     "output_type": "stream",
     "text": [
      "Add: [5 7 9]\n",
      "Subtract: [-3 -3 -3]\n",
      "Multiply: [ 4 10 18]\n",
      "Divide: [0.25 0.4  0.5 ]\n"
     ]
    }
   ],
   "source": [
    "a1 = np.array([1,2,3])\n",
    "a2 = np.array([4,5,6])\n",
    "\n",
    "# Add \n",
    "print(f\"Add: {a1+a2}\")\n",
    "\n",
    "# Subtract\n",
    "print(f\"Subtract: {a1-a2}\")\n",
    "\n",
    "# Multiply\n",
    "print(f\"Multiply: {a1*a2}\")\n",
    "\n",
    "# Divide\n",
    "print(f\"Divide: {a1/a2}\")"
   ]
  },
  {
   "cell_type": "markdown",
   "id": "957a7e11-53f0-43c3-b405-d2cd65148fa2",
   "metadata": {},
   "source": [
    "## 📊 Aggregate Functions on Arrays\n",
    "This section includes statistical functions for summarizing array data:\n",
    "\n",
    "* `sum()` → Total of all elements.\n",
    "* `min()` → Minimum element.\n",
    "* `max()` → Maximum element.\n",
    "* `mean()` → Average of values.\n",
    "* `std()` → Standard deviation (spread of data).\n",
    "* `var()` → Variance (spread squared).\n",
    "\n",
    "📌 Use Case: Useful in analytics, reporting, feature scaling, and evaluation metrics.\n"
   ]
  },
  {
   "cell_type": "code",
   "execution_count": 13,
   "id": "35c085b5-64af-4489-8025-2bcc0bcf467a",
   "metadata": {},
   "outputs": [
    {
     "name": "stdout",
     "output_type": "stream",
     "text": [
      "sum 6\n",
      "min 1\n",
      "max 3\n",
      "mean 2.0\n",
      "standard deviation 0.82\n",
      "variance 0.67\n"
     ]
    }
   ],
   "source": [
    "# Sum of array\n",
    "print(f\"sum {a1.sum()}\")\n",
    "\n",
    "# Minimum element of array\n",
    "print(f\"min {a1.min()}\")\n",
    "\n",
    "# Maximum element of array\n",
    "print(f\"max {a1.max()}\")\n",
    "\n",
    "# Mean of array\n",
    "print(f\"mean {a1.mean()}\")\n",
    "\n",
    "# Standard deviation of array\n",
    "print(f\"standard deviation {a1.std():.2f}\")\n",
    "\n",
    "# Variance of array\n",
    "print(f\"variance {a1.var():.2f}\")"
   ]
  },
  {
   "cell_type": "markdown",
   "id": "3d806bad-9476-4a91-86d5-ed98e763b5e5",
   "metadata": {},
   "source": [
    "## 🧭 Indexing and Slicing\n",
    "\n",
    "* Indexing and Slicing - \n",
    "Retrieve specific values or sub-arrays:\n",
    "\n",
    "* `a1[1]` → Gets the second element.\n",
    "* `a1[0:3]` → First 3 elements.\n",
    "* `a1[-3:]` → Last 3 elements.\n",
    "\n",
    "📌 Use Case: Extract sequences, modify data, or select features."
   ]
  },
  {
   "cell_type": "code",
   "execution_count": 27,
   "id": "dfbe4914-5218-4562-96f6-f3b32e266faf",
   "metadata": {},
   "outputs": [
    {
     "name": "stdout",
     "output_type": "stream",
     "text": [
      "@nd element of array 2\n",
      "First 3 elements of the array [1 2 3]\n",
      "Last 3 elemets of the array [1 2 3]\n"
     ]
    }
   ],
   "source": [
    "# Accessing the 2nd element of array\n",
    "print(f\"2nd element of array {a1[1]}\")\n",
    "\n",
    "# Accessing first 3 elements element of array\n",
    "print(f\"First 3 elements of the array {a1[0:3]}\")\n",
    "\n",
    "# Accessing last 3 elements of array\n",
    "print(f\"Last 3 elemets of the array {a1[-3:]}\")"
   ]
  },
  {
   "cell_type": "markdown",
   "id": "6d1ff7c1-d065-44a5-a25b-2580befd458a",
   "metadata": {},
   "source": [
    "## 🕵️ Boolean Masking & Filtering\n",
    "Apply conditions directly to arrays:\n",
    "\n",
    "* `a1 > 2` → Returns a boolean array.\n",
    "\n",
    "* `a1[a1 > 2]` → Filters elements based on condition.\n",
    "\n",
    "📌 Use Case: Data filtering, conditional logic in pipelines."
   ]
  },
  {
   "cell_type": "code",
   "execution_count": 32,
   "id": "988d788d-e7e2-473a-844a-0f9403b1ceb3",
   "metadata": {},
   "outputs": [
    {
     "name": "stdout",
     "output_type": "stream",
     "text": [
      "Element which is greater than 2 [3]\n",
      "Boolean Array [False False  True]\n"
     ]
    }
   ],
   "source": [
    "# Accessing the elements which are greater than 2\n",
    "mask = a1 > 2\n",
    "print(f\"Element which is greater than 2 {a1[mask]}\")\n",
    "\n",
    "# Boolean Indexing\n",
    "print(f\"Boolean Array {mask}\")"
   ]
  },
  {
   "cell_type": "markdown",
   "id": "1eaff194-5264-4f4f-b649-de1cf0f669d8",
   "metadata": {},
   "source": [
    "## 🧰 Handy NumPy Utilities\n",
    "\n",
    "* `np.unique()` → Unique values.\n",
    "* `np.where(condition, x, y)` → Ternary logic on arrays.\n",
    "* `np.isin(array, [values])` → Membership testing.\n",
    "* `np.clip(array, min, max)` → Restricts range of values.\n",
    "\n",
    "📌 Use Case: Cleansing, transforming, or validating model inputs/outputs.\n",
    "\n"
   ]
  },
  {
   "cell_type": "code",
   "execution_count": 43,
   "id": "41d7c1a9-ed77-4e93-889b-30e4151f8b94",
   "metadata": {},
   "outputs": [
    {
     "name": "stdout",
     "output_type": "stream",
     "text": [
      "Unique elements in array  [0 1 2 3 4 5 6 7 8 9]\n",
      "Applying Condition  [0 0 0 0 1 1 0 1 0 1 0 0 0]\n",
      "Element present or not  [ True  True False False False False False False False False False  True\n",
      " False]\n",
      "Clipping values within range  [1 2 4 5 6 7 3 8 3 9 3 1 0]\n"
     ]
    }
   ],
   "source": [
    "print(\"Unique elements in array \",np.unique(a1))                # Unique elements\n",
    "print(\"Applying Condition \",np.where(a1 > 5, 1, 0))            # Apply condition\n",
    "print(\"Element present or not \",np.isin(a1, [1, 2]))          # Check membership\n",
    "print(\"Clipping values within range \",np.clip(a1, 0, 10))     # Clip values within range"
   ]
  },
  {
   "cell_type": "markdown",
   "id": "625ef8e3-b110-4574-a109-e32a96c3f9e5",
   "metadata": {},
   "source": [
    "# Saving and Loading"
   ]
  },
  {
   "cell_type": "code",
   "execution_count": 45,
   "id": "6aea5f84-9946-42bf-9b2b-652c74a5ed82",
   "metadata": {},
   "outputs": [
    {
     "data": {
      "text/plain": [
       "array([1., 2., 4., 5., 6., 7., 3., 8., 3., 9., 3., 1., 0.])"
      ]
     },
     "execution_count": 45,
     "metadata": {},
     "output_type": "execute_result"
    }
   ],
   "source": [
    "np.save(\"array.npy\", a1)             # Save array to .npy file\n",
    "np.load(\"array.npy\")                # Load array from .npy file\n",
    "np.savetxt(\"array.txt\", a1)          # Save as text file\n",
    "np.loadtxt(\"array.txt\")             # Load from text file"
   ]
  },
  {
   "cell_type": "code",
   "execution_count": null,
   "id": "28343867-1ea5-4f70-8747-24e8c7f5379e",
   "metadata": {},
   "outputs": [],
   "source": []
  },
  {
   "cell_type": "markdown",
   "id": "6f471591",
   "metadata": {},
   "source": [
    "\n",
    "---\n",
    "# ✅ Conclusion\n",
    "In this notebook, we explored the core functionalities of NumPy—from creating arrays and performing mathematical operations, to slicing, reshaping, broadcasting, and using built-in functions for efficient computation.\n",
    "\n",
    "You should now have:\n",
    "\n",
    "* A solid understanding of how NumPy arrays work and how they differ from Python lists\n",
    "* Hands-on experience with common array operations and transformations\n",
    "* Knowledge of broadcasting and vectorization for writing cleaner, faster code\n",
    "* Confidence in using NumPy as a foundation for data science, ML, and scientific tasks\n",
    "\n",
    "If you’re ready to dive deeper into numerical computing or want to explore more advanced topics like linear algebra, random number generation, and performance optimization using NumPy, check out the official documentation:\n",
    "🔗 NumPy Documentation: https://numpy.org/doc/stable/\n",
    "\n",
    "Happy coding! 🧠⚙️📊\n",
    "\n"
   ]
  },
  {
   "cell_type": "code",
   "execution_count": null,
   "id": "a45b3086-47f9-4857-8564-bebdd1a0320b",
   "metadata": {},
   "outputs": [],
   "source": []
  }
 ],
 "metadata": {
  "kernelspec": {
   "display_name": "Python (tfenv)",
   "language": "python",
   "name": "tfenv"
  },
  "language_info": {
   "codemirror_mode": {
    "name": "ipython",
    "version": 3
   },
   "file_extension": ".py",
   "mimetype": "text/x-python",
   "name": "python",
   "nbconvert_exporter": "python",
   "pygments_lexer": "ipython3",
   "version": "3.10.18"
  }
 },
 "nbformat": 4,
 "nbformat_minor": 5
}
