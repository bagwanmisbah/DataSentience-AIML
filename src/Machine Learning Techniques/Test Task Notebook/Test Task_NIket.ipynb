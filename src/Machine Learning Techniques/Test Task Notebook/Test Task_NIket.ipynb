{
 "cells": [
  {
   "cell_type": "markdown",
   "metadata": {},
   "source": [
    "## Test Task"
   ]
  },
  {
   "cell_type": "code",
   "execution_count": 161,
   "metadata": {},
   "outputs": [],
   "source": [
    "# importing libraries\n",
    "import pandas as pd\n",
    "import numpy as np\n",
    "import matplotlib.pyplot as plt\n",
    "import seaborn as sns"
   ]
  },
  {
   "cell_type": "code",
   "execution_count": 162,
   "metadata": {},
   "outputs": [],
   "source": [
    "data=pd.read_csv('Data Analyst - Test Data - US.csv')"
   ]
  },
  {
   "cell_type": "code",
   "execution_count": 163,
   "metadata": {},
   "outputs": [
    {
     "data": {
      "text/html": [
       "<div>\n",
       "<style scoped>\n",
       "    .dataframe tbody tr th:only-of-type {\n",
       "        vertical-align: middle;\n",
       "    }\n",
       "\n",
       "    .dataframe tbody tr th {\n",
       "        vertical-align: top;\n",
       "    }\n",
       "\n",
       "    .dataframe thead th {\n",
       "        text-align: right;\n",
       "    }\n",
       "</style>\n",
       "<table border=\"1\" class=\"dataframe\">\n",
       "  <thead>\n",
       "    <tr style=\"text-align: right;\">\n",
       "      <th></th>\n",
       "      <th>Review</th>\n",
       "      <th>date</th>\n",
       "      <th>Location</th>\n",
       "    </tr>\n",
       "  </thead>\n",
       "  <tbody>\n",
       "    <tr>\n",
       "      <th>0</th>\n",
       "      <td>I was very impressed with the resort.\\n Great ...</td>\n",
       "      <td>2019/08/20</td>\n",
       "      <td>Sebastian</td>\n",
       "    </tr>\n",
       "    <tr>\n",
       "      <th>1</th>\n",
       "      <td>The rooms were nice the outside needs work als...</td>\n",
       "      <td>2019/08/20</td>\n",
       "      <td>Los Angeles</td>\n",
       "    </tr>\n",
       "    <tr>\n",
       "      <th>2</th>\n",
       "      <td>Great location! I have stayed at this hotel on...</td>\n",
       "      <td>2019/08/20</td>\n",
       "      <td>Georgia</td>\n",
       "    </tr>\n",
       "    <tr>\n",
       "      <th>3</th>\n",
       "      <td>The hotel was adequate for my stay. The strips...</td>\n",
       "      <td>2019/08/20</td>\n",
       "      <td>NaN</td>\n",
       "    </tr>\n",
       "    <tr>\n",
       "      <th>4</th>\n",
       "      <td>Great location, room was large and spacious. P...</td>\n",
       "      <td>2019/08/19</td>\n",
       "      <td>Palm Harbor</td>\n",
       "    </tr>\n",
       "    <tr>\n",
       "      <th>5</th>\n",
       "      <td>All the options for fun were great! Do wish th...</td>\n",
       "      <td>2019/08/19</td>\n",
       "      <td>NaN</td>\n",
       "    </tr>\n",
       "    <tr>\n",
       "      <th>6</th>\n",
       "      <td>Old. Musty. Motel. \\n Bath need an update asap...</td>\n",
       "      <td>2019/08/19</td>\n",
       "      <td>NaN</td>\n",
       "    </tr>\n",
       "    <tr>\n",
       "      <th>7</th>\n",
       "      <td>Loved the layout of the hotel and the relaxing...</td>\n",
       "      <td>2019/08/19</td>\n",
       "      <td>NaN</td>\n",
       "    </tr>\n",
       "    <tr>\n",
       "      <th>8</th>\n",
       "      <td>My wife and I loved everything about it. It’s ...</td>\n",
       "      <td>2019/08/19</td>\n",
       "      <td>NaN</td>\n",
       "    </tr>\n",
       "    <tr>\n",
       "      <th>9</th>\n",
       "      <td>rooms were very small, was told i had a compli...</td>\n",
       "      <td>2019/08/19</td>\n",
       "      <td>NaN</td>\n",
       "    </tr>\n",
       "  </tbody>\n",
       "</table>\n",
       "</div>"
      ],
      "text/plain": [
       "                                              Review        date     Location\n",
       "0  I was very impressed with the resort.\\n Great ...  2019/08/20    Sebastian\n",
       "1  The rooms were nice the outside needs work als...  2019/08/20  Los Angeles\n",
       "2  Great location! I have stayed at this hotel on...  2019/08/20      Georgia\n",
       "3  The hotel was adequate for my stay. The strips...  2019/08/20          NaN\n",
       "4  Great location, room was large and spacious. P...  2019/08/19  Palm Harbor\n",
       "5  All the options for fun were great! Do wish th...  2019/08/19          NaN\n",
       "6  Old. Musty. Motel. \\n Bath need an update asap...  2019/08/19          NaN\n",
       "7  Loved the layout of the hotel and the relaxing...  2019/08/19          NaN\n",
       "8  My wife and I loved everything about it. It’s ...  2019/08/19          NaN\n",
       "9  rooms were very small, was told i had a compli...  2019/08/19          NaN"
      ]
     },
     "execution_count": 163,
     "metadata": {},
     "output_type": "execute_result"
    }
   ],
   "source": [
    "data.head(10)"
   ]
  },
  {
   "cell_type": "code",
   "execution_count": 164,
   "metadata": {},
   "outputs": [],
   "source": [
    "loc=data['Location'].value_counts()"
   ]
  },
  {
   "cell_type": "code",
   "execution_count": 212,
   "metadata": {},
   "outputs": [
    {
     "data": {
      "text/plain": [
       "(1082,)"
      ]
     },
     "execution_count": 212,
     "metadata": {},
     "output_type": "execute_result"
    }
   ],
   "source": [
    "loc.shape"
   ]
  },
  {
   "cell_type": "code",
   "execution_count": 169,
   "metadata": {},
   "outputs": [
    {
     "data": {
      "text/plain": [
       "Review        55\n",
       "date           0\n",
       "Location    4737\n",
       "dtype: int64"
      ]
     },
     "execution_count": 169,
     "metadata": {},
     "output_type": "execute_result"
    }
   ],
   "source": [
    "# totall null vaues \n",
    "\n",
    "data.isnull().sum()"
   ]
  },
  {
   "cell_type": "code",
   "execution_count": 170,
   "metadata": {
    "scrolled": true
   },
   "outputs": [
    {
     "data": {
      "text/plain": [
       "0       I was very impressed with the resort.\\n Great ...\n",
       "1       The rooms were nice the outside needs work als...\n",
       "2       Great location! I have stayed at this hotel on...\n",
       "3       The hotel was adequate for my stay. The strips...\n",
       "4       Great location, room was large and spacious. P...\n",
       "                              ...                        \n",
       "6443    ·the staff were all so friendly. frank, the ch...\n",
       "6444           ·the internet barely worked or didn't work\n",
       "6445    ·the location was great.\\n \\n \\n \\n \\n ·the be...\n",
       "6446    ·we were early for check in and the staff was ...\n",
       "6447    ·staff, free coffee, location and activities.\\...\n",
       "Name: Review, Length: 6448, dtype: object"
      ]
     },
     "execution_count": 170,
     "metadata": {},
     "output_type": "execute_result"
    }
   ],
   "source": [
    "data['Review']"
   ]
  },
  {
   "cell_type": "markdown",
   "metadata": {},
   "source": [
    "## Keywords to find out Reviewers' Emotions"
   ]
  },
  {
   "cell_type": "code",
   "execution_count": 188,
   "metadata": {},
   "outputs": [],
   "source": [
    "pos=['loved','love','nice','friendly','great','super','helpful','easy','awesome','beautiful','excellent',\n",
    "     'fine','well','good','like','liked','amazing','comfortable']\n",
    "neg=['old','not',\"didn't\",'small','tiny','hard','need','limited','uncomfortable','rude','dirty','no','no','no','no','no','no'\n",
    "     ,'no']\n",
    "# mid=['but','else']\n"
   ]
  },
  {
   "cell_type": "code",
   "execution_count": 190,
   "metadata": {},
   "outputs": [],
   "source": [
    "# obj to str converting \n",
    "data['Review']=data['Review'].astype(str)\n"
   ]
  },
  {
   "cell_type": "code",
   "execution_count": 191,
   "metadata": {},
   "outputs": [
    {
     "name": "stderr",
     "output_type": "stream",
     "text": [
      "C:\\Users\\nkdhe\\anaconda3_2020\\lib\\site-packages\\ipykernel_launcher.py:9: SettingWithCopyWarning: \n",
      "A value is trying to be set on a copy of a slice from a DataFrame\n",
      "\n",
      "See the caveats in the documentation: https://pandas.pydata.org/pandas-docs/stable/user_guide/indexing.html#returning-a-view-versus-a-copy\n",
      "  if __name__ == '__main__':\n"
     ]
    },
    {
     "name": "stdout",
     "output_type": "stream",
     "text": [
      "6448 4366\n"
     ]
    }
   ],
   "source": [
    "# Appending positive review in \"emos\" col.\n",
    "\n",
    "count=0\n",
    "c=0\n",
    "for i in range(data.shape[0]):\n",
    "    st=data['Review'][i].lower()\n",
    "    count=count+1\n",
    "    for j in pos:\n",
    "       # st=data['Review'][i]\n",
    "        if(st.find(j)>=0):\n",
    "            data['emos'][i]=1\n",
    "            c=c+1\n",
    "            break\n",
    "\n",
    "print(count,c)   "
   ]
  },
  {
   "cell_type": "code",
   "execution_count": 193,
   "metadata": {},
   "outputs": [
    {
     "data": {
      "text/plain": [
       "1    4366\n",
       "0    2082\n",
       "Name: emos, dtype: int64"
      ]
     },
     "execution_count": 193,
     "metadata": {},
     "output_type": "execute_result"
    }
   ],
   "source": [
    "data['emos'].value_counts()"
   ]
  },
  {
   "cell_type": "code",
   "execution_count": 127,
   "metadata": {},
   "outputs": [
    {
     "data": {
      "text/plain": [
       "(6448, 3)"
      ]
     },
     "execution_count": 127,
     "metadata": {},
     "output_type": "execute_result"
    }
   ],
   "source": [
    "data.shape"
   ]
  },
  {
   "cell_type": "code",
   "execution_count": 185,
   "metadata": {},
   "outputs": [],
   "source": [
    "data['emos']=[0 for i in range(data.shape[0])]"
   ]
  },
  {
   "cell_type": "code",
   "execution_count": 186,
   "metadata": {},
   "outputs": [
    {
     "data": {
      "text/html": [
       "<div>\n",
       "<style scoped>\n",
       "    .dataframe tbody tr th:only-of-type {\n",
       "        vertical-align: middle;\n",
       "    }\n",
       "\n",
       "    .dataframe tbody tr th {\n",
       "        vertical-align: top;\n",
       "    }\n",
       "\n",
       "    .dataframe thead th {\n",
       "        text-align: right;\n",
       "    }\n",
       "</style>\n",
       "<table border=\"1\" class=\"dataframe\">\n",
       "  <thead>\n",
       "    <tr style=\"text-align: right;\">\n",
       "      <th></th>\n",
       "      <th>Review</th>\n",
       "      <th>date</th>\n",
       "      <th>Location</th>\n",
       "      <th>emos</th>\n",
       "    </tr>\n",
       "  </thead>\n",
       "  <tbody>\n",
       "    <tr>\n",
       "      <th>0</th>\n",
       "      <td>I was very impressed with the resort.\\n Great ...</td>\n",
       "      <td>2019/08/20</td>\n",
       "      <td>Sebastian</td>\n",
       "      <td>0</td>\n",
       "    </tr>\n",
       "    <tr>\n",
       "      <th>1</th>\n",
       "      <td>The rooms were nice the outside needs work als...</td>\n",
       "      <td>2019/08/20</td>\n",
       "      <td>Los Angeles</td>\n",
       "      <td>0</td>\n",
       "    </tr>\n",
       "    <tr>\n",
       "      <th>2</th>\n",
       "      <td>Great location! I have stayed at this hotel on...</td>\n",
       "      <td>2019/08/20</td>\n",
       "      <td>Georgia</td>\n",
       "      <td>0</td>\n",
       "    </tr>\n",
       "    <tr>\n",
       "      <th>3</th>\n",
       "      <td>The hotel was adequate for my stay. The strips...</td>\n",
       "      <td>2019/08/20</td>\n",
       "      <td>NaN</td>\n",
       "      <td>0</td>\n",
       "    </tr>\n",
       "    <tr>\n",
       "      <th>4</th>\n",
       "      <td>Great location, room was large and spacious. P...</td>\n",
       "      <td>2019/08/19</td>\n",
       "      <td>Palm Harbor</td>\n",
       "      <td>0</td>\n",
       "    </tr>\n",
       "  </tbody>\n",
       "</table>\n",
       "</div>"
      ],
      "text/plain": [
       "                                              Review        date     Location  \\\n",
       "0  I was very impressed with the resort.\\n Great ...  2019/08/20    Sebastian   \n",
       "1  The rooms were nice the outside needs work als...  2019/08/20  Los Angeles   \n",
       "2  Great location! I have stayed at this hotel on...  2019/08/20      Georgia   \n",
       "3  The hotel was adequate for my stay. The strips...  2019/08/20          NaN   \n",
       "4  Great location, room was large and spacious. P...  2019/08/19  Palm Harbor   \n",
       "\n",
       "   emos  \n",
       "0     0  \n",
       "1     0  \n",
       "2     0  \n",
       "3     0  \n",
       "4     0  "
      ]
     },
     "execution_count": 186,
     "metadata": {},
     "output_type": "execute_result"
    }
   ],
   "source": [
    "data.head()"
   ]
  },
  {
   "cell_type": "markdown",
   "metadata": {},
   "source": [
    "## New dataset after adding emostion column"
   ]
  },
  {
   "cell_type": "code",
   "execution_count": 194,
   "metadata": {},
   "outputs": [
    {
     "data": {
      "text/html": [
       "<div>\n",
       "<style scoped>\n",
       "    .dataframe tbody tr th:only-of-type {\n",
       "        vertical-align: middle;\n",
       "    }\n",
       "\n",
       "    .dataframe tbody tr th {\n",
       "        vertical-align: top;\n",
       "    }\n",
       "\n",
       "    .dataframe thead th {\n",
       "        text-align: right;\n",
       "    }\n",
       "</style>\n",
       "<table border=\"1\" class=\"dataframe\">\n",
       "  <thead>\n",
       "    <tr style=\"text-align: right;\">\n",
       "      <th></th>\n",
       "      <th>Review</th>\n",
       "      <th>date</th>\n",
       "      <th>Location</th>\n",
       "      <th>emos</th>\n",
       "    </tr>\n",
       "  </thead>\n",
       "  <tbody>\n",
       "    <tr>\n",
       "      <th>0</th>\n",
       "      <td>I was very impressed with the resort.\\n Great ...</td>\n",
       "      <td>2019/08/20</td>\n",
       "      <td>Sebastian</td>\n",
       "      <td>1</td>\n",
       "    </tr>\n",
       "    <tr>\n",
       "      <th>1</th>\n",
       "      <td>The rooms were nice the outside needs work als...</td>\n",
       "      <td>2019/08/20</td>\n",
       "      <td>Los Angeles</td>\n",
       "      <td>1</td>\n",
       "    </tr>\n",
       "    <tr>\n",
       "      <th>2</th>\n",
       "      <td>Great location! I have stayed at this hotel on...</td>\n",
       "      <td>2019/08/20</td>\n",
       "      <td>Georgia</td>\n",
       "      <td>1</td>\n",
       "    </tr>\n",
       "    <tr>\n",
       "      <th>3</th>\n",
       "      <td>The hotel was adequate for my stay. The strips...</td>\n",
       "      <td>2019/08/20</td>\n",
       "      <td>NaN</td>\n",
       "      <td>1</td>\n",
       "    </tr>\n",
       "    <tr>\n",
       "      <th>4</th>\n",
       "      <td>Great location, room was large and spacious. P...</td>\n",
       "      <td>2019/08/19</td>\n",
       "      <td>Palm Harbor</td>\n",
       "      <td>1</td>\n",
       "    </tr>\n",
       "    <tr>\n",
       "      <th>5</th>\n",
       "      <td>All the options for fun were great! Do wish th...</td>\n",
       "      <td>2019/08/19</td>\n",
       "      <td>NaN</td>\n",
       "      <td>1</td>\n",
       "    </tr>\n",
       "    <tr>\n",
       "      <th>6</th>\n",
       "      <td>Old. Musty. Motel. \\n Bath need an update asap...</td>\n",
       "      <td>2019/08/19</td>\n",
       "      <td>NaN</td>\n",
       "      <td>0</td>\n",
       "    </tr>\n",
       "    <tr>\n",
       "      <th>7</th>\n",
       "      <td>Loved the layout of the hotel and the relaxing...</td>\n",
       "      <td>2019/08/19</td>\n",
       "      <td>NaN</td>\n",
       "      <td>1</td>\n",
       "    </tr>\n",
       "    <tr>\n",
       "      <th>8</th>\n",
       "      <td>My wife and I loved everything about it. It’s ...</td>\n",
       "      <td>2019/08/19</td>\n",
       "      <td>NaN</td>\n",
       "      <td>1</td>\n",
       "    </tr>\n",
       "    <tr>\n",
       "      <th>9</th>\n",
       "      <td>rooms were very small, was told i had a compli...</td>\n",
       "      <td>2019/08/19</td>\n",
       "      <td>NaN</td>\n",
       "      <td>0</td>\n",
       "    </tr>\n",
       "  </tbody>\n",
       "</table>\n",
       "</div>"
      ],
      "text/plain": [
       "                                              Review        date     Location  \\\n",
       "0  I was very impressed with the resort.\\n Great ...  2019/08/20    Sebastian   \n",
       "1  The rooms were nice the outside needs work als...  2019/08/20  Los Angeles   \n",
       "2  Great location! I have stayed at this hotel on...  2019/08/20      Georgia   \n",
       "3  The hotel was adequate for my stay. The strips...  2019/08/20          NaN   \n",
       "4  Great location, room was large and spacious. P...  2019/08/19  Palm Harbor   \n",
       "5  All the options for fun were great! Do wish th...  2019/08/19          NaN   \n",
       "6  Old. Musty. Motel. \\n Bath need an update asap...  2019/08/19          NaN   \n",
       "7  Loved the layout of the hotel and the relaxing...  2019/08/19          NaN   \n",
       "8  My wife and I loved everything about it. It’s ...  2019/08/19          NaN   \n",
       "9  rooms were very small, was told i had a compli...  2019/08/19          NaN   \n",
       "\n",
       "   emos  \n",
       "0     1  \n",
       "1     1  \n",
       "2     1  \n",
       "3     1  \n",
       "4     1  \n",
       "5     1  \n",
       "6     0  \n",
       "7     1  \n",
       "8     1  \n",
       "9     0  "
      ]
     },
     "execution_count": 194,
     "metadata": {},
     "output_type": "execute_result"
    }
   ],
   "source": [
    "data.head(10)"
   ]
  },
  {
   "cell_type": "code",
   "execution_count": 197,
   "metadata": {},
   "outputs": [],
   "source": [
    "# Handling data and time\n",
    "\n",
    "data[\"date\"] = pd.to_datetime(data['date'])\n",
    "\n",
    "data[\"year\"] = data['date'].dt.year\n",
    "\n",
    "data[\"month\"] = data['date'].dt.month\n",
    "data['day']= data['date'].dt.day\n"
   ]
  },
  {
   "cell_type": "code",
   "execution_count": 199,
   "metadata": {},
   "outputs": [
    {
     "data": {
      "text/html": [
       "<div>\n",
       "<style scoped>\n",
       "    .dataframe tbody tr th:only-of-type {\n",
       "        vertical-align: middle;\n",
       "    }\n",
       "\n",
       "    .dataframe tbody tr th {\n",
       "        vertical-align: top;\n",
       "    }\n",
       "\n",
       "    .dataframe thead th {\n",
       "        text-align: right;\n",
       "    }\n",
       "</style>\n",
       "<table border=\"1\" class=\"dataframe\">\n",
       "  <thead>\n",
       "    <tr style=\"text-align: right;\">\n",
       "      <th></th>\n",
       "      <th>Review</th>\n",
       "      <th>date</th>\n",
       "      <th>Location</th>\n",
       "      <th>emos</th>\n",
       "      <th>year</th>\n",
       "      <th>month</th>\n",
       "      <th>day</th>\n",
       "    </tr>\n",
       "  </thead>\n",
       "  <tbody>\n",
       "    <tr>\n",
       "      <th>0</th>\n",
       "      <td>I was very impressed with the resort.\\n Great ...</td>\n",
       "      <td>2019-08-20</td>\n",
       "      <td>Sebastian</td>\n",
       "      <td>1</td>\n",
       "      <td>2019</td>\n",
       "      <td>8</td>\n",
       "      <td>20</td>\n",
       "    </tr>\n",
       "    <tr>\n",
       "      <th>1</th>\n",
       "      <td>The rooms were nice the outside needs work als...</td>\n",
       "      <td>2019-08-20</td>\n",
       "      <td>Los Angeles</td>\n",
       "      <td>1</td>\n",
       "      <td>2019</td>\n",
       "      <td>8</td>\n",
       "      <td>20</td>\n",
       "    </tr>\n",
       "    <tr>\n",
       "      <th>2</th>\n",
       "      <td>Great location! I have stayed at this hotel on...</td>\n",
       "      <td>2019-08-20</td>\n",
       "      <td>Georgia</td>\n",
       "      <td>1</td>\n",
       "      <td>2019</td>\n",
       "      <td>8</td>\n",
       "      <td>20</td>\n",
       "    </tr>\n",
       "    <tr>\n",
       "      <th>3</th>\n",
       "      <td>The hotel was adequate for my stay. The strips...</td>\n",
       "      <td>2019-08-20</td>\n",
       "      <td>NaN</td>\n",
       "      <td>1</td>\n",
       "      <td>2019</td>\n",
       "      <td>8</td>\n",
       "      <td>20</td>\n",
       "    </tr>\n",
       "    <tr>\n",
       "      <th>4</th>\n",
       "      <td>Great location, room was large and spacious. P...</td>\n",
       "      <td>2019-08-19</td>\n",
       "      <td>Palm Harbor</td>\n",
       "      <td>1</td>\n",
       "      <td>2019</td>\n",
       "      <td>8</td>\n",
       "      <td>19</td>\n",
       "    </tr>\n",
       "    <tr>\n",
       "      <th>5</th>\n",
       "      <td>All the options for fun were great! Do wish th...</td>\n",
       "      <td>2019-08-19</td>\n",
       "      <td>NaN</td>\n",
       "      <td>1</td>\n",
       "      <td>2019</td>\n",
       "      <td>8</td>\n",
       "      <td>19</td>\n",
       "    </tr>\n",
       "    <tr>\n",
       "      <th>6</th>\n",
       "      <td>Old. Musty. Motel. \\n Bath need an update asap...</td>\n",
       "      <td>2019-08-19</td>\n",
       "      <td>NaN</td>\n",
       "      <td>0</td>\n",
       "      <td>2019</td>\n",
       "      <td>8</td>\n",
       "      <td>19</td>\n",
       "    </tr>\n",
       "    <tr>\n",
       "      <th>7</th>\n",
       "      <td>Loved the layout of the hotel and the relaxing...</td>\n",
       "      <td>2019-08-19</td>\n",
       "      <td>NaN</td>\n",
       "      <td>1</td>\n",
       "      <td>2019</td>\n",
       "      <td>8</td>\n",
       "      <td>19</td>\n",
       "    </tr>\n",
       "    <tr>\n",
       "      <th>8</th>\n",
       "      <td>My wife and I loved everything about it. It’s ...</td>\n",
       "      <td>2019-08-19</td>\n",
       "      <td>NaN</td>\n",
       "      <td>1</td>\n",
       "      <td>2019</td>\n",
       "      <td>8</td>\n",
       "      <td>19</td>\n",
       "    </tr>\n",
       "    <tr>\n",
       "      <th>9</th>\n",
       "      <td>rooms were very small, was told i had a compli...</td>\n",
       "      <td>2019-08-19</td>\n",
       "      <td>NaN</td>\n",
       "      <td>0</td>\n",
       "      <td>2019</td>\n",
       "      <td>8</td>\n",
       "      <td>19</td>\n",
       "    </tr>\n",
       "    <tr>\n",
       "      <th>10</th>\n",
       "      <td>Very clean and friendly and I love the locatio...</td>\n",
       "      <td>2019-08-19</td>\n",
       "      <td>California</td>\n",
       "      <td>1</td>\n",
       "      <td>2019</td>\n",
       "      <td>8</td>\n",
       "      <td>19</td>\n",
       "    </tr>\n",
       "    <tr>\n",
       "      <th>11</th>\n",
       "      <td>Nice and comfortable good position near the st...</td>\n",
       "      <td>2019-08-19</td>\n",
       "      <td>NaN</td>\n",
       "      <td>1</td>\n",
       "      <td>2019</td>\n",
       "      <td>8</td>\n",
       "      <td>19</td>\n",
       "    </tr>\n",
       "    <tr>\n",
       "      <th>12</th>\n",
       "      <td>Location was great, lobby area was nice but ro...</td>\n",
       "      <td>2019-08-19</td>\n",
       "      <td>NaN</td>\n",
       "      <td>1</td>\n",
       "      <td>2019</td>\n",
       "      <td>8</td>\n",
       "      <td>19</td>\n",
       "    </tr>\n",
       "    <tr>\n",
       "      <th>13</th>\n",
       "      <td>Quiet and at a great location. \\n Good control...</td>\n",
       "      <td>2019-08-19</td>\n",
       "      <td>NaN</td>\n",
       "      <td>1</td>\n",
       "      <td>2019</td>\n",
       "      <td>8</td>\n",
       "      <td>19</td>\n",
       "    </tr>\n",
       "    <tr>\n",
       "      <th>14</th>\n",
       "      <td>El servicio super amables no todos en el buffe...</td>\n",
       "      <td>2019-08-19</td>\n",
       "      <td>NaN</td>\n",
       "      <td>1</td>\n",
       "      <td>2019</td>\n",
       "      <td>8</td>\n",
       "      <td>19</td>\n",
       "    </tr>\n",
       "    <tr>\n",
       "      <th>15</th>\n",
       "      <td>Very nice and quiet and clean rooms. \\n We wil...</td>\n",
       "      <td>2019-08-19</td>\n",
       "      <td>Redding</td>\n",
       "      <td>1</td>\n",
       "      <td>2019</td>\n",
       "      <td>8</td>\n",
       "      <td>19</td>\n",
       "    </tr>\n",
       "    <tr>\n",
       "      <th>16</th>\n",
       "      <td>Rooms were clean, updated, and beds were comfo...</td>\n",
       "      <td>2019-08-19</td>\n",
       "      <td>NaN</td>\n",
       "      <td>1</td>\n",
       "      <td>2019</td>\n",
       "      <td>8</td>\n",
       "      <td>19</td>\n",
       "    </tr>\n",
       "    <tr>\n",
       "      <th>17</th>\n",
       "      <td>The staff was exceptionally helpful and the pr...</td>\n",
       "      <td>2019-08-19</td>\n",
       "      <td>NaN</td>\n",
       "      <td>1</td>\n",
       "      <td>2019</td>\n",
       "      <td>8</td>\n",
       "      <td>19</td>\n",
       "    </tr>\n",
       "    <tr>\n",
       "      <th>18</th>\n",
       "      <td>It was great for what we needed, a place to sl...</td>\n",
       "      <td>2019-08-19</td>\n",
       "      <td>NaN</td>\n",
       "      <td>1</td>\n",
       "      <td>2019</td>\n",
       "      <td>8</td>\n",
       "      <td>19</td>\n",
       "    </tr>\n",
       "    <tr>\n",
       "      <th>19</th>\n",
       "      <td>rooms were clean. we had two room and were abl...</td>\n",
       "      <td>2019-08-19</td>\n",
       "      <td>NaN</td>\n",
       "      <td>0</td>\n",
       "      <td>2019</td>\n",
       "      <td>8</td>\n",
       "      <td>19</td>\n",
       "    </tr>\n",
       "  </tbody>\n",
       "</table>\n",
       "</div>"
      ],
      "text/plain": [
       "                                               Review       date     Location  \\\n",
       "0   I was very impressed with the resort.\\n Great ... 2019-08-20    Sebastian   \n",
       "1   The rooms were nice the outside needs work als... 2019-08-20  Los Angeles   \n",
       "2   Great location! I have stayed at this hotel on... 2019-08-20      Georgia   \n",
       "3   The hotel was adequate for my stay. The strips... 2019-08-20          NaN   \n",
       "4   Great location, room was large and spacious. P... 2019-08-19  Palm Harbor   \n",
       "5   All the options for fun were great! Do wish th... 2019-08-19          NaN   \n",
       "6   Old. Musty. Motel. \\n Bath need an update asap... 2019-08-19          NaN   \n",
       "7   Loved the layout of the hotel and the relaxing... 2019-08-19          NaN   \n",
       "8   My wife and I loved everything about it. It’s ... 2019-08-19          NaN   \n",
       "9   rooms were very small, was told i had a compli... 2019-08-19          NaN   \n",
       "10  Very clean and friendly and I love the locatio... 2019-08-19   California   \n",
       "11  Nice and comfortable good position near the st... 2019-08-19          NaN   \n",
       "12  Location was great, lobby area was nice but ro... 2019-08-19          NaN   \n",
       "13  Quiet and at a great location. \\n Good control... 2019-08-19          NaN   \n",
       "14  El servicio super amables no todos en el buffe... 2019-08-19          NaN   \n",
       "15  Very nice and quiet and clean rooms. \\n We wil... 2019-08-19      Redding   \n",
       "16  Rooms were clean, updated, and beds were comfo... 2019-08-19          NaN   \n",
       "17  The staff was exceptionally helpful and the pr... 2019-08-19          NaN   \n",
       "18  It was great for what we needed, a place to sl... 2019-08-19          NaN   \n",
       "19  rooms were clean. we had two room and were abl... 2019-08-19          NaN   \n",
       "\n",
       "    emos  year  month  day  \n",
       "0      1  2019      8   20  \n",
       "1      1  2019      8   20  \n",
       "2      1  2019      8   20  \n",
       "3      1  2019      8   20  \n",
       "4      1  2019      8   19  \n",
       "5      1  2019      8   19  \n",
       "6      0  2019      8   19  \n",
       "7      1  2019      8   19  \n",
       "8      1  2019      8   19  \n",
       "9      0  2019      8   19  \n",
       "10     1  2019      8   19  \n",
       "11     1  2019      8   19  \n",
       "12     1  2019      8   19  \n",
       "13     1  2019      8   19  \n",
       "14     1  2019      8   19  \n",
       "15     1  2019      8   19  \n",
       "16     1  2019      8   19  \n",
       "17     1  2019      8   19  \n",
       "18     1  2019      8   19  \n",
       "19     0  2019      8   19  "
      ]
     },
     "execution_count": 199,
     "metadata": {},
     "output_type": "execute_result"
    }
   ],
   "source": [
    "data.head(20)"
   ]
  },
  {
   "cell_type": "markdown",
   "metadata": {},
   "source": [
    "## Different insights from data"
   ]
  },
  {
   "cell_type": "code",
   "execution_count": 200,
   "metadata": {
    "scrolled": true
   },
   "outputs": [
    {
     "data": {
      "text/plain": [
       "2019    3856\n",
       "2018    2592\n",
       "Name: year, dtype: int64"
      ]
     },
     "execution_count": 200,
     "metadata": {},
     "output_type": "execute_result"
    }
   ],
   "source": [
    "# checking reviews based on dates\n",
    "data['year'].value_counts()"
   ]
  },
  {
   "cell_type": "code",
   "execution_count": 268,
   "metadata": {},
   "outputs": [
    {
     "data": {
      "text/plain": [
       "<matplotlib.axes._subplots.AxesSubplot at 0x22215412648>"
      ]
     },
     "execution_count": 268,
     "metadata": {},
     "output_type": "execute_result"
    },
    {
     "data": {
      "image/png": "[encoded data removed]",
      "text/plain": [
       "<Figure size 432x288 with 1 Axes>"
      ]
     },
     "metadata": {
      "needs_background": "light"
     },
     "output_type": "display_data"
    }
   ],
   "source": [
    "sns.distplot(data['month'].value_counts())"
   ]
  },
  {
   "cell_type": "code",
   "execution_count": 317,
   "metadata": {},
   "outputs": [
    {
     "data": {
      "text/plain": [
       "Text(0.5, 1.0, 'Months vs Years')"
      ]
     },
     "execution_count": 317,
     "metadata": {},
     "output_type": "execute_result"
    },
    {
     "data": {
      "image/png": "[encoded data removed]",
      "text/plain": [
       "<Figure size 432x288 with 1 Axes>"
      ]
     },
     "metadata": {
      "needs_background": "light"
     },
     "output_type": "display_data"
    }
   ],
   "source": [
    "plt.scatter(data['day'],data['year'],)\n",
    "plt.title('Months vs Years')"
   ]
  },
  {
   "cell_type": "code",
   "execution_count": 269,
   "metadata": {
    "scrolled": false
   },
   "outputs": [
    {
     "data": {
      "text/plain": [
       "8     728\n",
       "12    630\n",
       "3     605\n",
       "4     593\n",
       "7     549\n",
       "5     526\n",
       "10    524\n",
       "11    519\n",
       "1     513\n",
       "9     481\n",
       "2     418\n",
       "6     362\n",
       "Name: month, dtype: int64"
      ]
     },
     "execution_count": 269,
     "metadata": {},
     "output_type": "execute_result"
    }
   ],
   "source": [
    "data['month'].value_counts()"
   ]
  },
  {
   "cell_type": "code",
   "execution_count": 311,
   "metadata": {},
   "outputs": [
    {
     "data": {
      "text/plain": [
       "1     1083\n",
       "26     211\n",
       "4      209\n",
       "17     197\n",
       "13     196\n",
       "14     196\n",
       "2      196\n",
       "18     195\n",
       "15     194\n",
       "5      193\n",
       "12     190\n",
       "9      187\n",
       "20     186\n",
       "10     184\n",
       "25     182\n",
       "11     182\n",
       "21     180\n",
       "3      178\n",
       "27     174\n",
       "22     173\n",
       "8      173\n",
       "6      172\n",
       "23     172\n",
       "7      171\n",
       "30     168\n",
       "19     168\n",
       "24     163\n",
       "28     159\n",
       "29     155\n",
       "16     145\n",
       "31     116\n",
       "Name: day, dtype: int64"
      ]
     },
     "execution_count": 311,
     "metadata": {},
     "output_type": "execute_result"
    }
   ],
   "source": [
    "data['day'].value_counts()\n",
    "# count=0\n",
    "\n",
    "# for i in range (data.shape[0]):\n",
    "#     if(data['month'][i]==8 and data['year'][i]==2018 and data['emos'][i]==1):\n",
    "        \n",
    "#         count=count+1\n",
    "        \n",
    "# print('max customers visited ',count)\n"
   ]
  },
  {
   "cell_type": "code",
   "execution_count": 205,
   "metadata": {},
   "outputs": [
    {
     "data": {
      "text/plain": [
       "United States of America    116\n",
       "New York                     34\n",
       "California                   19\n",
       "San Jose                     19\n",
       "Canada                       16\n",
       "                           ... \n",
       "Auburn maine                  1\n",
       "Dorado, PR                    1\n",
       "sagamore beach ma             1\n",
       "Louisville Kentucky           1\n",
       "Loves Park, IL                1\n",
       "Name: Location, Length: 1082, dtype: int64"
      ]
     },
     "execution_count": 205,
     "metadata": {},
     "output_type": "execute_result"
    }
   ],
   "source": [
    "data['Location'].value_counts()"
   ]
  },
  {
   "cell_type": "code",
   "execution_count": 208,
   "metadata": {},
   "outputs": [
    {
     "data": {
      "text/plain": [
       "<pandas.core.groupby.generic.DataFrameGroupBy object at 0x000002220EECEE08>"
      ]
     },
     "execution_count": 208,
     "metadata": {},
     "output_type": "execute_result"
    }
   ],
   "source": [
    "# groupby usa and emos\n",
    "data.groupby(['Location','emos'])"
   ]
  },
  {
   "cell_type": "code",
   "execution_count": 211,
   "metadata": {},
   "outputs": [
    {
     "name": "stdout",
     "output_type": "stream",
     "text": [
      "happy customer in USA  71\n",
      "unhappy customer in USA  45\n"
     ]
    }
   ],
   "source": [
    "count=0\n",
    "neg_count=0\n",
    "for i in range (data.shape[0]):\n",
    "    if(data['Location'][i]=='United States of America' and data['emos'][i]==1):\n",
    "        count=count+1\n",
    "for i in range (data.shape[0]):\n",
    "    if(data['Location'][i]=='United States of America' and data['emos'][i]==0):\n",
    "        neg_count=neg_count+1        \n",
    "print(\"happy customer in USA \",count) \n",
    "print(\"unhappy customer in USA \",neg_count)    "
   ]
  },
  {
   "cell_type": "code",
   "execution_count": 266,
   "metadata": {},
   "outputs": [
    {
     "data": {
      "text/plain": [
       "0.7894736842105263"
      ]
     },
     "execution_count": 266,
     "metadata": {},
     "output_type": "execute_result"
    }
   ],
   "source": [
    "15/19"
   ]
  },
  {
   "cell_type": "code",
   "execution_count": 213,
   "metadata": {},
   "outputs": [
    {
     "name": "stdout",
     "output_type": "stream",
     "text": [
      "happy customer in USA  22\n",
      "unhappy customer in USA  12\n"
     ]
    }
   ],
   "source": [
    "count=0\n",
    "neg_count=0\n",
    "for i in range (data.shape[0]):\n",
    "    if(data['Location'][i]=='New York' and data['emos'][i]==1):\n",
    "        count=count+1\n",
    "for i in range (data.shape[0]):\n",
    "    if(data['Location'][i]=='New York' and data['emos'][i]==0):\n",
    "        neg_count=neg_count+1        \n",
    "print(\"happy customer in USA \",count) \n",
    "print(\"unhappy customer in USA \",neg_count)"
   ]
  },
  {
   "cell_type": "code",
   "execution_count": 214,
   "metadata": {},
   "outputs": [
    {
     "name": "stdout",
     "output_type": "stream",
     "text": [
      "happy customer in USA  15\n",
      "unhappy customer in USA  4\n"
     ]
    }
   ],
   "source": [
    "count=0\n",
    "neg_count=0\n",
    "for i in range (data.shape[0]):\n",
    "    if(data['Location'][i]=='California' and data['emos'][i]==1):\n",
    "        count=count+1\n",
    "for i in range (data.shape[0]):\n",
    "    if(data['Location'][i]=='California' and data['emos'][i]==0):\n",
    "        neg_count=neg_count+1        \n",
    "print(\"happy customer in USA \",count) \n",
    "print(\"unhappy customer in USA \",neg_count)"
   ]
  },
  {
   "cell_type": "code",
   "execution_count": 215,
   "metadata": {},
   "outputs": [
    {
     "name": "stdout",
     "output_type": "stream",
     "text": [
      "happy customer in USA  17\n",
      "unhappy customer in USA  2\n"
     ]
    }
   ],
   "source": [
    "count=0\n",
    "neg_count=0\n",
    "for i in range (data.shape[0]):\n",
    "    if(data['Location'][i]=='San Jose' and data['emos'][i]==1):\n",
    "        count=count+1\n",
    "for i in range (data.shape[0]):\n",
    "    if(data['Location'][i]=='San Jose' and data['emos'][i]==0):\n",
    "        neg_count=neg_count+1        \n",
    "print(\"happy customer in USA \",count) \n",
    "print(\"unhappy customer in USA \",neg_count)"
   ]
  },
  {
   "cell_type": "code",
   "execution_count": 249,
   "metadata": {},
   "outputs": [],
   "source": [
    "def ems(name):\n",
    "    count=0\n",
    "    neg_count=0\n",
    "    for i in range (data.shape[0]):\n",
    "        if(data['Location'][i]==name and data['emos'][i]==1):\n",
    "            count=count+1\n",
    "    for i in range (data.shape[0]):\n",
    "        if(data['Location'][i]==name and data['emos'][i]==0):\n",
    "            neg_count=neg_count+1        \n",
    "    print(\"happy customer in USA \",count) \n",
    "    print(\"unhappy customer in USA \",neg_count)"
   ]
  },
  {
   "cell_type": "code",
   "execution_count": 220,
   "metadata": {},
   "outputs": [
    {
     "data": {
      "text/plain": [
       "United States of America    116\n",
       "New York                     34\n",
       "California                   19\n",
       "San Jose                     19\n",
       "Canada                       16\n",
       "Florida                      16\n",
       "United Kingdom               14\n",
       "New York, NY                 13\n",
       "Orlando                      12\n",
       "Seattle                      12\n",
       "Name: Location, dtype: int64"
      ]
     },
     "execution_count": 220,
     "metadata": {},
     "output_type": "execute_result"
    }
   ],
   "source": [
    "loc.head(10)"
   ]
  },
  {
   "cell_type": "code",
   "execution_count": 224,
   "metadata": {},
   "outputs": [],
   "source": [
    "# for i in range(100):\n",
    "#     ems(data['Location'][i])\n",
    "    "
   ]
  },
  {
   "cell_type": "code",
   "execution_count": null,
   "metadata": {},
   "outputs": [],
   "source": []
  },
  {
   "cell_type": "code",
   "execution_count": 226,
   "metadata": {},
   "outputs": [
    {
     "name": "stdout",
     "output_type": "stream",
     "text": [
      "in 2019 happy customer in USA  2621\n",
      "in 2019 unhappy customer in USA  1235\n"
     ]
    }
   ],
   "source": [
    "count=0\n",
    "neg_count=0\n",
    "for i in range (data.shape[0]):\n",
    "    if(data['year'][i]==2019 and data['emos'][i]==1):\n",
    "        count=count+1\n",
    "for i in range (data.shape[0]):\n",
    "    if(data['year'][i]==2019 and data['emos'][i]==0):\n",
    "        neg_count=neg_count+1        \n",
    "print(\"in 2019 happy customer in USA \",count) \n",
    "print(\"in 2019 unhappy customer in USA \",neg_count)"
   ]
  },
  {
   "cell_type": "code",
   "execution_count": 247,
   "metadata": {},
   "outputs": [
    {
     "data": {
      "text/plain": [
       "0.6797199170124482"
      ]
     },
     "execution_count": 247,
     "metadata": {},
     "output_type": "execute_result"
    }
   ],
   "source": [
    "2621 /(2621+1235)"
   ]
  },
  {
   "cell_type": "code",
   "execution_count": 228,
   "metadata": {},
   "outputs": [
    {
     "name": "stdout",
     "output_type": "stream",
     "text": [
      "in 2018 happy customer in USA  1745\n",
      "in 2018 unhappy customer in USA  847\n"
     ]
    }
   ],
   "source": [
    "count=0\n",
    "neg_count=0\n",
    "for i in range (data.shape[0]):\n",
    "    if(data['year'][i]==2018 and data['emos'][i]==1):\n",
    "        count=count+1\n",
    "for i in range (data.shape[0]):\n",
    "    if(data['year'][i]==2018 and data['emos'][i]==0):\n",
    "        neg_count=neg_count+1        \n",
    "print(\"in 2018 happy customer in USA \",count) \n",
    "print(\"in 2018 unhappy customer in USA \",neg_count)"
   ]
  },
  {
   "cell_type": "code",
   "execution_count": 246,
   "metadata": {},
   "outputs": [
    {
     "data": {
      "text/plain": [
       "67.32253086419753"
      ]
     },
     "execution_count": 246,
     "metadata": {},
     "output_type": "execute_result"
    }
   ],
   "source": [
    "1745/(1745+847) *100\n"
   ]
  },
  {
   "cell_type": "code",
   "execution_count": 234,
   "metadata": {},
   "outputs": [
    {
     "data": {
      "text/plain": [
       "<matplotlib.axes._subplots.AxesSubplot at 0x2220e9ca688>"
      ]
     },
     "execution_count": 234,
     "metadata": {},
     "output_type": "execute_result"
    },
    {
     "data": {
      "image/png": "[encoded data removed]",
      "text/plain": [
       "<Figure size 432x288 with 1 Axes>"
      ]
     },
     "metadata": {
      "needs_background": "light"
     },
     "output_type": "display_data"
    }
   ],
   "source": [
    "sns.countplot(x=data['emos'])"
   ]
  },
  {
   "cell_type": "code",
   "execution_count": null,
   "metadata": {},
   "outputs": [],
   "source": []
  },
  {
   "cell_type": "code",
   "execution_count": 240,
   "metadata": {},
   "outputs": [
    {
     "data": {
      "text/plain": [
       "(6448, 7)"
      ]
     },
     "execution_count": 240,
     "metadata": {},
     "output_type": "execute_result"
    }
   ],
   "source": [
    "data.shape"
   ]
  },
  {
   "cell_type": "code",
   "execution_count": 241,
   "metadata": {},
   "outputs": [
    {
     "data": {
      "text/plain": [
       "67.71091811414392"
      ]
     },
     "execution_count": 241,
     "metadata": {},
     "output_type": "execute_result"
    }
   ],
   "source": [
    "4366/6448 *100"
   ]
  },
  {
   "cell_type": "code",
   "execution_count": 242,
   "metadata": {},
   "outputs": [
    {
     "data": {
      "text/plain": [
       "2082"
      ]
     },
     "execution_count": 242,
     "metadata": {},
     "output_type": "execute_result"
    }
   ],
   "source": [
    "6448-4366\n"
   ]
  },
  {
   "cell_type": "code",
   "execution_count": 243,
   "metadata": {},
   "outputs": [
    {
     "data": {
      "text/plain": [
       "0.3228908188585608"
      ]
     },
     "execution_count": 243,
     "metadata": {},
     "output_type": "execute_result"
    }
   ],
   "source": [
    "2082/6448"
   ]
  },
  {
   "cell_type": "code",
   "execution_count": 306,
   "metadata": {
    "scrolled": true
   },
   "outputs": [
    {
     "data": {
      "text/plain": [
       "142"
      ]
     },
     "execution_count": 306,
     "metadata": {},
     "output_type": "execute_result"
    }
   ],
   "source": [
    "438-296"
   ]
  },
  {
   "cell_type": "code",
   "execution_count": 310,
   "metadata": {},
   "outputs": [
    {
     "data": {
      "text/plain": [
       "Switzerland                  1\n",
       "Long Island NY               1\n",
       "San Jose ca                  1\n",
       "Des Moines, IA               1\n",
       "san lorenzo                  1\n",
       "Falkirk,GB.                  1\n",
       "Catania, it                  1\n",
       "BOSTON                       1\n",
       "Coatbridge Scotland          1\n",
       "Guanajuato, México.          1\n",
       "Hoboken                      1\n",
       "Bellevue, WA                 1\n",
       "Prescott Valley, AZ          1\n",
       "Sacramento, California       1\n",
       "Howard Beach                 1\n",
       "Los Angeles, ca              1\n",
       "Staffordshire                1\n",
       "Nashville, TN                1\n",
       "Stl, mo                      1\n",
       "Avon, us                     1\n",
       "Plano TX                     1\n",
       "Bronx,new york               1\n",
       "Lake alfred, us              1\n",
       "Port St. Lucie               1\n",
       "Monterrey                    1\n",
       "Lockport NY                  1\n",
       "Champaign,IL                 1\n",
       "Antioch ca                   1\n",
       "Richmond Va                  1\n",
       "Carluke South lanarkshire    1\n",
       "Livingston                   1\n",
       "Rochester NY                 1\n",
       "Petaluma, Ca.                1\n",
       "Scotts Valley                1\n",
       "St Barth                     1\n",
       "Atlanta Georgis              1\n",
       "Cambridge, England           1\n",
       "Idaho                        1\n",
       "Terre Haute, IN USA          1\n",
       "savasse France               1\n",
       "Biella IT                    1\n",
       "atlantic city                1\n",
       "Lee's Summit                 1\n",
       "San Juan, PR                 1\n",
       "La quinta                    1\n",
       "Auburn maine                 1\n",
       "Dorado, PR                   1\n",
       "sagamore beach ma            1\n",
       "Louisville Kentucky          1\n",
       "Loves Park, IL               1\n",
       "Name: Location, dtype: int64"
      ]
     },
     "execution_count": 310,
     "metadata": {},
     "output_type": "execute_result"
    }
   ],
   "source": [
    "loc.tail(50)"
   ]
  },
  {
   "cell_type": "code",
   "execution_count": 319,
   "metadata": {},
   "outputs": [
    {
     "data": {
      "text/plain": [
       "[<matplotlib.lines.Line2D at 0x222166b0c08>]"
      ]
     },
     "execution_count": 319,
     "metadata": {},
     "output_type": "execute_result"
    },
    {
     "data": {
      "image/png": "[encoded data removed]",
      "text/plain": [
       "<Figure size 432x288 with 1 Axes>"
      ]
     },
     "metadata": {
      "needs_background": "light"
     },
     "output_type": "display_data"
    }
   ],
   "source": [
    "plt.plot(data['day'],data['emos'])"
   ]
  },
  {
   "cell_type": "code",
   "execution_count": 321,
   "metadata": {},
   "outputs": [
    {
     "data": {
      "text/plain": [
       "<matplotlib.axes._subplots.AxesSubplot at 0x22216842148>"
      ]
     },
     "execution_count": 321,
     "metadata": {},
     "output_type": "execute_result"
    },
    {
     "data": {
      "image/png": "[encoded data removed]",
      "text/plain": [
       "<Figure size 432x288 with 1 Axes>"
      ]
     },
     "metadata": {
      "needs_background": "light"
     },
     "output_type": "display_data"
    }
   ],
   "source": [
    "sns.countplot(x='emos',hue='month',data=data)"
   ]
  },
  {
   "cell_type": "code",
   "execution_count": null,
   "metadata": {},
   "outputs": [],
   "source": []
  }
 ],
 "metadata": {
  "kernelspec": {
   "display_name": "Python 3",
   "language": "python",
   "name": "python3"
  },
  "language_info": {
   "codemirror_mode": {
    "name": "ipython",
    "version": 3
   },
   "file_extension": ".py",
   "mimetype": "text/x-python",
   "name": "python",
   "nbconvert_exporter": "python",
   "pygments_lexer": "ipython3",
   "version": "3.7.6"
  }
 },
 "nbformat": 4,
 "nbformat_minor": 4
}
