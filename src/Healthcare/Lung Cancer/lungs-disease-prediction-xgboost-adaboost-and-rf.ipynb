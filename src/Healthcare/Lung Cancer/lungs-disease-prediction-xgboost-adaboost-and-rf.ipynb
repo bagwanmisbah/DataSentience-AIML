{
 "cells": [
  {
   "cell_type": "code",
   "execution_count": 1,
   "id": "92ce3ec7",
   "metadata": {
    "execution": {
     "iopub.execute_input": "2024-02-22T16:07:11.629653Z",
     "iopub.status.busy": "2024-02-22T16:07:11.629192Z",
     "iopub.status.idle": "2024-02-22T16:07:14.765007Z",
     "shell.execute_reply": "2024-02-22T16:07:14.763626Z"
    },
    "papermill": {
     "duration": 3.153359,
     "end_time": "2024-02-22T16:07:14.767966",
     "exception": false,
     "start_time": "2024-02-22T16:07:11.614607",
     "status": "completed"
    },
    "tags": []
   },
   "outputs": [],
   "source": [
    "import pandas as pd\n",
    "import numpy as np\n",
    "import seaborn as sns\n",
    "import matplotlib.pyplot as plt\n",
    "%matplotlib inline"
   ]
  },
  {
   "cell_type": "code",
   "execution_count": 2,
   "id": "591e8edd",
   "metadata": {
    "execution": {
     "iopub.execute_input": "2024-02-22T16:07:14.793542Z",
     "iopub.status.busy": "2024-02-22T16:07:14.792946Z",
     "iopub.status.idle": "2024-02-22T16:07:14.831909Z",
     "shell.execute_reply": "2024-02-22T16:07:14.830503Z"
    },
    "papermill": {
     "duration": 0.055371,
     "end_time": "2024-02-22T16:07:14.834951",
     "exception": false,
     "start_time": "2024-02-22T16:07:14.779580",
     "status": "completed"
    },
    "tags": []
   },
   "outputs": [],
   "source": [
    "df=pd.read_csv('/kaggle/input/cancer-patients-and-air-pollution-a-new-link/cancer patient data sets.csv')"
   ]
  },
  {
   "cell_type": "code",
   "execution_count": 3,
   "id": "cfa200ed",
   "metadata": {
    "execution": {
     "iopub.execute_input": "2024-02-22T16:07:14.860139Z",
     "iopub.status.busy": "2024-02-22T16:07:14.859679Z",
     "iopub.status.idle": "2024-02-22T16:07:14.913465Z",
     "shell.execute_reply": "2024-02-22T16:07:14.912088Z"
    },
    "papermill": {
     "duration": 0.069776,
     "end_time": "2024-02-22T16:07:14.916424",
     "exception": false,
     "start_time": "2024-02-22T16:07:14.846648",
     "status": "completed"
    },
    "tags": []
   },
   "outputs": [
    {
     "data": {
      "text/html": [
       "<div>\n",
       "<style scoped>\n",
       "    .dataframe tbody tr th:only-of-type {\n",
       "        vertical-align: middle;\n",
       "    }\n",
       "\n",
       "    .dataframe tbody tr th {\n",
       "        vertical-align: top;\n",
       "    }\n",
       "\n",
       "    .dataframe thead th {\n",
       "        text-align: right;\n",
       "    }\n",
       "</style>\n",
       "<table border=\"1\" class=\"dataframe\">\n",
       "  <thead>\n",
       "    <tr style=\"text-align: right;\">\n",
       "      <th></th>\n",
       "      <th>index</th>\n",
       "      <th>Patient Id</th>\n",
       "      <th>Age</th>\n",
       "      <th>Gender</th>\n",
       "      <th>Air Pollution</th>\n",
       "      <th>Alcohol use</th>\n",
       "      <th>Dust Allergy</th>\n",
       "      <th>OccuPational Hazards</th>\n",
       "      <th>Genetic Risk</th>\n",
       "      <th>chronic Lung Disease</th>\n",
       "      <th>...</th>\n",
       "      <th>Fatigue</th>\n",
       "      <th>Weight Loss</th>\n",
       "      <th>Shortness of Breath</th>\n",
       "      <th>Wheezing</th>\n",
       "      <th>Swallowing Difficulty</th>\n",
       "      <th>Clubbing of Finger Nails</th>\n",
       "      <th>Frequent Cold</th>\n",
       "      <th>Dry Cough</th>\n",
       "      <th>Snoring</th>\n",
       "      <th>Level</th>\n",
       "    </tr>\n",
       "  </thead>\n",
       "  <tbody>\n",
       "    <tr>\n",
       "      <th>0</th>\n",
       "      <td>0</td>\n",
       "      <td>P1</td>\n",
       "      <td>33</td>\n",
       "      <td>1</td>\n",
       "      <td>2</td>\n",
       "      <td>4</td>\n",
       "      <td>5</td>\n",
       "      <td>4</td>\n",
       "      <td>3</td>\n",
       "      <td>2</td>\n",
       "      <td>...</td>\n",
       "      <td>3</td>\n",
       "      <td>4</td>\n",
       "      <td>2</td>\n",
       "      <td>2</td>\n",
       "      <td>3</td>\n",
       "      <td>1</td>\n",
       "      <td>2</td>\n",
       "      <td>3</td>\n",
       "      <td>4</td>\n",
       "      <td>Low</td>\n",
       "    </tr>\n",
       "    <tr>\n",
       "      <th>1</th>\n",
       "      <td>1</td>\n",
       "      <td>P10</td>\n",
       "      <td>17</td>\n",
       "      <td>1</td>\n",
       "      <td>3</td>\n",
       "      <td>1</td>\n",
       "      <td>5</td>\n",
       "      <td>3</td>\n",
       "      <td>4</td>\n",
       "      <td>2</td>\n",
       "      <td>...</td>\n",
       "      <td>1</td>\n",
       "      <td>3</td>\n",
       "      <td>7</td>\n",
       "      <td>8</td>\n",
       "      <td>6</td>\n",
       "      <td>2</td>\n",
       "      <td>1</td>\n",
       "      <td>7</td>\n",
       "      <td>2</td>\n",
       "      <td>Medium</td>\n",
       "    </tr>\n",
       "    <tr>\n",
       "      <th>2</th>\n",
       "      <td>2</td>\n",
       "      <td>P100</td>\n",
       "      <td>35</td>\n",
       "      <td>1</td>\n",
       "      <td>4</td>\n",
       "      <td>5</td>\n",
       "      <td>6</td>\n",
       "      <td>5</td>\n",
       "      <td>5</td>\n",
       "      <td>4</td>\n",
       "      <td>...</td>\n",
       "      <td>8</td>\n",
       "      <td>7</td>\n",
       "      <td>9</td>\n",
       "      <td>2</td>\n",
       "      <td>1</td>\n",
       "      <td>4</td>\n",
       "      <td>6</td>\n",
       "      <td>7</td>\n",
       "      <td>2</td>\n",
       "      <td>High</td>\n",
       "    </tr>\n",
       "    <tr>\n",
       "      <th>3</th>\n",
       "      <td>3</td>\n",
       "      <td>P1000</td>\n",
       "      <td>37</td>\n",
       "      <td>1</td>\n",
       "      <td>7</td>\n",
       "      <td>7</td>\n",
       "      <td>7</td>\n",
       "      <td>7</td>\n",
       "      <td>6</td>\n",
       "      <td>7</td>\n",
       "      <td>...</td>\n",
       "      <td>4</td>\n",
       "      <td>2</td>\n",
       "      <td>3</td>\n",
       "      <td>1</td>\n",
       "      <td>4</td>\n",
       "      <td>5</td>\n",
       "      <td>6</td>\n",
       "      <td>7</td>\n",
       "      <td>5</td>\n",
       "      <td>High</td>\n",
       "    </tr>\n",
       "    <tr>\n",
       "      <th>4</th>\n",
       "      <td>4</td>\n",
       "      <td>P101</td>\n",
       "      <td>46</td>\n",
       "      <td>1</td>\n",
       "      <td>6</td>\n",
       "      <td>8</td>\n",
       "      <td>7</td>\n",
       "      <td>7</td>\n",
       "      <td>7</td>\n",
       "      <td>6</td>\n",
       "      <td>...</td>\n",
       "      <td>3</td>\n",
       "      <td>2</td>\n",
       "      <td>4</td>\n",
       "      <td>1</td>\n",
       "      <td>4</td>\n",
       "      <td>2</td>\n",
       "      <td>4</td>\n",
       "      <td>2</td>\n",
       "      <td>3</td>\n",
       "      <td>High</td>\n",
       "    </tr>\n",
       "  </tbody>\n",
       "</table>\n",
       "<p>5 rows × 26 columns</p>\n",
       "</div>"
      ],
      "text/plain": [
       "   index Patient Id  Age  Gender  Air Pollution  Alcohol use  Dust Allergy  \\\n",
       "0      0         P1   33       1              2            4             5   \n",
       "1      1        P10   17       1              3            1             5   \n",
       "2      2       P100   35       1              4            5             6   \n",
       "3      3      P1000   37       1              7            7             7   \n",
       "4      4       P101   46       1              6            8             7   \n",
       "\n",
       "   OccuPational Hazards  Genetic Risk  chronic Lung Disease  ...  Fatigue  \\\n",
       "0                     4             3                     2  ...        3   \n",
       "1                     3             4                     2  ...        1   \n",
       "2                     5             5                     4  ...        8   \n",
       "3                     7             6                     7  ...        4   \n",
       "4                     7             7                     6  ...        3   \n",
       "\n",
       "   Weight Loss  Shortness of Breath  Wheezing  Swallowing Difficulty  \\\n",
       "0            4                    2         2                      3   \n",
       "1            3                    7         8                      6   \n",
       "2            7                    9         2                      1   \n",
       "3            2                    3         1                      4   \n",
       "4            2                    4         1                      4   \n",
       "\n",
       "   Clubbing of Finger Nails  Frequent Cold  Dry Cough  Snoring   Level  \n",
       "0                         1              2          3        4     Low  \n",
       "1                         2              1          7        2  Medium  \n",
       "2                         4              6          7        2    High  \n",
       "3                         5              6          7        5    High  \n",
       "4                         2              4          2        3    High  \n",
       "\n",
       "[5 rows x 26 columns]"
      ]
     },
     "execution_count": 3,
     "metadata": {},
     "output_type": "execute_result"
    }
   ],
   "source": [
    "df.head()"
   ]
  },
  {
   "cell_type": "code",
   "execution_count": 4,
   "id": "cbf5b489",
   "metadata": {
    "execution": {
     "iopub.execute_input": "2024-02-22T16:07:14.944036Z",
     "iopub.status.busy": "2024-02-22T16:07:14.942578Z",
     "iopub.status.idle": "2024-02-22T16:07:15.058249Z",
     "shell.execute_reply": "2024-02-22T16:07:15.057085Z"
    },
    "papermill": {
     "duration": 0.13311,
     "end_time": "2024-02-22T16:07:15.061910",
     "exception": false,
     "start_time": "2024-02-22T16:07:14.928800",
     "status": "completed"
    },
    "tags": []
   },
   "outputs": [
    {
     "name": "stdout",
     "output_type": "stream",
     "text": [
      "<class 'pandas.core.frame.DataFrame'>\n",
      "RangeIndex: 1000 entries, 0 to 999\n",
      "Data columns (total 26 columns):\n",
      " #   Column                    Non-Null Count  Dtype \n",
      "---  ------                    --------------  ----- \n",
      " 0   index                     1000 non-null   int64 \n",
      " 1   Patient Id                1000 non-null   object\n",
      " 2   Age                       1000 non-null   int64 \n",
      " 3   Gender                    1000 non-null   int64 \n",
      " 4   Air Pollution             1000 non-null   int64 \n",
      " 5   Alcohol use               1000 non-null   int64 \n",
      " 6   Dust Allergy              1000 non-null   int64 \n",
      " 7   OccuPational Hazards      1000 non-null   int64 \n",
      " 8   Genetic Risk              1000 non-null   int64 \n",
      " 9   chronic Lung Disease      1000 non-null   int64 \n",
      " 10  Balanced Diet             1000 non-null   int64 \n",
      " 11  Obesity                   1000 non-null   int64 \n",
      " 12  Smoking                   1000 non-null   int64 \n",
      " 13  Passive Smoker            1000 non-null   int64 \n",
      " 14  Chest Pain                1000 non-null   int64 \n",
      " 15  Coughing of Blood         1000 non-null   int64 \n",
      " 16  Fatigue                   1000 non-null   int64 \n",
      " 17  Weight Loss               1000 non-null   int64 \n",
      " 18  Shortness of Breath       1000 non-null   int64 \n",
      " 19  Wheezing                  1000 non-null   int64 \n",
      " 20  Swallowing Difficulty     1000 non-null   int64 \n",
      " 21  Clubbing of Finger Nails  1000 non-null   int64 \n",
      " 22  Frequent Cold             1000 non-null   int64 \n",
      " 23  Dry Cough                 1000 non-null   int64 \n",
      " 24  Snoring                   1000 non-null   int64 \n",
      " 25  Level                     1000 non-null   object\n",
      "dtypes: int64(24), object(2)\n",
      "memory usage: 203.2+ KB\n"
     ]
    }
   ],
   "source": [
    "df.info()"
   ]
  },
  {
   "cell_type": "code",
   "execution_count": 5,
   "id": "3fa48390",
   "metadata": {
    "execution": {
     "iopub.execute_input": "2024-02-22T16:07:15.087712Z",
     "iopub.status.busy": "2024-02-22T16:07:15.087279Z",
     "iopub.status.idle": "2024-02-22T16:07:15.175252Z",
     "shell.execute_reply": "2024-02-22T16:07:15.174062Z"
    },
    "papermill": {
     "duration": 0.103955,
     "end_time": "2024-02-22T16:07:15.177880",
     "exception": false,
     "start_time": "2024-02-22T16:07:15.073925",
     "status": "completed"
    },
    "tags": []
   },
   "outputs": [
    {
     "data": {
      "text/html": [
       "<div>\n",
       "<style scoped>\n",
       "    .dataframe tbody tr th:only-of-type {\n",
       "        vertical-align: middle;\n",
       "    }\n",
       "\n",
       "    .dataframe tbody tr th {\n",
       "        vertical-align: top;\n",
       "    }\n",
       "\n",
       "    .dataframe thead th {\n",
       "        text-align: right;\n",
       "    }\n",
       "</style>\n",
       "<table border=\"1\" class=\"dataframe\">\n",
       "  <thead>\n",
       "    <tr style=\"text-align: right;\">\n",
       "      <th></th>\n",
       "      <th>index</th>\n",
       "      <th>Age</th>\n",
       "      <th>Gender</th>\n",
       "      <th>Air Pollution</th>\n",
       "      <th>Alcohol use</th>\n",
       "      <th>Dust Allergy</th>\n",
       "      <th>OccuPational Hazards</th>\n",
       "      <th>Genetic Risk</th>\n",
       "      <th>chronic Lung Disease</th>\n",
       "      <th>Balanced Diet</th>\n",
       "      <th>...</th>\n",
       "      <th>Coughing of Blood</th>\n",
       "      <th>Fatigue</th>\n",
       "      <th>Weight Loss</th>\n",
       "      <th>Shortness of Breath</th>\n",
       "      <th>Wheezing</th>\n",
       "      <th>Swallowing Difficulty</th>\n",
       "      <th>Clubbing of Finger Nails</th>\n",
       "      <th>Frequent Cold</th>\n",
       "      <th>Dry Cough</th>\n",
       "      <th>Snoring</th>\n",
       "    </tr>\n",
       "  </thead>\n",
       "  <tbody>\n",
       "    <tr>\n",
       "      <th>count</th>\n",
       "      <td>1000.000000</td>\n",
       "      <td>1000.000000</td>\n",
       "      <td>1000.000000</td>\n",
       "      <td>1000.0000</td>\n",
       "      <td>1000.000000</td>\n",
       "      <td>1000.000000</td>\n",
       "      <td>1000.000000</td>\n",
       "      <td>1000.000000</td>\n",
       "      <td>1000.000000</td>\n",
       "      <td>1000.000000</td>\n",
       "      <td>...</td>\n",
       "      <td>1000.000000</td>\n",
       "      <td>1000.000000</td>\n",
       "      <td>1000.000000</td>\n",
       "      <td>1000.000000</td>\n",
       "      <td>1000.000000</td>\n",
       "      <td>1000.000000</td>\n",
       "      <td>1000.000000</td>\n",
       "      <td>1000.000000</td>\n",
       "      <td>1000.000000</td>\n",
       "      <td>1000.000000</td>\n",
       "    </tr>\n",
       "    <tr>\n",
       "      <th>mean</th>\n",
       "      <td>499.500000</td>\n",
       "      <td>37.174000</td>\n",
       "      <td>1.402000</td>\n",
       "      <td>3.8400</td>\n",
       "      <td>4.563000</td>\n",
       "      <td>5.165000</td>\n",
       "      <td>4.840000</td>\n",
       "      <td>4.580000</td>\n",
       "      <td>4.380000</td>\n",
       "      <td>4.491000</td>\n",
       "      <td>...</td>\n",
       "      <td>4.859000</td>\n",
       "      <td>3.856000</td>\n",
       "      <td>3.855000</td>\n",
       "      <td>4.240000</td>\n",
       "      <td>3.777000</td>\n",
       "      <td>3.746000</td>\n",
       "      <td>3.923000</td>\n",
       "      <td>3.536000</td>\n",
       "      <td>3.853000</td>\n",
       "      <td>2.926000</td>\n",
       "    </tr>\n",
       "    <tr>\n",
       "      <th>std</th>\n",
       "      <td>288.819436</td>\n",
       "      <td>12.005493</td>\n",
       "      <td>0.490547</td>\n",
       "      <td>2.0304</td>\n",
       "      <td>2.620477</td>\n",
       "      <td>1.980833</td>\n",
       "      <td>2.107805</td>\n",
       "      <td>2.126999</td>\n",
       "      <td>1.848518</td>\n",
       "      <td>2.135528</td>\n",
       "      <td>...</td>\n",
       "      <td>2.427965</td>\n",
       "      <td>2.244616</td>\n",
       "      <td>2.206546</td>\n",
       "      <td>2.285087</td>\n",
       "      <td>2.041921</td>\n",
       "      <td>2.270383</td>\n",
       "      <td>2.388048</td>\n",
       "      <td>1.832502</td>\n",
       "      <td>2.039007</td>\n",
       "      <td>1.474686</td>\n",
       "    </tr>\n",
       "    <tr>\n",
       "      <th>min</th>\n",
       "      <td>0.000000</td>\n",
       "      <td>14.000000</td>\n",
       "      <td>1.000000</td>\n",
       "      <td>1.0000</td>\n",
       "      <td>1.000000</td>\n",
       "      <td>1.000000</td>\n",
       "      <td>1.000000</td>\n",
       "      <td>1.000000</td>\n",
       "      <td>1.000000</td>\n",
       "      <td>1.000000</td>\n",
       "      <td>...</td>\n",
       "      <td>1.000000</td>\n",
       "      <td>1.000000</td>\n",
       "      <td>1.000000</td>\n",
       "      <td>1.000000</td>\n",
       "      <td>1.000000</td>\n",
       "      <td>1.000000</td>\n",
       "      <td>1.000000</td>\n",
       "      <td>1.000000</td>\n",
       "      <td>1.000000</td>\n",
       "      <td>1.000000</td>\n",
       "    </tr>\n",
       "    <tr>\n",
       "      <th>25%</th>\n",
       "      <td>249.750000</td>\n",
       "      <td>27.750000</td>\n",
       "      <td>1.000000</td>\n",
       "      <td>2.0000</td>\n",
       "      <td>2.000000</td>\n",
       "      <td>4.000000</td>\n",
       "      <td>3.000000</td>\n",
       "      <td>2.000000</td>\n",
       "      <td>3.000000</td>\n",
       "      <td>2.000000</td>\n",
       "      <td>...</td>\n",
       "      <td>3.000000</td>\n",
       "      <td>2.000000</td>\n",
       "      <td>2.000000</td>\n",
       "      <td>2.000000</td>\n",
       "      <td>2.000000</td>\n",
       "      <td>2.000000</td>\n",
       "      <td>2.000000</td>\n",
       "      <td>2.000000</td>\n",
       "      <td>2.000000</td>\n",
       "      <td>2.000000</td>\n",
       "    </tr>\n",
       "    <tr>\n",
       "      <th>50%</th>\n",
       "      <td>499.500000</td>\n",
       "      <td>36.000000</td>\n",
       "      <td>1.000000</td>\n",
       "      <td>3.0000</td>\n",
       "      <td>5.000000</td>\n",
       "      <td>6.000000</td>\n",
       "      <td>5.000000</td>\n",
       "      <td>5.000000</td>\n",
       "      <td>4.000000</td>\n",
       "      <td>4.000000</td>\n",
       "      <td>...</td>\n",
       "      <td>4.000000</td>\n",
       "      <td>3.000000</td>\n",
       "      <td>3.000000</td>\n",
       "      <td>4.000000</td>\n",
       "      <td>4.000000</td>\n",
       "      <td>4.000000</td>\n",
       "      <td>4.000000</td>\n",
       "      <td>3.000000</td>\n",
       "      <td>4.000000</td>\n",
       "      <td>3.000000</td>\n",
       "    </tr>\n",
       "    <tr>\n",
       "      <th>75%</th>\n",
       "      <td>749.250000</td>\n",
       "      <td>45.000000</td>\n",
       "      <td>2.000000</td>\n",
       "      <td>6.0000</td>\n",
       "      <td>7.000000</td>\n",
       "      <td>7.000000</td>\n",
       "      <td>7.000000</td>\n",
       "      <td>7.000000</td>\n",
       "      <td>6.000000</td>\n",
       "      <td>7.000000</td>\n",
       "      <td>...</td>\n",
       "      <td>7.000000</td>\n",
       "      <td>5.000000</td>\n",
       "      <td>6.000000</td>\n",
       "      <td>6.000000</td>\n",
       "      <td>5.000000</td>\n",
       "      <td>5.000000</td>\n",
       "      <td>5.000000</td>\n",
       "      <td>5.000000</td>\n",
       "      <td>6.000000</td>\n",
       "      <td>4.000000</td>\n",
       "    </tr>\n",
       "    <tr>\n",
       "      <th>max</th>\n",
       "      <td>999.000000</td>\n",
       "      <td>73.000000</td>\n",
       "      <td>2.000000</td>\n",
       "      <td>8.0000</td>\n",
       "      <td>8.000000</td>\n",
       "      <td>8.000000</td>\n",
       "      <td>8.000000</td>\n",
       "      <td>7.000000</td>\n",
       "      <td>7.000000</td>\n",
       "      <td>7.000000</td>\n",
       "      <td>...</td>\n",
       "      <td>9.000000</td>\n",
       "      <td>9.000000</td>\n",
       "      <td>8.000000</td>\n",
       "      <td>9.000000</td>\n",
       "      <td>8.000000</td>\n",
       "      <td>8.000000</td>\n",
       "      <td>9.000000</td>\n",
       "      <td>7.000000</td>\n",
       "      <td>7.000000</td>\n",
       "      <td>7.000000</td>\n",
       "    </tr>\n",
       "  </tbody>\n",
       "</table>\n",
       "<p>8 rows × 24 columns</p>\n",
       "</div>"
      ],
      "text/plain": [
       "             index          Age       Gender  Air Pollution  Alcohol use  \\\n",
       "count  1000.000000  1000.000000  1000.000000      1000.0000  1000.000000   \n",
       "mean    499.500000    37.174000     1.402000         3.8400     4.563000   \n",
       "std     288.819436    12.005493     0.490547         2.0304     2.620477   \n",
       "min       0.000000    14.000000     1.000000         1.0000     1.000000   \n",
       "25%     249.750000    27.750000     1.000000         2.0000     2.000000   \n",
       "50%     499.500000    36.000000     1.000000         3.0000     5.000000   \n",
       "75%     749.250000    45.000000     2.000000         6.0000     7.000000   \n",
       "max     999.000000    73.000000     2.000000         8.0000     8.000000   \n",
       "\n",
       "       Dust Allergy  OccuPational Hazards  Genetic Risk  chronic Lung Disease  \\\n",
       "count   1000.000000           1000.000000   1000.000000           1000.000000   \n",
       "mean       5.165000              4.840000      4.580000              4.380000   \n",
       "std        1.980833              2.107805      2.126999              1.848518   \n",
       "min        1.000000              1.000000      1.000000              1.000000   \n",
       "25%        4.000000              3.000000      2.000000              3.000000   \n",
       "50%        6.000000              5.000000      5.000000              4.000000   \n",
       "75%        7.000000              7.000000      7.000000              6.000000   \n",
       "max        8.000000              8.000000      7.000000              7.000000   \n",
       "\n",
       "       Balanced Diet  ...  Coughing of Blood      Fatigue  Weight Loss  \\\n",
       "count    1000.000000  ...        1000.000000  1000.000000  1000.000000   \n",
       "mean        4.491000  ...           4.859000     3.856000     3.855000   \n",
       "std         2.135528  ...           2.427965     2.244616     2.206546   \n",
       "min         1.000000  ...           1.000000     1.000000     1.000000   \n",
       "25%         2.000000  ...           3.000000     2.000000     2.000000   \n",
       "50%         4.000000  ...           4.000000     3.000000     3.000000   \n",
       "75%         7.000000  ...           7.000000     5.000000     6.000000   \n",
       "max         7.000000  ...           9.000000     9.000000     8.000000   \n",
       "\n",
       "       Shortness of Breath     Wheezing  Swallowing Difficulty  \\\n",
       "count          1000.000000  1000.000000            1000.000000   \n",
       "mean              4.240000     3.777000               3.746000   \n",
       "std               2.285087     2.041921               2.270383   \n",
       "min               1.000000     1.000000               1.000000   \n",
       "25%               2.000000     2.000000               2.000000   \n",
       "50%               4.000000     4.000000               4.000000   \n",
       "75%               6.000000     5.000000               5.000000   \n",
       "max               9.000000     8.000000               8.000000   \n",
       "\n",
       "       Clubbing of Finger Nails  Frequent Cold    Dry Cough      Snoring  \n",
       "count               1000.000000    1000.000000  1000.000000  1000.000000  \n",
       "mean                   3.923000       3.536000     3.853000     2.926000  \n",
       "std                    2.388048       1.832502     2.039007     1.474686  \n",
       "min                    1.000000       1.000000     1.000000     1.000000  \n",
       "25%                    2.000000       2.000000     2.000000     2.000000  \n",
       "50%                    4.000000       3.000000     4.000000     3.000000  \n",
       "75%                    5.000000       5.000000     6.000000     4.000000  \n",
       "max                    9.000000       7.000000     7.000000     7.000000  \n",
       "\n",
       "[8 rows x 24 columns]"
      ]
     },
     "execution_count": 5,
     "metadata": {},
     "output_type": "execute_result"
    }
   ],
   "source": [
    "df.describe()"
   ]
  },
  {
   "cell_type": "code",
   "execution_count": 6,
   "id": "94583860",
   "metadata": {
    "execution": {
     "iopub.execute_input": "2024-02-22T16:07:15.205726Z",
     "iopub.status.busy": "2024-02-22T16:07:15.204477Z",
     "iopub.status.idle": "2024-02-22T16:07:15.212152Z",
     "shell.execute_reply": "2024-02-22T16:07:15.210916Z"
    },
    "papermill": {
     "duration": 0.024357,
     "end_time": "2024-02-22T16:07:15.214847",
     "exception": false,
     "start_time": "2024-02-22T16:07:15.190490",
     "status": "completed"
    },
    "tags": []
   },
   "outputs": [
    {
     "data": {
      "text/plain": [
       "(1000, 26)"
      ]
     },
     "execution_count": 6,
     "metadata": {},
     "output_type": "execute_result"
    }
   ],
   "source": [
    "df.shape"
   ]
  },
  {
   "cell_type": "code",
   "execution_count": 7,
   "id": "53519246",
   "metadata": {
    "execution": {
     "iopub.execute_input": "2024-02-22T16:07:15.243194Z",
     "iopub.status.busy": "2024-02-22T16:07:15.241956Z",
     "iopub.status.idle": "2024-02-22T16:07:15.252707Z",
     "shell.execute_reply": "2024-02-22T16:07:15.251344Z"
    },
    "papermill": {
     "duration": 0.027542,
     "end_time": "2024-02-22T16:07:15.255349",
     "exception": false,
     "start_time": "2024-02-22T16:07:15.227807",
     "status": "completed"
    },
    "tags": []
   },
   "outputs": [
    {
     "data": {
      "text/plain": [
       "index                       0\n",
       "Patient Id                  0\n",
       "Age                         0\n",
       "Gender                      0\n",
       "Air Pollution               0\n",
       "Alcohol use                 0\n",
       "Dust Allergy                0\n",
       "OccuPational Hazards        0\n",
       "Genetic Risk                0\n",
       "chronic Lung Disease        0\n",
       "Balanced Diet               0\n",
       "Obesity                     0\n",
       "Smoking                     0\n",
       "Passive Smoker              0\n",
       "Chest Pain                  0\n",
       "Coughing of Blood           0\n",
       "Fatigue                     0\n",
       "Weight Loss                 0\n",
       "Shortness of Breath         0\n",
       "Wheezing                    0\n",
       "Swallowing Difficulty       0\n",
       "Clubbing of Finger Nails    0\n",
       "Frequent Cold               0\n",
       "Dry Cough                   0\n",
       "Snoring                     0\n",
       "Level                       0\n",
       "dtype: int64"
      ]
     },
     "execution_count": 7,
     "metadata": {},
     "output_type": "execute_result"
    }
   ],
   "source": [
    "df.isnull().sum()"
   ]
  },
  {
   "cell_type": "code",
   "execution_count": 8,
   "id": "d74c63f8",
   "metadata": {
    "execution": {
     "iopub.execute_input": "2024-02-22T16:07:15.284585Z",
     "iopub.status.busy": "2024-02-22T16:07:15.284185Z",
     "iopub.status.idle": "2024-02-22T16:07:15.924970Z",
     "shell.execute_reply": "2024-02-22T16:07:15.923742Z"
    },
    "papermill": {
     "duration": 0.658597,
     "end_time": "2024-02-22T16:07:15.927738",
     "exception": false,
     "start_time": "2024-02-22T16:07:15.269141",
     "status": "completed"
    },
    "tags": []
   },
   "outputs": [
    {
     "data": {
      "text/plain": [
       "<Axes: xlabel='Swallowing Difficulty', ylabel='Alcohol use'>"
      ]
     },
     "execution_count": 8,
     "metadata": {},
     "output_type": "execute_result"
    },
    {
     "data": {
      "image/png": "[encoded data removed]",
      "text/plain": [
       "<Figure size 640x480 with 1 Axes>"
      ]
     },
     "metadata": {},
     "output_type": "display_data"
    }
   ],
   "source": [
    "sns.barplot(y='Alcohol use', x ='Swallowing Difficulty', data=df)"
   ]
  },
  {
   "cell_type": "code",
   "execution_count": 9,
   "id": "759dc4c9",
   "metadata": {
    "execution": {
     "iopub.execute_input": "2024-02-22T16:07:15.956419Z",
     "iopub.status.busy": "2024-02-22T16:07:15.955981Z",
     "iopub.status.idle": "2024-02-22T16:07:16.552883Z",
     "shell.execute_reply": "2024-02-22T16:07:16.551752Z"
    },
    "papermill": {
     "duration": 0.614356,
     "end_time": "2024-02-22T16:07:16.555614",
     "exception": false,
     "start_time": "2024-02-22T16:07:15.941258",
     "status": "completed"
    },
    "tags": []
   },
   "outputs": [
    {
     "data": {
      "text/plain": [
       "<Axes: xlabel='Smoking', ylabel='Weight Loss'>"
      ]
     },
     "execution_count": 9,
     "metadata": {},
     "output_type": "execute_result"
    },
    {
     "data": {
      "image/png": "[encoded data removed]",
      "text/plain": [
       "<Figure size 640x480 with 1 Axes>"
      ]
     },
     "metadata": {},
     "output_type": "display_data"
    }
   ],
   "source": [
    "sns.barplot(y='Weight Loss', x ='Smoking', data=df)"
   ]
  },
  {
   "cell_type": "code",
   "execution_count": 10,
   "id": "9752f598",
   "metadata": {
    "execution": {
     "iopub.execute_input": "2024-02-22T16:07:16.585457Z",
     "iopub.status.busy": "2024-02-22T16:07:16.585011Z",
     "iopub.status.idle": "2024-02-22T16:07:16.925933Z",
     "shell.execute_reply": "2024-02-22T16:07:16.924496Z"
    },
    "papermill": {
     "duration": 0.359631,
     "end_time": "2024-02-22T16:07:16.929310",
     "exception": false,
     "start_time": "2024-02-22T16:07:16.569679",
     "status": "completed"
    },
    "tags": []
   },
   "outputs": [
    {
     "data": {
      "text/plain": [
       "<matplotlib.collections.PathCollection at 0x79bb294f3d30>"
      ]
     },
     "execution_count": 10,
     "metadata": {},
     "output_type": "execute_result"
    },
    {
     "data": {
      "image/png": "[encoded data removed]",
      "text/plain": [
       "<Figure size 640x480 with 1 Axes>"
      ]
     },
     "metadata": {},
     "output_type": "display_data"
    }
   ],
   "source": [
    "plt.scatter(y='Weight Loss', x ='Smoking', data=df)"
   ]
  },
  {
   "cell_type": "code",
   "execution_count": 11,
   "id": "d62e6083",
   "metadata": {
    "execution": {
     "iopub.execute_input": "2024-02-22T16:07:16.961094Z",
     "iopub.status.busy": "2024-02-22T16:07:16.960657Z",
     "iopub.status.idle": "2024-02-22T16:07:17.335150Z",
     "shell.execute_reply": "2024-02-22T16:07:17.333805Z"
    },
    "papermill": {
     "duration": 0.393027,
     "end_time": "2024-02-22T16:07:17.337921",
     "exception": false,
     "start_time": "2024-02-22T16:07:16.944894",
     "status": "completed"
    },
    "tags": []
   },
   "outputs": [
    {
     "data": {
      "text/plain": [
       "<Axes: xlabel='Smoking', ylabel='Level'>"
      ]
     },
     "execution_count": 11,
     "metadata": {},
     "output_type": "execute_result"
    },
    {
     "data": {
      "image/png": "[encoded data removed]",
      "text/plain": [
       "<Figure size 640x480 with 1 Axes>"
      ]
     },
     "metadata": {},
     "output_type": "display_data"
    }
   ],
   "source": [
    "sns.barplot(y='Level', x ='Smoking', data=df)"
   ]
  },
  {
   "cell_type": "code",
   "execution_count": 12,
   "id": "b0b1cc84",
   "metadata": {
    "execution": {
     "iopub.execute_input": "2024-02-22T16:07:17.369890Z",
     "iopub.status.busy": "2024-02-22T16:07:17.369072Z",
     "iopub.status.idle": "2024-02-22T16:07:17.535821Z",
     "shell.execute_reply": "2024-02-22T16:07:17.534668Z"
    },
    "papermill": {
     "duration": 0.185632,
     "end_time": "2024-02-22T16:07:17.538500",
     "exception": false,
     "start_time": "2024-02-22T16:07:17.352868",
     "status": "completed"
    },
    "tags": []
   },
   "outputs": [
    {
     "data": {
      "text/plain": [
       "([<matplotlib.patches.Wedge at 0x79bb08e5c970>,\n",
       "  <matplotlib.patches.Wedge at 0x79bb08e5c8b0>,\n",
       "  <matplotlib.patches.Wedge at 0x79bb08e5d240>,\n",
       "  <matplotlib.patches.Wedge at 0x79bb08e5d7b0>,\n",
       "  <matplotlib.patches.Wedge at 0x79bb08e5db70>,\n",
       "  <matplotlib.patches.Wedge at 0x79bb08e5dff0>,\n",
       "  <matplotlib.patches.Wedge at 0x79bb08e5e470>,\n",
       "  <matplotlib.patches.Wedge at 0x79bb08e5e8f0>],\n",
       " [Text(0.8431423011403422, 0.706477926072548, '1'),\n",
       "  Text(-0.5024662023210625, 0.9785334514083048, '2'),\n",
       "  Text(-1.0917539039082917, -0.1344373954709198, '3'),\n",
       "  Text(-0.366101483824868, -1.0372895948293466, '4'),\n",
       "  Text(0.5086045630381768, -0.9753570620325387, '5'),\n",
       "  Text(0.8939636055409079, -0.6409594932351812, '6'),\n",
       "  Text(1.0662956382069828, -0.27021031057449163, '7'),\n",
       "  Text(1.0994572176396824, -0.034551795611921995, '8')])"
      ]
     },
     "execution_count": 12,
     "metadata": {},
     "output_type": "execute_result"
    },
    {
     "data": {
      "image/png": "[encoded data removed]",
      "text/plain": [
       "<Figure size 640x480 with 1 Axes>"
      ]
     },
     "metadata": {},
     "output_type": "display_data"
    }
   ],
   "source": [
    "labels= ['1','2','3','4','5','6','7','8']\n",
    "\n",
    "colors=['blue', 'yellow', 'green', 'orange','red','pink','brown','grey']\n",
    "\n",
    "plt.pie(x=df['Smoking'].value_counts() ,labels=labels, colors=colors)"
   ]
  },
  {
   "cell_type": "code",
   "execution_count": 13,
   "id": "93e3b2b9",
   "metadata": {
    "execution": {
     "iopub.execute_input": "2024-02-22T16:07:17.571688Z",
     "iopub.status.busy": "2024-02-22T16:07:17.571271Z",
     "iopub.status.idle": "2024-02-22T16:07:17.802099Z",
     "shell.execute_reply": "2024-02-22T16:07:17.800822Z"
    },
    "papermill": {
     "duration": 0.250973,
     "end_time": "2024-02-22T16:07:17.805032",
     "exception": false,
     "start_time": "2024-02-22T16:07:17.554059",
     "status": "completed"
    },
    "tags": []
   },
   "outputs": [],
   "source": [
    "from sklearn.preprocessing import LabelEncoder\n",
    "encoder=LabelEncoder()\n",
    "df['Level'] = encoder.fit_transform(df['Level'])"
   ]
  },
  {
   "cell_type": "code",
   "execution_count": 14,
   "id": "932d568c",
   "metadata": {
    "execution": {
     "iopub.execute_input": "2024-02-22T16:07:17.838857Z",
     "iopub.status.busy": "2024-02-22T16:07:17.837780Z",
     "iopub.status.idle": "2024-02-22T16:07:17.845751Z",
     "shell.execute_reply": "2024-02-22T16:07:17.844777Z"
    },
    "papermill": {
     "duration": 0.027374,
     "end_time": "2024-02-22T16:07:17.848326",
     "exception": false,
     "start_time": "2024-02-22T16:07:17.820952",
     "status": "completed"
    },
    "tags": []
   },
   "outputs": [],
   "source": [
    "df=df.drop('Patient Id',axis=1)"
   ]
  },
  {
   "cell_type": "code",
   "execution_count": 15,
   "id": "c3e25415",
   "metadata": {
    "execution": {
     "iopub.execute_input": "2024-02-22T16:07:17.881367Z",
     "iopub.status.busy": "2024-02-22T16:07:17.880456Z",
     "iopub.status.idle": "2024-02-22T16:07:17.887538Z",
     "shell.execute_reply": "2024-02-22T16:07:17.886666Z"
    },
    "papermill": {
     "duration": 0.026365,
     "end_time": "2024-02-22T16:07:17.890105",
     "exception": false,
     "start_time": "2024-02-22T16:07:17.863740",
     "status": "completed"
    },
    "tags": []
   },
   "outputs": [],
   "source": [
    "X=df.drop('Level',axis=1)\n",
    "y=df['Level']"
   ]
  },
  {
   "cell_type": "code",
   "execution_count": 16,
   "id": "ae8dae5d",
   "metadata": {
    "execution": {
     "iopub.execute_input": "2024-02-22T16:07:17.923414Z",
     "iopub.status.busy": "2024-02-22T16:07:17.922931Z",
     "iopub.status.idle": "2024-02-22T16:07:18.069933Z",
     "shell.execute_reply": "2024-02-22T16:07:18.068562Z"
    },
    "papermill": {
     "duration": 0.167288,
     "end_time": "2024-02-22T16:07:18.073139",
     "exception": false,
     "start_time": "2024-02-22T16:07:17.905851",
     "status": "completed"
    },
    "tags": []
   },
   "outputs": [],
   "source": [
    "from sklearn.model_selection import train_test_split\n",
    "from sklearn.metrics import accuracy_score, classification_report,confusion_matrix"
   ]
  },
  {
   "cell_type": "code",
   "execution_count": 17,
   "id": "d6ec06ef",
   "metadata": {
    "execution": {
     "iopub.execute_input": "2024-02-22T16:07:18.106245Z",
     "iopub.status.busy": "2024-02-22T16:07:18.105791Z",
     "iopub.status.idle": "2024-02-22T16:07:18.114498Z",
     "shell.execute_reply": "2024-02-22T16:07:18.113015Z"
    },
    "papermill": {
     "duration": 0.028374,
     "end_time": "2024-02-22T16:07:18.117050",
     "exception": false,
     "start_time": "2024-02-22T16:07:18.088676",
     "status": "completed"
    },
    "tags": []
   },
   "outputs": [],
   "source": [
    "X_train, X_test, y_train, y_test = train_test_split(X, y, test_size=0.2, random_state=42)\n"
   ]
  },
  {
   "cell_type": "code",
   "execution_count": 18,
   "id": "8e3b7fd7",
   "metadata": {
    "execution": {
     "iopub.execute_input": "2024-02-22T16:07:18.149956Z",
     "iopub.status.busy": "2024-02-22T16:07:18.149535Z",
     "iopub.status.idle": "2024-02-22T16:07:18.425546Z",
     "shell.execute_reply": "2024-02-22T16:07:18.424319Z"
    },
    "papermill": {
     "duration": 0.295867,
     "end_time": "2024-02-22T16:07:18.428472",
     "exception": false,
     "start_time": "2024-02-22T16:07:18.132605",
     "status": "completed"
    },
    "tags": []
   },
   "outputs": [],
   "source": [
    "import xgboost as xgb"
   ]
  },
  {
   "cell_type": "code",
   "execution_count": 19,
   "id": "d2c58045",
   "metadata": {
    "execution": {
     "iopub.execute_input": "2024-02-22T16:07:18.460712Z",
     "iopub.status.busy": "2024-02-22T16:07:18.460304Z",
     "iopub.status.idle": "2024-02-22T16:07:18.508704Z",
     "shell.execute_reply": "2024-02-22T16:07:18.507725Z"
    },
    "papermill": {
     "duration": 0.067813,
     "end_time": "2024-02-22T16:07:18.511527",
     "exception": false,
     "start_time": "2024-02-22T16:07:18.443714",
     "status": "completed"
    },
    "tags": []
   },
   "outputs": [],
   "source": [
    "# Convert the data into DMatrix format\n",
    "dtrain = xgb.DMatrix(X_train, label=y_train)\n",
    "dtest = xgb.DMatrix(X_test, label=y_test)"
   ]
  },
  {
   "cell_type": "code",
   "execution_count": 20,
   "id": "49ae067a",
   "metadata": {
    "execution": {
     "iopub.execute_input": "2024-02-22T16:07:18.545616Z",
     "iopub.status.busy": "2024-02-22T16:07:18.545139Z",
     "iopub.status.idle": "2024-02-22T16:07:18.551282Z",
     "shell.execute_reply": "2024-02-22T16:07:18.549853Z"
    },
    "papermill": {
     "duration": 0.025529,
     "end_time": "2024-02-22T16:07:18.553912",
     "exception": false,
     "start_time": "2024-02-22T16:07:18.528383",
     "status": "completed"
    },
    "tags": []
   },
   "outputs": [],
   "source": [
    "# Set the parameters for XGBoost\n",
    "params = {\n",
    "    'objective': 'multi:softmax',\n",
    "    'num_class': 3,\n",
    "    'max_depth': 3,\n",
    "    'eta': 0.1,\n",
    "    'eval_metric': 'merror'\n",
    "}"
   ]
  },
  {
   "cell_type": "code",
   "execution_count": 21,
   "id": "f92debf8",
   "metadata": {
    "execution": {
     "iopub.execute_input": "2024-02-22T16:07:18.586002Z",
     "iopub.status.busy": "2024-02-22T16:07:18.585550Z",
     "iopub.status.idle": "2024-02-22T16:07:18.659905Z",
     "shell.execute_reply": "2024-02-22T16:07:18.658681Z"
    },
    "papermill": {
     "duration": 0.093755,
     "end_time": "2024-02-22T16:07:18.662957",
     "exception": false,
     "start_time": "2024-02-22T16:07:18.569202",
     "status": "completed"
    },
    "tags": []
   },
   "outputs": [],
   "source": [
    "# Train the XGBoost model\n",
    "num_rounds = 10\n",
    "model = xgb.train(params, dtrain, num_rounds)"
   ]
  },
  {
   "cell_type": "code",
   "execution_count": 22,
   "id": "798c9bf3",
   "metadata": {
    "execution": {
     "iopub.execute_input": "2024-02-22T16:07:18.696729Z",
     "iopub.status.busy": "2024-02-22T16:07:18.696309Z",
     "iopub.status.idle": "2024-02-22T16:07:18.703937Z",
     "shell.execute_reply": "2024-02-22T16:07:18.703043Z"
    },
    "papermill": {
     "duration": 0.026575,
     "end_time": "2024-02-22T16:07:18.706436",
     "exception": false,
     "start_time": "2024-02-22T16:07:18.679861",
     "status": "completed"
    },
    "tags": []
   },
   "outputs": [],
   "source": [
    "# Make predictions on the test set\n",
    "y_pred = model.predict(dtest)"
   ]
  },
  {
   "cell_type": "code",
   "execution_count": 23,
   "id": "f3b64091",
   "metadata": {
    "execution": {
     "iopub.execute_input": "2024-02-22T16:07:18.741111Z",
     "iopub.status.busy": "2024-02-22T16:07:18.739906Z",
     "iopub.status.idle": "2024-02-22T16:07:18.748550Z",
     "shell.execute_reply": "2024-02-22T16:07:18.747391Z"
    },
    "papermill": {
     "duration": 0.027731,
     "end_time": "2024-02-22T16:07:18.751064",
     "exception": false,
     "start_time": "2024-02-22T16:07:18.723333",
     "status": "completed"
    },
    "tags": []
   },
   "outputs": [
    {
     "name": "stdout",
     "output_type": "stream",
     "text": [
      "Accuracy: 1.0\n"
     ]
    }
   ],
   "source": [
    "# Calculate the accuracy of the model\n",
    "accuracy = accuracy_score(y_test, y_pred)\n",
    "print(\"Accuracy:\", accuracy)"
   ]
  },
  {
   "cell_type": "code",
   "execution_count": 24,
   "id": "a6f2522d",
   "metadata": {
    "execution": {
     "iopub.execute_input": "2024-02-22T16:07:18.846617Z",
     "iopub.status.busy": "2024-02-22T16:07:18.846148Z",
     "iopub.status.idle": "2024-02-22T16:07:18.863176Z",
     "shell.execute_reply": "2024-02-22T16:07:18.861773Z"
    },
    "papermill": {
     "duration": 0.036739,
     "end_time": "2024-02-22T16:07:18.865909",
     "exception": false,
     "start_time": "2024-02-22T16:07:18.829170",
     "status": "completed"
    },
    "tags": []
   },
   "outputs": [
    {
     "name": "stdout",
     "output_type": "stream",
     "text": [
      "              precision    recall  f1-score   support\n",
      "\n",
      "           0       1.00      1.00      1.00        82\n",
      "           1       1.00      1.00      1.00        55\n",
      "           2       1.00      1.00      1.00        63\n",
      "\n",
      "    accuracy                           1.00       200\n",
      "   macro avg       1.00      1.00      1.00       200\n",
      "weighted avg       1.00      1.00      1.00       200\n",
      "\n"
     ]
    }
   ],
   "source": [
    "print(classification_report(y_test,y_pred))"
   ]
  },
  {
   "cell_type": "code",
   "execution_count": 25,
   "id": "ce1f2f1a",
   "metadata": {
    "execution": {
     "iopub.execute_input": "2024-02-22T16:07:18.900270Z",
     "iopub.status.busy": "2024-02-22T16:07:18.899127Z",
     "iopub.status.idle": "2024-02-22T16:07:19.283741Z",
     "shell.execute_reply": "2024-02-22T16:07:19.282374Z"
    },
    "papermill": {
     "duration": 0.405027,
     "end_time": "2024-02-22T16:07:19.286671",
     "exception": false,
     "start_time": "2024-02-22T16:07:18.881644",
     "status": "completed"
    },
    "tags": []
   },
   "outputs": [],
   "source": [
    "from sklearn.ensemble import AdaBoostClassifier"
   ]
  },
  {
   "cell_type": "code",
   "execution_count": 26,
   "id": "ea531bdb",
   "metadata": {
    "execution": {
     "iopub.execute_input": "2024-02-22T16:07:19.321236Z",
     "iopub.status.busy": "2024-02-22T16:07:19.320728Z",
     "iopub.status.idle": "2024-02-22T16:07:19.326793Z",
     "shell.execute_reply": "2024-02-22T16:07:19.325534Z"
    },
    "papermill": {
     "duration": 0.026536,
     "end_time": "2024-02-22T16:07:19.329498",
     "exception": false,
     "start_time": "2024-02-22T16:07:19.302962",
     "status": "completed"
    },
    "tags": []
   },
   "outputs": [],
   "source": [
    "abc = AdaBoostClassifier(n_estimators=10,\n",
    "    learning_rate=1.0,\n",
    "    algorithm='SAMME.R',\n",
    "    random_state=None,\n",
    "    base_estimator='deprecated')"
   ]
  },
  {
   "cell_type": "code",
   "execution_count": 27,
   "id": "79e3ed60",
   "metadata": {
    "execution": {
     "iopub.execute_input": "2024-02-22T16:07:19.362878Z",
     "iopub.status.busy": "2024-02-22T16:07:19.362438Z",
     "iopub.status.idle": "2024-02-22T16:07:19.408416Z",
     "shell.execute_reply": "2024-02-22T16:07:19.407386Z"
    },
    "papermill": {
     "duration": 0.066076,
     "end_time": "2024-02-22T16:07:19.411133",
     "exception": false,
     "start_time": "2024-02-22T16:07:19.345057",
     "status": "completed"
    },
    "tags": []
   },
   "outputs": [
    {
     "data": {
      "text/html": [
       "<style>#sk-container-id-1 {color: black;background-color: white;}#sk-container-id-1 pre{padding: 0;}#sk-container-id-1 div.sk-toggleable {background-color: white;}#sk-container-id-1 label.sk-toggleable__label {cursor: pointer;display: block;width: 100%;margin-bottom: 0;padding: 0.3em;box-sizing: border-box;text-align: center;}#sk-container-id-1 label.sk-toggleable__label-arrow:before {content: \"▸\";float: left;margin-right: 0.25em;color: #696969;}#sk-container-id-1 label.sk-toggleable__label-arrow:hover:before {color: black;}#sk-container-id-1 div.sk-estimator:hover label.sk-toggleable__label-arrow:before {color: black;}#sk-container-id-1 div.sk-toggleable__content {max-height: 0;max-width: 0;overflow: hidden;text-align: left;background-color: #f0f8ff;}#sk-container-id-1 div.sk-toggleable__content pre {margin: 0.2em;color: black;border-radius: 0.25em;background-color: #f0f8ff;}#sk-container-id-1 input.sk-toggleable__control:checked~div.sk-toggleable__content {max-height: 200px;max-width: 100%;overflow: auto;}#sk-container-id-1 input.sk-toggleable__control:checked~label.sk-toggleable__label-arrow:before {content: \"▾\";}#sk-container-id-1 div.sk-estimator input.sk-toggleable__control:checked~label.sk-toggleable__label {background-color: #d4ebff;}#sk-container-id-1 div.sk-label input.sk-toggleable__control:checked~label.sk-toggleable__label {background-color: #d4ebff;}#sk-container-id-1 input.sk-hidden--visually {border: 0;clip: rect(1px 1px 1px 1px);clip: rect(1px, 1px, 1px, 1px);height: 1px;margin: -1px;overflow: hidden;padding: 0;position: absolute;width: 1px;}#sk-container-id-1 div.sk-estimator {font-family: monospace;background-color: #f0f8ff;border: 1px dotted black;border-radius: 0.25em;box-sizing: border-box;margin-bottom: 0.5em;}#sk-container-id-1 div.sk-estimator:hover {background-color: #d4ebff;}#sk-container-id-1 div.sk-parallel-item::after {content: \"\";width: 100%;border-bottom: 1px solid gray;flex-grow: 1;}#sk-container-id-1 div.sk-label:hover label.sk-toggleable__label {background-color: #d4ebff;}#sk-container-id-1 div.sk-serial::before {content: \"\";position: absolute;border-left: 1px solid gray;box-sizing: border-box;top: 0;bottom: 0;left: 50%;z-index: 0;}#sk-container-id-1 div.sk-serial {display: flex;flex-direction: column;align-items: center;background-color: white;padding-right: 0.2em;padding-left: 0.2em;position: relative;}#sk-container-id-1 div.sk-item {position: relative;z-index: 1;}#sk-container-id-1 div.sk-parallel {display: flex;align-items: stretch;justify-content: center;background-color: white;position: relative;}#sk-container-id-1 div.sk-item::before, #sk-container-id-1 div.sk-parallel-item::before {content: \"\";position: absolute;border-left: 1px solid gray;box-sizing: border-box;top: 0;bottom: 0;left: 50%;z-index: -1;}#sk-container-id-1 div.sk-parallel-item {display: flex;flex-direction: column;z-index: 1;position: relative;background-color: white;}#sk-container-id-1 div.sk-parallel-item:first-child::after {align-self: flex-end;width: 50%;}#sk-container-id-1 div.sk-parallel-item:last-child::after {align-self: flex-start;width: 50%;}#sk-container-id-1 div.sk-parallel-item:only-child::after {width: 0;}#sk-container-id-1 div.sk-dashed-wrapped {border: 1px dashed gray;margin: 0 0.4em 0.5em 0.4em;box-sizing: border-box;padding-bottom: 0.4em;background-color: white;}#sk-container-id-1 div.sk-label label {font-family: monospace;font-weight: bold;display: inline-block;line-height: 1.2em;}#sk-container-id-1 div.sk-label-container {text-align: center;}#sk-container-id-1 div.sk-container {/* jupyter's `normalize.less` sets `[hidden] { display: none; }` but bootstrap.min.css set `[hidden] { display: none !important; }` so we also need the `!important` here to be able to override the default hidden behavior on the sphinx rendered scikit-learn.org. See: https://github.com/scikit-learn/scikit-learn/issues/21755 */display: inline-block !important;position: relative;}#sk-container-id-1 div.sk-text-repr-fallback {display: none;}</style><div id=\"sk-container-id-1\" class=\"sk-top-container\"><div class=\"sk-text-repr-fallback\"><pre>AdaBoostClassifier(n_estimators=10)</pre><b>In a Jupyter environment, please rerun this cell to show the HTML representation or trust the notebook. <br />On GitHub, the HTML representation is unable to render, please try loading this page with nbviewer.org.</b></div><div class=\"sk-container\" hidden><div class=\"sk-item\"><div class=\"sk-estimator sk-toggleable\"><input class=\"sk-toggleable__control sk-hidden--visually\" id=\"sk-estimator-id-1\" type=\"checkbox\" checked><label for=\"sk-estimator-id-1\" class=\"sk-toggleable__label sk-toggleable__label-arrow\">AdaBoostClassifier</label><div class=\"sk-toggleable__content\"><pre>AdaBoostClassifier(n_estimators=10)</pre></div></div></div></div></div>"
      ],
      "text/plain": [
       "AdaBoostClassifier(n_estimators=10)"
      ]
     },
     "execution_count": 27,
     "metadata": {},
     "output_type": "execute_result"
    }
   ],
   "source": [
    "abc.fit(X_train,y_train)"
   ]
  },
  {
   "cell_type": "code",
   "execution_count": 28,
   "id": "93a11271",
   "metadata": {
    "execution": {
     "iopub.execute_input": "2024-02-22T16:07:19.446303Z",
     "iopub.status.busy": "2024-02-22T16:07:19.445569Z",
     "iopub.status.idle": "2024-02-22T16:07:19.455917Z",
     "shell.execute_reply": "2024-02-22T16:07:19.454596Z"
    },
    "papermill": {
     "duration": 0.030907,
     "end_time": "2024-02-22T16:07:19.458841",
     "exception": false,
     "start_time": "2024-02-22T16:07:19.427934",
     "status": "completed"
    },
    "tags": []
   },
   "outputs": [],
   "source": [
    "y_pred1 = abc.predict(X_test)"
   ]
  },
  {
   "cell_type": "code",
   "execution_count": 29,
   "id": "d1805c85",
   "metadata": {
    "execution": {
     "iopub.execute_input": "2024-02-22T16:07:19.492795Z",
     "iopub.status.busy": "2024-02-22T16:07:19.492029Z",
     "iopub.status.idle": "2024-02-22T16:07:19.514247Z",
     "shell.execute_reply": "2024-02-22T16:07:19.512834Z"
    },
    "papermill": {
     "duration": 0.042493,
     "end_time": "2024-02-22T16:07:19.517242",
     "exception": false,
     "start_time": "2024-02-22T16:07:19.474749",
     "status": "completed"
    },
    "tags": []
   },
   "outputs": [
    {
     "name": "stdout",
     "output_type": "stream",
     "text": [
      "              precision    recall  f1-score   support\n",
      "\n",
      "           0       1.00      1.00      1.00        82\n",
      "           1       0.00      0.00      0.00        55\n",
      "           2       0.53      1.00      0.70        63\n",
      "\n",
      "    accuracy                           0.73       200\n",
      "   macro avg       0.51      0.67      0.57       200\n",
      "weighted avg       0.58      0.72      0.63       200\n",
      "\n"
     ]
    },
    {
     "name": "stderr",
     "output_type": "stream",
     "text": [
      "/opt/conda/lib/python3.10/site-packages/sklearn/metrics/_classification.py:1344: UndefinedMetricWarning: Precision and F-score are ill-defined and being set to 0.0 in labels with no predicted samples. Use `zero_division` parameter to control this behavior.\n",
      "  _warn_prf(average, modifier, msg_start, len(result))\n",
      "/opt/conda/lib/python3.10/site-packages/sklearn/metrics/_classification.py:1344: UndefinedMetricWarning: Precision and F-score are ill-defined and being set to 0.0 in labels with no predicted samples. Use `zero_division` parameter to control this behavior.\n",
      "  _warn_prf(average, modifier, msg_start, len(result))\n",
      "/opt/conda/lib/python3.10/site-packages/sklearn/metrics/_classification.py:1344: UndefinedMetricWarning: Precision and F-score are ill-defined and being set to 0.0 in labels with no predicted samples. Use `zero_division` parameter to control this behavior.\n",
      "  _warn_prf(average, modifier, msg_start, len(result))\n"
     ]
    }
   ],
   "source": [
    "print(classification_report(y_test,y_pred1))"
   ]
  },
  {
   "cell_type": "code",
   "execution_count": 30,
   "id": "8e716b63",
   "metadata": {
    "execution": {
     "iopub.execute_input": "2024-02-22T16:07:19.552803Z",
     "iopub.status.busy": "2024-02-22T16:07:19.552407Z",
     "iopub.status.idle": "2024-02-22T16:07:19.557800Z",
     "shell.execute_reply": "2024-02-22T16:07:19.556264Z"
    },
    "papermill": {
     "duration": 0.026884,
     "end_time": "2024-02-22T16:07:19.560406",
     "exception": false,
     "start_time": "2024-02-22T16:07:19.533522",
     "status": "completed"
    },
    "tags": []
   },
   "outputs": [],
   "source": [
    "from sklearn.ensemble import  RandomForestClassifier"
   ]
  },
  {
   "cell_type": "code",
   "execution_count": 31,
   "id": "28c1b66e",
   "metadata": {
    "execution": {
     "iopub.execute_input": "2024-02-22T16:07:19.594546Z",
     "iopub.status.busy": "2024-02-22T16:07:19.594101Z",
     "iopub.status.idle": "2024-02-22T16:07:19.599931Z",
     "shell.execute_reply": "2024-02-22T16:07:19.598750Z"
    },
    "papermill": {
     "duration": 0.025691,
     "end_time": "2024-02-22T16:07:19.602294",
     "exception": false,
     "start_time": "2024-02-22T16:07:19.576603",
     "status": "completed"
    },
    "tags": []
   },
   "outputs": [],
   "source": [
    "rf = RandomForestClassifier(n_estimators=100\n",
    "    ,criterion='gini')"
   ]
  },
  {
   "cell_type": "code",
   "execution_count": 32,
   "id": "3acfa902",
   "metadata": {
    "execution": {
     "iopub.execute_input": "2024-02-22T16:07:19.637139Z",
     "iopub.status.busy": "2024-02-22T16:07:19.636040Z",
     "iopub.status.idle": "2024-02-22T16:07:19.902079Z",
     "shell.execute_reply": "2024-02-22T16:07:19.900761Z"
    },
    "papermill": {
     "duration": 0.286437,
     "end_time": "2024-02-22T16:07:19.904983",
     "exception": false,
     "start_time": "2024-02-22T16:07:19.618546",
     "status": "completed"
    },
    "tags": []
   },
   "outputs": [
    {
     "data": {
      "text/html": [
       "<style>#sk-container-id-2 {color: black;background-color: white;}#sk-container-id-2 pre{padding: 0;}#sk-container-id-2 div.sk-toggleable {background-color: white;}#sk-container-id-2 label.sk-toggleable__label {cursor: pointer;display: block;width: 100%;margin-bottom: 0;padding: 0.3em;box-sizing: border-box;text-align: center;}#sk-container-id-2 label.sk-toggleable__label-arrow:before {content: \"▸\";float: left;margin-right: 0.25em;color: #696969;}#sk-container-id-2 label.sk-toggleable__label-arrow:hover:before {color: black;}#sk-container-id-2 div.sk-estimator:hover label.sk-toggleable__label-arrow:before {color: black;}#sk-container-id-2 div.sk-toggleable__content {max-height: 0;max-width: 0;overflow: hidden;text-align: left;background-color: #f0f8ff;}#sk-container-id-2 div.sk-toggleable__content pre {margin: 0.2em;color: black;border-radius: 0.25em;background-color: #f0f8ff;}#sk-container-id-2 input.sk-toggleable__control:checked~div.sk-toggleable__content {max-height: 200px;max-width: 100%;overflow: auto;}#sk-container-id-2 input.sk-toggleable__control:checked~label.sk-toggleable__label-arrow:before {content: \"▾\";}#sk-container-id-2 div.sk-estimator input.sk-toggleable__control:checked~label.sk-toggleable__label {background-color: #d4ebff;}#sk-container-id-2 div.sk-label input.sk-toggleable__control:checked~label.sk-toggleable__label {background-color: #d4ebff;}#sk-container-id-2 input.sk-hidden--visually {border: 0;clip: rect(1px 1px 1px 1px);clip: rect(1px, 1px, 1px, 1px);height: 1px;margin: -1px;overflow: hidden;padding: 0;position: absolute;width: 1px;}#sk-container-id-2 div.sk-estimator {font-family: monospace;background-color: #f0f8ff;border: 1px dotted black;border-radius: 0.25em;box-sizing: border-box;margin-bottom: 0.5em;}#sk-container-id-2 div.sk-estimator:hover {background-color: #d4ebff;}#sk-container-id-2 div.sk-parallel-item::after {content: \"\";width: 100%;border-bottom: 1px solid gray;flex-grow: 1;}#sk-container-id-2 div.sk-label:hover label.sk-toggleable__label {background-color: #d4ebff;}#sk-container-id-2 div.sk-serial::before {content: \"\";position: absolute;border-left: 1px solid gray;box-sizing: border-box;top: 0;bottom: 0;left: 50%;z-index: 0;}#sk-container-id-2 div.sk-serial {display: flex;flex-direction: column;align-items: center;background-color: white;padding-right: 0.2em;padding-left: 0.2em;position: relative;}#sk-container-id-2 div.sk-item {position: relative;z-index: 1;}#sk-container-id-2 div.sk-parallel {display: flex;align-items: stretch;justify-content: center;background-color: white;position: relative;}#sk-container-id-2 div.sk-item::before, #sk-container-id-2 div.sk-parallel-item::before {content: \"\";position: absolute;border-left: 1px solid gray;box-sizing: border-box;top: 0;bottom: 0;left: 50%;z-index: -1;}#sk-container-id-2 div.sk-parallel-item {display: flex;flex-direction: column;z-index: 1;position: relative;background-color: white;}#sk-container-id-2 div.sk-parallel-item:first-child::after {align-self: flex-end;width: 50%;}#sk-container-id-2 div.sk-parallel-item:last-child::after {align-self: flex-start;width: 50%;}#sk-container-id-2 div.sk-parallel-item:only-child::after {width: 0;}#sk-container-id-2 div.sk-dashed-wrapped {border: 1px dashed gray;margin: 0 0.4em 0.5em 0.4em;box-sizing: border-box;padding-bottom: 0.4em;background-color: white;}#sk-container-id-2 div.sk-label label {font-family: monospace;font-weight: bold;display: inline-block;line-height: 1.2em;}#sk-container-id-2 div.sk-label-container {text-align: center;}#sk-container-id-2 div.sk-container {/* jupyter's `normalize.less` sets `[hidden] { display: none; }` but bootstrap.min.css set `[hidden] { display: none !important; }` so we also need the `!important` here to be able to override the default hidden behavior on the sphinx rendered scikit-learn.org. See: https://github.com/scikit-learn/scikit-learn/issues/21755 */display: inline-block !important;position: relative;}#sk-container-id-2 div.sk-text-repr-fallback {display: none;}</style><div id=\"sk-container-id-2\" class=\"sk-top-container\"><div class=\"sk-text-repr-fallback\"><pre>RandomForestClassifier()</pre><b>In a Jupyter environment, please rerun this cell to show the HTML representation or trust the notebook. <br />On GitHub, the HTML representation is unable to render, please try loading this page with nbviewer.org.</b></div><div class=\"sk-container\" hidden><div class=\"sk-item\"><div class=\"sk-estimator sk-toggleable\"><input class=\"sk-toggleable__control sk-hidden--visually\" id=\"sk-estimator-id-2\" type=\"checkbox\" checked><label for=\"sk-estimator-id-2\" class=\"sk-toggleable__label sk-toggleable__label-arrow\">RandomForestClassifier</label><div class=\"sk-toggleable__content\"><pre>RandomForestClassifier()</pre></div></div></div></div></div>"
      ],
      "text/plain": [
       "RandomForestClassifier()"
      ]
     },
     "execution_count": 32,
     "metadata": {},
     "output_type": "execute_result"
    }
   ],
   "source": [
    "rf.fit(X_train,y_train)"
   ]
  },
  {
   "cell_type": "code",
   "execution_count": 33,
   "id": "fc0ef31f",
   "metadata": {
    "execution": {
     "iopub.execute_input": "2024-02-22T16:07:19.943506Z",
     "iopub.status.busy": "2024-02-22T16:07:19.942704Z",
     "iopub.status.idle": "2024-02-22T16:07:19.959999Z",
     "shell.execute_reply": "2024-02-22T16:07:19.958750Z"
    },
    "papermill": {
     "duration": 0.040898,
     "end_time": "2024-02-22T16:07:19.963036",
     "exception": false,
     "start_time": "2024-02-22T16:07:19.922138",
     "status": "completed"
    },
    "tags": []
   },
   "outputs": [],
   "source": [
    "y_pred2= rf.predict(X_test)"
   ]
  },
  {
   "cell_type": "code",
   "execution_count": 34,
   "id": "a8bde059",
   "metadata": {
    "execution": {
     "iopub.execute_input": "2024-02-22T16:07:19.998215Z",
     "iopub.status.busy": "2024-02-22T16:07:19.997776Z",
     "iopub.status.idle": "2024-02-22T16:07:20.012571Z",
     "shell.execute_reply": "2024-02-22T16:07:20.011628Z"
    },
    "papermill": {
     "duration": 0.035714,
     "end_time": "2024-02-22T16:07:20.015285",
     "exception": false,
     "start_time": "2024-02-22T16:07:19.979571",
     "status": "completed"
    },
    "tags": []
   },
   "outputs": [
    {
     "name": "stdout",
     "output_type": "stream",
     "text": [
      "              precision    recall  f1-score   support\n",
      "\n",
      "           0       1.00      1.00      1.00        82\n",
      "           1       1.00      1.00      1.00        55\n",
      "           2       1.00      1.00      1.00        63\n",
      "\n",
      "    accuracy                           1.00       200\n",
      "   macro avg       1.00      1.00      1.00       200\n",
      "weighted avg       1.00      1.00      1.00       200\n",
      "\n"
     ]
    }
   ],
   "source": [
    "print(classification_report(y_test,y_pred2))"
   ]
  },
  {
   "cell_type": "code",
   "execution_count": null,
   "id": "d6b01010",
   "metadata": {
    "papermill": {
     "duration": 0.016127,
     "end_time": "2024-02-22T16:07:20.048243",
     "exception": false,
     "start_time": "2024-02-22T16:07:20.032116",
     "status": "completed"
    },
    "tags": []
   },
   "outputs": [],
   "source": []
  }
 ],
 "metadata": {
  "kaggle": {
   "accelerator": "none",
   "dataSources": [
    {
     "datasetId": 2636109,
     "sourceId": 4510352,
     "sourceType": "datasetVersion"
    }
   ],
   "dockerImageVersionId": 30626,
   "isGpuEnabled": false,
   "isInternetEnabled": true,
   "language": "python",
   "sourceType": "notebook"
  },
  "kernelspec": {
   "display_name": "Python 3",
   "language": "python",
   "name": "python3"
  },
  "language_info": {
   "codemirror_mode": {
    "name": "ipython",
    "version": 3
   },
   "file_extension": ".py",
   "mimetype": "text/x-python",
   "name": "python",
   "nbconvert_exporter": "python",
   "pygments_lexer": "ipython3",
   "version": "3.10.12"
  },
  "papermill": {
   "default_parameters": {},
   "duration": 13.88439,
   "end_time": "2024-02-22T16:07:20.788724",
   "environment_variables": {},
   "exception": null,
   "input_path": "__notebook__.ipynb",
   "output_path": "__notebook__.ipynb",
   "parameters": {},
   "start_time": "2024-02-22T16:07:06.904334",
   "version": "2.4.0"
  }
 },
 "nbformat": 4,
 "nbformat_minor": 5
}
